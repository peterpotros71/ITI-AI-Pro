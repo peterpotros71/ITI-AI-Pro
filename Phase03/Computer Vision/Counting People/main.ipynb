{
 "cells": [
  {
   "cell_type": "code",
   "execution_count": 6,
   "metadata": {},
   "outputs": [],
   "source": [
    "from utils.yolov3 import YoloPeopleDetector\n",
    "from utils.postprocessor import PostProcessor\n",
    "from utils.visualizer import CameraViz\n",
    "import cv2\n",
    "import itertools\n",
    "import numpy as np\n",
    "import os\n",
    "import sys\n",
    "import glob"
   ]
  },
  {
   "cell_type": "code",
   "execution_count": 10,
   "metadata": {},
   "outputs": [
    {
     "name": "stdout",
     "output_type": "stream",
     "text": [
      "yolov3 loaded successfully\n",
      "\n"
     ]
    }
   ],
   "source": [
    "# init yolo network , postprocessor and visualization mode\n",
    "net = YoloPeopleDetector()\n",
    "net.load_network()\n",
    "\n",
    "winName = 'People Counting and Tracking System'\n",
    "cv2.namedWindow(winName)\n",
    "\n",
    "path = glob.glob(\"C:/Users/hp/Downloads/Crowd_PETS09/S1/L1/Time_13-57/View_004/*.jpg\")\n",
    "\n",
    "point1 = (10,8)\n",
    "point2 = (757, 566)\n",
    "pointTwo_1 = (287,156)\n",
    "pointTwo_2 = (711, 431)\n",
    "pointThree_1 = (27,129)\n",
    "pointThree_2 = (230, 289)\n",
    "\n",
    "img = cv2.imread(path[0])\n",
    "size = (img.shape[1],img.shape[0])\n",
    "vid_writer = cv2.VideoWriter(path[0][-23:-15]+\".mp4\",cv2.VideoWriter_fourcc(*'DIVX'), 15, size)\n",
    "\n",
    "for img in path:\n",
    "    frame = cv2.imread(img)\n",
    "    \n",
    "    #ROI One\n",
    "    r = cv2.rectangle(frame, point1, point2, (100, 50, 200), 5)\n",
    "    #ROI Two\n",
    "    r2 = cv2.rectangle(frame, pointTwo_1, pointTwo_2, (0, 255, 255), 5)\n",
    "    #ROI Three\n",
    "    r3 = cv2.rectangle(frame, pointThree_1, pointThree_2, (255, 0, 255), 5)\n",
    "    \n",
    "    outs = net.predict(frame)\n",
    "    pp = PostProcessor()\n",
    "    indices, boxes, ids, confs = pp.process_preds(frame, outs)\n",
    "    cameraviz = CameraViz(indices, frame, ids, confs, boxes)\n",
    "    cameraviz.draw_pred()\n",
    "\n",
    "    cv2.imshow(winName, frame)\n",
    "    \n",
    "    vid_writer.write(frame)\n",
    "    \n",
    "    if cv2.waitKey(25) & 0xFF == ord('q'):\n",
    "        break\n",
    "    \n",
    "#cap.release()\n",
    "vid_writer.release()\n",
    "cv2.destroyAllWindows()     "
   ]
  },
  {
   "cell_type": "code",
   "execution_count": null,
   "metadata": {},
   "outputs": [],
   "source": []
  }
 ],
 "metadata": {
  "kernelspec": {
   "display_name": "Python 3",
   "language": "python",
   "name": "python3"
  },
  "language_info": {
   "codemirror_mode": {
    "name": "ipython",
    "version": 3
   },
   "file_extension": ".py",
   "mimetype": "text/x-python",
   "name": "python",
   "nbconvert_exporter": "python",
   "pygments_lexer": "ipython3",
   "version": "3.7.3"
  }
 },
 "nbformat": 4,
 "nbformat_minor": 2
}
