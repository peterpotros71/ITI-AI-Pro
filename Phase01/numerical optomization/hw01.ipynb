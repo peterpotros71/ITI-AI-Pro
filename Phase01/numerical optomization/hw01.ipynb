{
 "cells": [
  {
   "cell_type": "code",
   "execution_count": 1,
   "metadata": {},
   "outputs": [],
   "source": [
    "import sympy as sy"
   ]
  },
  {
   "cell_type": "code",
   "execution_count": 2,
   "metadata": {},
   "outputs": [],
   "source": [
    "def myformula(formula, **kwargs):\n",
    "    x = sy.Symbol('x')\n",
    "    x0 = kwargs['x']\n",
    "    print(x0)\n",
    "    expr = sy.sympify(formula)\n",
    "    f_x = expr.evalf(subs=kwargs)\n",
    "    #print(expr)\n",
    "    print(f_x)\n",
    "    f_prime_expr = expr.diff(x)\n",
    "    #print(f_prime_expr)\n",
    "    f_prime_x = f_prime_expr.evalf(subs=kwargs)\n",
    "    print(f_prime_x)\n",
    "    x1 = x0 - (f_x / f_prime_x)\n",
    "    #print(x1)\n",
    "    if f_x < .0000000001 and f_x > -.0000000001:\n",
    "        return x1\n",
    "    else:\n",
    "        return myformula(formula, x=x1)"
   ]
  },
  {
   "cell_type": "code",
   "execution_count": 33,
   "metadata": {},
   "outputs": [
    {
     "name": "stdout",
     "output_type": "stream",
     "text": [
      "1\n",
      "-14.0000000000000\n",
      "-14.0000000000000\n",
      "0\n",
      "1.00000000000000\n",
      "-15.0000000000000\n",
      "0.0666666666666667\n",
      "-0.00414814814814813\n",
      "-15.1200000000000\n",
      "0.0663923182441701\n",
      "-6.02342948883586e-8\n",
      "-15.1195608167228\n",
      "0.0663923142603047\n",
      "-5.57749118953243e-17\n",
      "-15.1195608103421\n"
     ]
    },
    {
     "data": {
      "text/plain": [
       "0.0663923142603047"
      ]
     },
     "execution_count": 33,
     "metadata": {},
     "output_type": "execute_result"
    }
   ],
   "source": [
    "myformula(x=1,formula=\"x**3-x**2-15*x+1\")"
   ]
  },
  {
   "cell_type": "code",
   "execution_count": 4,
   "metadata": {},
   "outputs": [
    {
     "name": "stdout",
     "output_type": "stream",
     "text": [
      "5\n",
      "-13.0000000000000\n",
      "13.0000000000000\n",
      "6.00000000000000\n",
      "9.00000000000000\n",
      "32.0000000000000\n",
      "5.71875000000000\n",
      "0.847869873046875\n",
      "26.0498046875000\n",
      "5.68620196813496\n",
      "0.0107247904784581\n",
      "25.3918509133762\n",
      "5.68577959677987\n",
      "1.79435541226276e-6\n",
      "25.3833545145566\n",
      "5.68577952608963\n",
      "5.41000028899565e-14\n",
      "25.3833530926452\n"
     ]
    },
    {
     "data": {
      "text/plain": [
       "5.68577952608963"
      ]
     },
     "execution_count": 4,
     "metadata": {},
     "output_type": "execute_result"
    }
   ],
   "source": [
    "myformula(x=5,formula=\"x**3-7*x**2+8*x-3\")"
   ]
  },
  {
   "cell_type": "code",
   "execution_count": 29,
   "metadata": {},
   "outputs": [
    {
     "name": "stdout",
     "output_type": "stream",
     "text": [
      "1\n",
      "-0.459697694131860\n",
      "-2.30116867893976\n",
      "0.800232943226195\n",
      "-0.0829788394826493\n",
      "-1.47810813192618\n",
      "0.744094398494345\n",
      "-0.00624505431748105\n",
      "-1.25646670233434\n",
      "0.739124068356762\n",
      "-4.81634541113711e-5\n",
      "-1.23709336368312\n",
      "0.739085135600735\n",
      "-2.95081653714566e-9\n",
      "-1.23694177882754\n",
      "0.739085133215161\n",
      "-3.78971709759438e-17\n",
      "-1.23694176953937\n"
     ]
    },
    {
     "data": {
      "text/plain": [
       "0.739085133215161"
      ]
     },
     "execution_count": 29,
     "metadata": {},
     "output_type": "execute_result"
    }
   ],
   "source": [
    "#x_rad = np.cos(math.radians (x)\n",
    "myformula(x=1,formula=\"x*cos(x)-x**2\")"
   ]
  },
  {
   "cell_type": "code",
   "execution_count": 24,
   "metadata": {},
   "outputs": [
    {
     "data": {
      "text/plain": [
       "0.500000000000000"
      ]
     },
     "execution_count": 24,
     "metadata": {},
     "output_type": "execute_result"
    }
   ],
   "source": [
    "sy.cos(math.radians (60))"
   ]
  },
  {
   "cell_type": "code",
   "execution_count": 30,
   "metadata": {},
   "outputs": [],
   "source": [
    "def grad(formula, **kwargs):\n",
    "    x = sy.Symbol('x')\n",
    "    y = sy.Symbol('y')\n",
    "    z = sy.Symbol('z')\n",
    "    expr = sy.sympify(formula)\n",
    "    f_prime_expr_x = expr.diff(x)\n",
    "    f_prime_expr_y = expr.diff(y)\n",
    "    f_prime_expr_z = expr.diff(z)\n",
    "    print(f_prime_expr_x)\n",
    "    print(f_prime_expr_y)\n",
    "    print(f_prime_expr_z)\n",
    "    f_prime_x = f_prime_expr_x.evalf(subs=kwargs)\n",
    "    print(f_prime_x)\n",
    "    f_prime_y = f_prime_expr_y.evalf(subs=kwargs)\n",
    "    print(f_prime_y)\n",
    "    f_prime_z = f_prime_expr_z.evalf(subs=kwargs)\n",
    "    print(f_prime_z)   "
   ]
  },
  {
   "cell_type": "code",
   "execution_count": 31,
   "metadata": {},
   "outputs": [
    {
     "name": "stdout",
     "output_type": "stream",
     "text": [
      "2*x*y\n",
      "x**2\n",
      "0\n",
      "12.0000000000000\n",
      "9.00000000000000\n",
      "0\n"
     ]
    }
   ],
   "source": [
    "grad(x=3, y=2, formula=\"x**2*y\") "
   ]
  },
  {
   "cell_type": "code",
   "execution_count": 32,
   "metadata": {},
   "outputs": [
    {
     "name": "stdout",
     "output_type": "stream",
     "text": [
      "2*x**2*y*exp(x**2 + z**2 - 5) + y*exp(x**2 + z**2 - 5)\n",
      "x*exp(x**2 + z**2 - 5)\n",
      "2*x*y*z*exp(x**2 + z**2 - 5)\n",
      "9.00000000000000\n",
      "1.00000000000000\n",
      "-12.0000000000000\n"
     ]
    }
   ],
   "source": [
    "grad(x=1, y=3, z=-2, formula=\"x*y*exp(x**2+z**2-5)\") "
   ]
  },
  {
   "cell_type": "code",
   "execution_count": null,
   "metadata": {},
   "outputs": [],
   "source": []
  }
 ],
 "metadata": {
  "kernelspec": {
   "display_name": "Python 3",
   "language": "python",
   "name": "python3"
  },
  "language_info": {
   "codemirror_mode": {
    "name": "ipython",
    "version": 3
   },
   "file_extension": ".py",
   "mimetype": "text/x-python",
   "name": "python",
   "nbconvert_exporter": "python",
   "pygments_lexer": "ipython3",
   "version": "3.7.3"
  }
 },
 "nbformat": 4,
 "nbformat_minor": 2
}
