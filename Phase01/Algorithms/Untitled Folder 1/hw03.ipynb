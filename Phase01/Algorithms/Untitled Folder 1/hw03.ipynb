{
 "cells": [
  {
   "cell_type": "code",
   "execution_count": 1,
   "metadata": {},
   "outputs": [],
   "source": [
    "class Queue:\n",
    "    \n",
    "    def __init__(self):\n",
    "        self.lst = []\n",
    "        \n",
    "    def addqueue(self, x):\n",
    "        self.lst.append(x)\n",
    "\n",
    "    def dequeque(self):\n",
    "        return self.lst.pop(0)\n",
    "\n",
    "    def isempty(self):\n",
    "        return len(self.lst) == 0    "
   ]
  },
  {
   "cell_type": "code",
   "execution_count": 16,
   "metadata": {},
   "outputs": [],
   "source": [
    "class Stack:\n",
    "    \n",
    "    def __init__(self):\n",
    "        self.lst = []\n",
    "        \n",
    "    def addstack(self, x):\n",
    "        self.lst.append(x)\n",
    "\n",
    "    def destack(self):\n",
    "        return self.lst.pop()\n",
    "\n",
    "    def isempty(self):\n",
    "        return len(self.lst) == 0  "
   ]
  },
  {
   "cell_type": "code",
   "execution_count": 171,
   "metadata": {},
   "outputs": [],
   "source": [
    "class Graph:\n",
    "    def __init__(self):\n",
    "        self.graph = {}\n",
    "        self.visited = []\n",
    "        \n",
    "    def add_edge(self,u,v):\n",
    "        if u not in self.graph:\n",
    "            self.graph[u] = [v]\n",
    "        else:\n",
    "            self.graph[u].append(v)\n",
    "            \n",
    "    def bfs(self, source):\n",
    "        queue = Queue()\n",
    "        #self.visited = [False] * len(self.graph) # no of nodes\n",
    "        self.visited = [False] * (max(self.graph) + 1)\n",
    "        self.visited[source] = True\n",
    "        queue.addqueue(source)\n",
    "        #print(self.visited)\n",
    "        #print(queue.lst)\n",
    "        \n",
    "        while len(queue.lst) > 0:\n",
    "            s = queue.dequeque()\n",
    "            print(s)\n",
    "            # add childern of s in queue if not in visited\n",
    "            for child in self.graph[s]:\n",
    "                #print(child)\n",
    "                if self.visited[child] == False:\n",
    "                    queue.addqueue(child)\n",
    "                    self.visited[child] = True\n",
    "                    #print(self.visited)\n",
    "                    #print(queue.lst)\n",
    "                    \n",
    "        return self.visited    \n",
    "       \n",
    "        \n",
    "    def dfs(self, source):\n",
    "        stack = Stack()\n",
    "        #self.visited = [False] * len(self.graph) # no of nodes\n",
    "        self.visited = [False] * (max(self.graph) + 1)\n",
    "        self.visited[source] = True\n",
    "        stack.addstack(source)\n",
    "        #print(self.visited)\n",
    "        #print(stack.lst)\n",
    "        \n",
    "        while len(stack.lst) > 0:\n",
    "            s = stack.destack()\n",
    "            print(s)\n",
    "            # add childern of s in queue if not in visited\n",
    "            for child in self.graph[s]:\n",
    "                #print(child)\n",
    "                if self.visited[child] == False:\n",
    "                    stack.addstack(child)\n",
    "                    self.visited[child] = True\n",
    "                    #print(self.visited)\n",
    "                    #print(stack.lst)\n",
    "                    \n",
    "        return self.visited  "
   ]
  },
  {
   "cell_type": "code",
   "execution_count": 172,
   "metadata": {},
   "outputs": [
    {
     "name": "stdout",
     "output_type": "stream",
     "text": [
      "{0: [1, 2, 3], 1: [4], 2: [3], 3: [4, 5], 4: [0], 5: [2]}\n",
      "6\n"
     ]
    }
   ],
   "source": [
    "graph = Graph()\n",
    "\n",
    "graph.add_edge(0,1)\n",
    "graph.add_edge(0,2)\n",
    "graph.add_edge(0,3)\n",
    "graph.add_edge(1,4)\n",
    "graph.add_edge(2,3)\n",
    "graph.add_edge(3,4)\n",
    "graph.add_edge(3,5)\n",
    "graph.add_edge(4,0)\n",
    "graph.add_edge(5,2)\n",
    "print(graph.graph)\n",
    "print(len(graph.graph))"
   ]
  },
  {
   "cell_type": "code",
   "execution_count": null,
   "metadata": {},
   "outputs": [],
   "source": []
  },
  {
   "cell_type": "code",
   "execution_count": 173,
   "metadata": {},
   "outputs": [
    {
     "name": "stdout",
     "output_type": "stream",
     "text": [
      "0\n",
      "1\n",
      "2\n",
      "3\n",
      "4\n",
      "5\n"
     ]
    },
    {
     "data": {
      "text/plain": [
       "[True, True, True, True, True, True]"
      ]
     },
     "execution_count": 173,
     "metadata": {},
     "output_type": "execute_result"
    }
   ],
   "source": [
    "graph.bfs(0)"
   ]
  },
  {
   "cell_type": "code",
   "execution_count": null,
   "metadata": {},
   "outputs": [],
   "source": []
  },
  {
   "cell_type": "code",
   "execution_count": 174,
   "metadata": {},
   "outputs": [
    {
     "name": "stdout",
     "output_type": "stream",
     "text": [
      "0\n",
      "3\n",
      "5\n",
      "4\n",
      "2\n",
      "1\n"
     ]
    },
    {
     "data": {
      "text/plain": [
       "[True, True, True, True, True, True]"
      ]
     },
     "execution_count": 174,
     "metadata": {},
     "output_type": "execute_result"
    }
   ],
   "source": [
    "graph.dfs(0)"
   ]
  },
  {
   "cell_type": "code",
   "execution_count": null,
   "metadata": {},
   "outputs": [],
   "source": []
  },
  {
   "cell_type": "code",
   "execution_count": 168,
   "metadata": {},
   "outputs": [],
   "source": [
    "queue = Queue()\n",
    "\n",
    "def bfs_rec(v, visited=set()):\n",
    "    #if len(queue.lst) <= 0:\n",
    "     #   return\n",
    "\n",
    "    print(v, end=' ')\n",
    "    visited.add(v)\n",
    "    queue.addqueue(v)\n",
    "    # dequeue front node and print it\n",
    "    v = queue.dequeque()\n",
    "\n",
    "    for child in graph.graph[v]:\n",
    "        if child not in visited:\n",
    "            bfs_rec(child, visited)\n",
    "            #queue.addqueue(child)\n",
    "            #visited[child] = True\n",
    "\n",
    "    #bfs_rec(queue, visited)"
   ]
  },
  {
   "cell_type": "code",
   "execution_count": 169,
   "metadata": {},
   "outputs": [
    {
     "name": "stdout",
     "output_type": "stream",
     "text": [
      "0 1 4 2 3 5 "
     ]
    }
   ],
   "source": [
    "bfs_rec(0, set())"
   ]
  },
  {
   "cell_type": "code",
   "execution_count": null,
   "metadata": {},
   "outputs": [],
   "source": []
  },
  {
   "cell_type": "code",
   "execution_count": 175,
   "metadata": {},
   "outputs": [],
   "source": [
    "stack = Stack() \n",
    "\n",
    "def dfs_rec(v, visited=set()):\n",
    "\n",
    "    # Mark the current node as visited\n",
    "    # and print it\n",
    "    visited.add(v)\n",
    "    print(v, end=' ')\n",
    "    stack.addstack(v)\n",
    "\n",
    "    # Recur for all the vertices\n",
    "    # adjacent to this vertex\n",
    "    for neighbour in graph.graph[v]:\n",
    "        if neighbour not in visited:\n",
    "            BFSUtil(neighbour, visited)"
   ]
  },
  {
   "cell_type": "code",
   "execution_count": 176,
   "metadata": {},
   "outputs": [
    {
     "name": "stdout",
     "output_type": "stream",
     "text": [
      "0 1 4 2 3 5 "
     ]
    }
   ],
   "source": [
    "dfs_rec(0, set())"
   ]
  },
  {
   "cell_type": "code",
   "execution_count": null,
   "metadata": {},
   "outputs": [],
   "source": []
  },
  {
   "cell_type": "code",
   "execution_count": null,
   "metadata": {},
   "outputs": [],
   "source": []
  }
 ],
 "metadata": {
  "kernelspec": {
   "display_name": "Python 3",
   "language": "python",
   "name": "python3"
  },
  "language_info": {
   "codemirror_mode": {
    "name": "ipython",
    "version": 3
   },
   "file_extension": ".py",
   "mimetype": "text/x-python",
   "name": "python",
   "nbconvert_exporter": "python",
   "pygments_lexer": "ipython3",
   "version": "3.7.3"
  }
 },
 "nbformat": 4,
 "nbformat_minor": 2
}
