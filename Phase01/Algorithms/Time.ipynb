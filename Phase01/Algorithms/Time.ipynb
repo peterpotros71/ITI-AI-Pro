{
 "cells": [
  {
   "cell_type": "code",
   "execution_count": 8,
   "metadata": {},
   "outputs": [
    {
     "name": "stdout",
     "output_type": "stream",
     "text": [
      "Start time: 242.2309681\n",
      "End time: 255.9397041\n",
      "-----------------------------------\n",
      "Time of Running :  13.708735999999988\n"
     ]
    }
   ],
   "source": [
    "from timeit import default_timer as timer\n",
    "\n",
    "start = timer()\n",
    "sum=0\n",
    "for i in range(100000000):\n",
    "    sum+=i\n",
    "end = timer()\n",
    "print(\"Start time:\", start)\n",
    "print(\"End time:\",end)\n",
    "print(\"-----------------------------------\")\n",
    "print(\"Time of Running : \",(end - start))\n"
   ]
  },
  {
   "cell_type": "code",
   "execution_count": null,
   "metadata": {},
   "outputs": [],
   "source": [
    "13.256385300000005\n",
    "13.255701799999997\n",
    "12.786222299999991\n",
    "13.708735999999988"
   ]
  },
  {
   "cell_type": "code",
   "execution_count": 11,
   "metadata": {},
   "outputs": [],
   "source": [
    "def f1():\n",
    "    x=10\n",
    "    y=12\n",
    "    Arr=[1,2,3,4]\n",
    "    f2(x,y,Arr)\n",
    "    print(x,y,Arr)\n",
    "def f2(x,y):\n",
    "    x=x+10\n",
    "    y=y+20\n",
    "    Arr.append[\"Shahira\"]\n"
   ]
  },
  {
   "cell_type": "code",
   "execution_count": null,
   "metadata": {},
   "outputs": [],
   "source": []
  }
 ],
 "metadata": {
  "kernelspec": {
   "display_name": "Python 3",
   "language": "python",
   "name": "python3"
  },
  "language_info": {
   "codemirror_mode": {
    "name": "ipython",
    "version": 3
   },
   "file_extension": ".py",
   "mimetype": "text/x-python",
   "name": "python",
   "nbconvert_exporter": "python",
   "pygments_lexer": "ipython3",
   "version": "3.8.5"
  },
  "toc": {
   "base_numbering": 1,
   "nav_menu": {},
   "number_sections": true,
   "sideBar": true,
   "skip_h1_title": false,
   "title_cell": "Table of Contents",
   "title_sidebar": "Contents",
   "toc_cell": false,
   "toc_position": {},
   "toc_section_display": true,
   "toc_window_display": false
  }
 },
 "nbformat": 4,
 "nbformat_minor": 4
}
