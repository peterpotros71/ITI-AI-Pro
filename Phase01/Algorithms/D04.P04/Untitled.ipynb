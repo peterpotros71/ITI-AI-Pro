{
 "cells": [
  {
   "cell_type": "code",
   "execution_count": 10,
   "metadata": {},
   "outputs": [
    {
     "name": "stdout",
     "output_type": "stream",
     "text": [
      "[[0 0 0 0 0 0 0]\n",
      " [0 0 0 0 0 0 0]\n",
      " [0 0 0 0 0 0 0]\n",
      " [0 0 0 0 0 0 0]\n",
      " [0 0 0 0 0 0 0]\n",
      " [0 0 0 0 0 0 0]]\n",
      "[[0 0 0 0 0 0 0]\n",
      " [0 0 0 0 0 0 0]\n",
      " [0 0 1 1 1 1 1]\n",
      " [0 0 1 2 2 2 2]\n",
      " [0 1 1 2 2 2 2]\n",
      " [0 1 1 2 2 3 3]]\n"
     ]
    },
    {
     "data": {
      "text/plain": [
       "3"
      ]
     },
     "execution_count": 10,
     "metadata": {},
     "output_type": "execute_result"
    }
   ],
   "source": [
    "import numpy as np\n",
    "\n",
    "answer_text = \"a d c s b c\"\n",
    "source_text = \"f d c a b\"\n",
    "\n",
    "a_words = answer_text.split()\n",
    "s_words = source_text.split()\n",
    "\n",
    "a_word_count = len(a_words)\n",
    "s_word_count = len(s_words)\n",
    "\n",
    "lcs_matrix = np.zeros((s_word_count + 1, a_word_count + 1), dtype=int)\n",
    "print(lcs_matrix)\n",
    "\n",
    "for s, s_word in enumerate(s_words, 1):\n",
    "    for a, a_word in enumerate(a_words, 1):\n",
    "        if s_word == a_word:\n",
    "            lcs_matrix[s][a] = lcs_matrix[s-1][a-1] + 1\n",
    "        else:\n",
    "            lcs_matrix[s][a] = max(lcs_matrix[s-1][a], lcs_matrix[s][a-1])\n",
    "\n",
    "print(lcs_matrix)            \n",
    "lcs = lcs_matrix[s_word_count][a_word_count]\n",
    "lcs"
   ]
  },
  {
   "cell_type": "code",
   "execution_count": null,
   "metadata": {},
   "outputs": [],
   "source": []
  },
  {
   "cell_type": "code",
   "execution_count": null,
   "metadata": {},
   "outputs": [],
   "source": []
  },
  {
   "cell_type": "code",
   "execution_count": null,
   "metadata": {},
   "outputs": [],
   "source": []
  },
  {
   "cell_type": "code",
   "execution_count": null,
   "metadata": {},
   "outputs": [],
   "source": []
  }
 ],
 "metadata": {
  "kernelspec": {
   "display_name": "Python 3",
   "language": "python",
   "name": "python3"
  },
  "language_info": {
   "codemirror_mode": {
    "name": "ipython",
    "version": 3
   },
   "file_extension": ".py",
   "mimetype": "text/x-python",
   "name": "python",
   "nbconvert_exporter": "python",
   "pygments_lexer": "ipython3",
   "version": "3.7.3"
  }
 },
 "nbformat": 4,
 "nbformat_minor": 2
}
