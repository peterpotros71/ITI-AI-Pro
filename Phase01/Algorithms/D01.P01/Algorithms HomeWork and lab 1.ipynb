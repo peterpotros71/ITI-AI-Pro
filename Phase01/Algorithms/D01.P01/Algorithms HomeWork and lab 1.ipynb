{
 "cells": [
  {
   "cell_type": "markdown",
   "metadata": {},
   "source": [
    "# PETER POTROS NASSIM\n",
    "# G03"
   ]
  },
  {
   "cell_type": "markdown",
   "metadata": {},
   "source": [
    "# Factorial Iterative\n"
   ]
  },
  {
   "cell_type": "code",
   "execution_count": 1,
   "metadata": {},
   "outputs": [
    {
     "data": {
      "text/plain": [
       "120"
      ]
     },
     "execution_count": 1,
     "metadata": {},
     "output_type": "execute_result"
    }
   ],
   "source": [
    "import math\n",
    "def fact(n):\n",
    "    if n < 0:\n",
    "        raise ValueError(\"invalid number\")\n",
    "    res = 1\n",
    "    for i in range(1, n+1):\n",
    "        res *= i\n",
    "    return res\n",
    "\n",
    "fact(5)"
   ]
  },
  {
   "cell_type": "markdown",
   "metadata": {},
   "source": [
    "# Recursive Factorial\n"
   ]
  },
  {
   "cell_type": "code",
   "execution_count": 2,
   "metadata": {},
   "outputs": [
    {
     "data": {
      "text/plain": [
       "120"
      ]
     },
     "execution_count": 2,
     "metadata": {},
     "output_type": "execute_result"
    }
   ],
   "source": [
    "def fac_rec(n):\n",
    "    if n == 1:\n",
    "        return 1\n",
    "    else:\n",
    "        return n * fac_rec(n-1)\n",
    "    return n\n",
    "\n",
    "fac_rec(5)"
   ]
  },
  {
   "cell_type": "markdown",
   "metadata": {},
   "source": [
    "O(n)\n",
    "\n",
    "omega(n)\n",
    "\n",
    "theta(n)"
   ]
  },
  {
   "cell_type": "markdown",
   "metadata": {},
   "source": [
    "# Fibonacci Iterative\n"
   ]
  },
  {
   "cell_type": "code",
   "execution_count": 3,
   "metadata": {},
   "outputs": [
    {
     "data": {
      "text/plain": [
       "[0, 1, 1, 2, 3, 5]"
      ]
     },
     "execution_count": 3,
     "metadata": {},
     "output_type": "execute_result"
    }
   ],
   "source": [
    "def fib(n):\n",
    "    seq = [0,1]\n",
    "    for i in range(2,n+1):\n",
    "        seq.append(seq[i-1] + seq[i-2])\n",
    "    return seq\n",
    "\n",
    "fib(5)"
   ]
  },
  {
   "cell_type": "code",
   "execution_count": 5,
   "metadata": {},
   "outputs": [
    {
     "data": {
      "text/plain": [
       "5"
      ]
     },
     "execution_count": 5,
     "metadata": {},
     "output_type": "execute_result"
    }
   ],
   "source": [
    "def fib(n):\n",
    "    a, b = 0, 1\n",
    "    for i in range(2,n+1):\n",
    "        a, b = b, a+b\n",
    "    return b\n",
    "\n",
    "fib(5)"
   ]
  },
  {
   "cell_type": "markdown",
   "metadata": {},
   "source": [
    "O(n)\n",
    "\n",
    "omega(n)\n",
    "\n",
    "theta(n)"
   ]
  },
  {
   "cell_type": "markdown",
   "metadata": {},
   "source": [
    "# Fibonacci Recursion"
   ]
  },
  {
   "cell_type": "code",
   "execution_count": 40,
   "metadata": {},
   "outputs": [
    {
     "data": {
      "text/plain": [
       "5"
      ]
     },
     "execution_count": 40,
     "metadata": {},
     "output_type": "execute_result"
    }
   ],
   "source": [
    "def fib_rec(n):\n",
    "    if n < 2:\n",
    "        return n\n",
    "    else:\n",
    "        return fib_rec(n-1) + fib_rec(n-2)\n",
    "    return n\n",
    "\n",
    "fib_rec(5)"
   ]
  },
  {
   "cell_type": "markdown",
   "metadata": {},
   "source": [
    "# GCD Iteration"
   ]
  },
  {
   "cell_type": "code",
   "execution_count": 6,
   "metadata": {},
   "outputs": [
    {
     "data": {
      "text/plain": [
       "5"
      ]
     },
     "execution_count": 6,
     "metadata": {},
     "output_type": "execute_result"
    }
   ],
   "source": [
    "def gcd(a,b):\n",
    "    min_num = min(a,b)\n",
    "    max_num = max(a,b)\n",
    "    gcd = -1\n",
    "    if(max_num % min_num == 0):\n",
    "        return min_num \n",
    "    for i in range(min_num//2, -1, -1):\n",
    "        if min_num % i == 0 and max_num % i == 0:\n",
    "            return i   \n",
    "\n",
    "gcd(5,10) "
   ]
  },
  {
   "cell_type": "markdown",
   "metadata": {},
   "source": [
    "O(n)\n",
    "\n",
    "omega(1)"
   ]
  },
  {
   "cell_type": "markdown",
   "metadata": {},
   "source": [
    "# GCD Recursion"
   ]
  },
  {
   "cell_type": "code",
   "execution_count": 12,
   "metadata": {},
   "outputs": [
    {
     "data": {
      "text/plain": [
       "5"
      ]
     },
     "execution_count": 12,
     "metadata": {},
     "output_type": "execute_result"
    }
   ],
   "source": [
    "def gcd_rec(a,b):\n",
    "    if(b==0):\n",
    "        return a\n",
    "    else:\n",
    "        return gcd(b,a%b)\n",
    "\n",
    "gcd(5,10)    "
   ]
  },
  {
   "cell_type": "markdown",
   "metadata": {},
   "source": [
    "# Insertion sort"
   ]
  },
  {
   "cell_type": "code",
   "execution_count": 68,
   "metadata": {},
   "outputs": [
    {
     "name": "stdout",
     "output_type": "stream",
     "text": [
      "[5, 6, 11, 12, 13]\n"
     ]
    }
   ],
   "source": [
    "def insertion_sort(lst):\n",
    "    for i in range(1, len(lst)):\n",
    "        key = lst[i]\n",
    "        j = i-1\n",
    "        while j >=0 and key < lst[j] :\n",
    "            lst[j+1] = lst[j]\n",
    "            j -= 1\n",
    "        lst[j+1] = key\n",
    "    return lst    \n",
    "        \n",
    "lst = [12, 11, 13, 5, 6]\n",
    "sorted_lst = insertion_sort(lst)\n",
    "print (sorted_lst)"
   ]
  },
  {
   "cell_type": "markdown",
   "metadata": {},
   "source": [
    "O(n^2)\n",
    "\n",
    "omega(n)"
   ]
  },
  {
   "cell_type": "markdown",
   "metadata": {},
   "source": [
    "# Bubble sort"
   ]
  },
  {
   "cell_type": "code",
   "execution_count": 76,
   "metadata": {},
   "outputs": [
    {
     "name": "stdout",
     "output_type": "stream",
     "text": [
      "[11, 12, 22, 25, 34, 64, 90]\n"
     ]
    }
   ],
   "source": [
    "def bubble_sort(lst):\n",
    "    for i in range(1,len(lst)):\n",
    "        for j in range(1, len(lst) - i):\n",
    "            if lst[j] < lst[j - 1] :\n",
    "                lst[j-1], lst[j] = lst[j], lst[j-1]\n",
    "    return lst   \n",
    "\n",
    "lst = [64, 34, 25, 12, 22, 11, 90]  \n",
    "sorted_list = bubbleSort(lst)\n",
    "print(sorted_list) "
   ]
  },
  {
   "cell_type": "code",
   "execution_count": null,
   "metadata": {},
   "outputs": [],
   "source": [
    "O(n^2)\n",
    "\n",
    "omega(n^2)\n",
    "\n",
    "theta(n(n-1)/2)"
   ]
  },
  {
   "cell_type": "markdown",
   "metadata": {},
   "source": [
    "# Binary Search Iterative"
   ]
  },
  {
   "cell_type": "code",
   "execution_count": 60,
   "metadata": {},
   "outputs": [
    {
     "name": "stdout",
     "output_type": "stream",
     "text": [
      "low 0\n",
      "mid 2\n",
      "high 4\n"
     ]
    },
    {
     "data": {
      "text/plain": [
       "2"
      ]
     },
     "execution_count": 60,
     "metadata": {},
     "output_type": "execute_result"
    }
   ],
   "source": [
    "def bin_search(sorted_lst, key):\n",
    "    low = 0\n",
    "    high = len(sorted_lst) -1\n",
    "    while high >= low:\n",
    "        mid = (low + high) // 2\n",
    "        print(\"low\",low)\n",
    "        print(\"mid\", mid)\n",
    "        print(\"high\",high)\n",
    "        if sorted_lst[mid] > key:\n",
    "            high = mid - 1\n",
    "        elif sorted_lst[mid] < key:\n",
    "            low = mid + 1\n",
    "        else:\n",
    "            return mid\n",
    "    return \"not found\"   \n",
    "            \n",
    "bin_search([1,2,5,7,8], 5)     "
   ]
  },
  {
   "cell_type": "markdown",
   "metadata": {},
   "source": [
    "O(log(n))\n",
    "\n",
    "omega(1)\n"
   ]
  },
  {
   "cell_type": "markdown",
   "metadata": {},
   "source": [
    "# Binary Search Recursive"
   ]
  },
  {
   "cell_type": "code",
   "execution_count": 43,
   "metadata": {},
   "outputs": [
    {
     "name": "stdout",
     "output_type": "stream",
     "text": [
      "low 0\n",
      "high 4\n",
      "mid 2\n",
      "low 3\n",
      "high 4\n",
      "mid 3\n"
     ]
    },
    {
     "data": {
      "text/plain": [
       "3"
      ]
     },
     "execution_count": 43,
     "metadata": {},
     "output_type": "execute_result"
    }
   ],
   "source": [
    "def bin_search_rec(sorted_lst, key, low, high):\n",
    "    print(\"low\",low)\n",
    "    print(\"high\",high)\n",
    "    if high >= low:\n",
    "        mid = (low + high) // 2\n",
    "        print(\"mid\", mid)\n",
    "        if sorted_lst[mid] == key:\n",
    "            return mid\n",
    "        elif sorted_lst[mid] > key:\n",
    "            high = mid - 1\n",
    "            #mid = (low + high) // 2\n",
    "            return bin_search_rec(sorted_lst, key, low, high)\n",
    "        else:\n",
    "            low = mid + 1\n",
    "            #mid = (low + high) // 2 \n",
    "            return bin_search_rec(sorted_lst, key, low, high)\n",
    "    else:\n",
    "        return \"not found\"\n",
    "\n",
    "sorted_lst = [1,2,5,7,8]    \n",
    "bin_search_rec(sorted_lst ,7, 0, len(sorted_lst)-1)     "
   ]
  },
  {
   "cell_type": "markdown",
   "metadata": {},
   "source": [
    "\n",
    "# Linear Search iterative"
   ]
  },
  {
   "cell_type": "code",
   "execution_count": 20,
   "metadata": {},
   "outputs": [
    {
     "data": {
      "text/plain": [
       "4"
      ]
     },
     "execution_count": 20,
     "metadata": {},
     "output_type": "execute_result"
    }
   ],
   "source": [
    "def lin_serach(lst, key):\n",
    "    for i in range(len(lst)):\n",
    "        if lst[i] == key:\n",
    "            return i\n",
    "    return -1\n",
    "lin_serach([1,2,5,1,7], 7)    "
   ]
  },
  {
   "cell_type": "markdown",
   "metadata": {},
   "source": [
    "O(n)\n",
    "\n",
    "omega(1)\n"
   ]
  },
  {
   "cell_type": "markdown",
   "metadata": {},
   "source": [
    "# Linear Search Recursive\n",
    "\n",
    "\n"
   ]
  },
  {
   "cell_type": "code",
   "execution_count": 63,
   "metadata": {},
   "outputs": [
    {
     "data": {
      "text/plain": [
       "'not found'"
      ]
     },
     "execution_count": 63,
     "metadata": {},
     "output_type": "execute_result"
    }
   ],
   "source": [
    "def lin_search_rec(lst, key, low=0):\n",
    "    high = len(lst)\n",
    "    if high <= low:\n",
    "        return \"not found\"\n",
    "    if lst[low] == key:\n",
    "        return low\n",
    "    else:\n",
    "        return lin_search_rec(lst, key, low+1)\n",
    "    \n",
    "lin_search_rec([1,2,5,1,7], 8)    "
   ]
  },
  {
   "cell_type": "code",
   "execution_count": null,
   "metadata": {},
   "outputs": [],
   "source": []
  }
 ],
 "metadata": {
  "kernelspec": {
   "display_name": "Python 3",
   "language": "python",
   "name": "python3"
  },
  "toc": {
   "base_numbering": 1,
   "nav_menu": {},
   "number_sections": true,
   "sideBar": true,
   "skip_h1_title": false,
   "title_cell": "Table of Contents",
   "title_sidebar": "Contents",
   "toc_cell": false,
   "toc_position": {},
   "toc_section_display": true,
   "toc_window_display": false
  }
 },
 "nbformat": 4,
 "nbformat_minor": 4
}
