{
 "cells": [
  {
   "cell_type": "markdown",
   "metadata": {},
   "source": [
    "# Big-O Notation: Plots\n",
    "Adapted from[https://www.coursera.org/learn/algorithmic-toolbox]\n",
    "\n",
    "The purpose of this notebook is to visualize the order of growth of some functions.Use the notebook to plug in you favorite functions and/or change the ranges below and see what happens. "
   ]
  },
  {
   "cell_type": "markdown",
   "metadata": {},
   "source": [
    "## Definitions\n",
    "Consider two functions $f(n)$ and $g(n)$ that are defined for all positive integers and take on non-negative real values. (Examples: $\\log n$, $\\sqrt{n}$, $n\\log n$, $n^3$, $2^n$). We say that **$f$ grows slower than $g$** and write $f \\prec g$, if $\\frac{f(n)}{g(n)}$ goes to 0 as $n$ grows. We say that **$f$ grows no faster than $g$** and write $f \\preceq g$, if there exists a constant $c$ such that $f(n) \\le c \\cdot g(n)$ for all $n$.\n",
    "\n",
    "Three important remarks.\n",
    "1. $f \\prec g$ is the same as $f=o(g)$ (small-o) and $f \\preceq g$ is the same as $f=O(g)$ (big-O). In this notebook, we've decided to stick to the $\\preceq$ notation, since many learners find this notation more intuitive. One source of confusion is the following: many learners are confused by the statement like \"$5n^2=O(n^3)$\". When seeing such a statement, they claim: \"But this is wrong! In fact, $5n^2=O(n^2)$!\" At the same time, both these statements are true: $5n^2=O(n^3)$ and also $5n^2=O(n^2)$. They both just say that $5n^2$ grows no faster than both $n^2$ and $n^3$. In fact, $5n^2$ grows no faster than $n^2$ and grows slower than $n^3$. In $\\preceq$ notation, this is expressed as follows: $5n^2 \\preceq n^2$ and $5n^2 \\preceq n^3$. This resembles comparing integers: if $x=2$, then both statements $x \\le 2$ and $x \\le 3$ are correct.\n",
    "2. Note that if $f \\prec g$, then also $f \\preceq g$. In plain English: if $f$ grows slower than $g$, then $f$ certainly grows no faster than $g$.\n",
    "3. Note that we need to use a fancy $\\preceq$ symbol instead of the standard less-or-equal sign $\\le$, since the latter one is typically used as follows: $f \\le g$ if $f(n) \\le g(n)$ for all $n$. Hence, for example, $5n^2 \\not \\le n^2$, but $5n^2 \\preceq n^2$. "
   ]
  },
  {
   "cell_type": "code",
   "execution_count": 3,
   "metadata": {},
   "outputs": [],
   "source": [
    "import matplotlib.pyplot as plt\n",
    "import numpy as np\n",
    "import math"
   ]
  },
  {
   "cell_type": "markdown",
   "metadata": {},
   "source": [
    "The following Code It shows the plot of a function $7n^2+6n+5$ in the range $1 \\le n \\le 100$. "
   ]
  },
  {
   "cell_type": "code",
   "execution_count": 4,
   "metadata": {},
   "outputs": [
    {
     "data": {
      "image/png": "[encoded data removed]",
      "text/plain": [
       "<Figure size 432x288 with 1 Axes>"
      ]
     },
     "metadata": {
      "needs_background": "light"
     },
     "output_type": "display_data"
    }
   ],
   "source": [
    "n = np.linspace(1, 100)\n",
    "plt.plot(n, 7 * n * n + 6 * n + 5)\n",
    "plt.show()"
   ]
  },
  {
   "cell_type": "markdown",
   "metadata": {},
   "source": [
    "Now, let us add a function $20n$ to the previous example to visualize that $20n$ grows slower than $7n^2+6n+5$."
   ]
  },
  {
   "cell_type": "markdown",
   "metadata": {},
   "source": [
    "## Question One"
   ]
  },
  {
   "cell_type": "markdown",
   "metadata": {},
   "source": [
    "Now, let us add a function $20n$ to the previous example to visualize that $20n$ grows slower than $7n^2+6n+5$."
   ]
  },
  {
   "cell_type": "code",
   "execution_count": null,
   "metadata": {},
   "outputs": [],
   "source": []
  },
  {
   "cell_type": "markdown",
   "metadata": {},
   "source": []
  },
  {
   "cell_type": "markdown",
   "metadata": {},
   "source": [
    "## Question 2"
   ]
  },
  {
   "cell_type": "markdown",
   "metadata": {},
   "source": [
    "Smaller terms can be omitted\n",
    "\n",
    "Consider $7n^2+6n+5$ again. Both $6n$ and $5$ grow slower than $7n^2$. For this reason, they can be omitted. To visualize this, let's first plot the functions $7n^2+6n+5$ and $7n^2$ for $1 \\le n \\le 5$."
   ]
  },
  {
   "cell_type": "code",
   "execution_count": null,
   "metadata": {},
   "outputs": [],
   "source": []
  },
  {
   "cell_type": "markdown",
   "metadata": {},
   "source": [
    "## Question 3"
   ]
  },
  {
   "cell_type": "markdown",
   "metadata": {},
   "source": [
    "As expected, $7n^2+6n+5$ is always larger than $7n^2$ (as $n$ is positive). Next, we plot the same two functions but for $1 \\le n \\le 100$."
   ]
  },
  {
   "cell_type": "code",
   "execution_count": null,
   "metadata": {},
   "outputs": [],
   "source": []
  },
  {
   "cell_type": "markdown",
   "metadata": {},
   "source": [
    "We see that as $n$ grows, the contribution of $6n+5$ becomes more and more negligible."
   ]
  },
  {
   "cell_type": "markdown",
   "metadata": {},
   "source": [
    "Another way of justifying this, is to plot the function $\\frac{7n^2+6n+5}{7n^2}$."
   ]
  },
  {
   "cell_type": "code",
   "execution_count": 37,
   "metadata": {},
   "outputs": [
    {
     "data": {
      "image/png": "[encoded data removed]",
      "text/plain": [
       "<Figure size 432x288 with 1 Axes>"
      ]
     },
     "metadata": {
      "needs_background": "light"
     },
     "output_type": "display_data"
    }
   ],
   "source": [
    "x = np.linspace(1, 100)\n",
    "plt.plot(n, (7 * n * n + 6 * n + 5)/(7 * n * n))\n",
    "plt.show()"
   ]
  },
  {
   "cell_type": "markdown",
   "metadata": {},
   "source": [
    "As we see, as $n$ grows, the fraction approaches 1."
   ]
  },
  {
   "cell_type": "markdown",
   "metadata": {},
   "source": [
    "## Question 4\n",
    "Which function is asymptotically bigger(grow faster)\n",
    "arrange the following functions from smaller to larger\n",
    "plot the functions\n",
    "sqrt,log,n ,n^2,n^3, 2^n, n^n "
   ]
  },
  {
   "cell_type": "markdown",
   "metadata": {},
   "source": []
  },
  {
   "cell_type": "code",
   "execution_count": null,
   "metadata": {},
   "outputs": [],
   "source": []
  },
  {
   "cell_type": "markdown",
   "metadata": {},
   "source": [
    "Let's now see what happens on a bigger scale: instead of the range $1 \\le n \\le 10$, consider the range $1 \\le n \\le 100$."
   ]
  },
  {
   "cell_type": "code",
   "execution_count": null,
   "metadata": {},
   "outputs": [],
   "source": []
  },
  {
   "cell_type": "code",
   "execution_count": null,
   "metadata": {},
   "outputs": [],
   "source": []
  },
  {
   "cell_type": "markdown",
   "metadata": {},
   "source": [
    "## Question 5\n",
    "Any polynomial grows slower than any exponential\n",
    "\n",
    "Let's plot $n^4$ and $2^n$ in the range $1 \\le n \\le 10$."
   ]
  },
  {
   "cell_type": "code",
   "execution_count": null,
   "metadata": {},
   "outputs": [],
   "source": []
  },
  {
   "cell_type": "markdown",
   "metadata": {},
   "source": [
    "## Question 6\n",
    "\n",
    "As the final exercise, try to find the value of $n$ where $n^{0.1}$ becomes larger than $(\\log n)^5$."
   ]
  },
  {
   "cell_type": "code",
   "execution_count": null,
   "metadata": {
    "scrolled": true
   },
   "outputs": [],
   "source": []
  },
  {
   "cell_type": "code",
   "execution_count": null,
   "metadata": {},
   "outputs": [],
   "source": []
  }
 ],
 "metadata": {
  "kernelspec": {
   "display_name": "Python 3",
   "language": "python",
   "name": "python3"
  },
  "language_info": {
   "codemirror_mode": {
    "name": "ipython",
    "version": 3
   },
   "file_extension": ".py",
   "mimetype": "text/x-python",
   "name": "python",
   "nbconvert_exporter": "python",
   "pygments_lexer": "ipython3",
   "version": "3.8.5"
  },
  "toc": {
   "base_numbering": 1,
   "nav_menu": {},
   "number_sections": true,
   "sideBar": true,
   "skip_h1_title": false,
   "title_cell": "Table of Contents",
   "title_sidebar": "Contents",
   "toc_cell": false,
   "toc_position": {},
   "toc_section_display": true,
   "toc_window_display": false
  }
 },
 "nbformat": 4,
 "nbformat_minor": 4
}
