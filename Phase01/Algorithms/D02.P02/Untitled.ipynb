{
 "cells": [
  {
   "cell_type": "code",
   "execution_count": 27,
   "metadata": {},
   "outputs": [
    {
     "name": "stdout",
     "output_type": "stream",
     "text": [
      "n 6\n",
      "k 1\n",
      "killed 2\n",
      "[]\n",
      "n 5\n",
      "k 3\n",
      "killed 5\n",
      "[2]\n",
      "n 4\n",
      "k 5\n",
      "killed 8\n",
      "[2, 5]\n",
      "n 3\n",
      "k 1\n",
      "killed 3\n",
      "[2, 5, 8]\n",
      "n 2\n",
      "k 3\n",
      "killed 6\n",
      "[2, 5, 8, 3]\n",
      "n 1\n",
      "k 1\n",
      "killed 3\n",
      "[2, 5, 8, 3, 6]\n"
     ]
    },
    {
     "data": {
      "text/plain": [
       "1"
      ]
     },
     "execution_count": 27,
     "metadata": {},
     "output_type": "execute_result"
    }
   ],
   "source": [
    "def kill(n, k=1, killed=2, arr=[]):\n",
    "    print(\"n\",n)\n",
    "    print(\"k\",k)\n",
    "    print(\"killed\",killed)\n",
    "    print(arr)\n",
    "    if n == 1:\n",
    "        return k\n",
    "    arr.append(killed)\n",
    "    if k in arr:\n",
    "        k += 1\n",
    "        killed += 1\n",
    "    if killed in arr:\n",
    "        killed += 1    \n",
    "    if k >= n:\n",
    "        k = 1\n",
    "        return kill(n-1, k, killed=k+2, arr=arr)\n",
    "    return kill(n-1, k+2, killed+2, arr=arr)\n",
    "\n",
    "kill(6)"
   ]
  },
  {
   "cell_type": "code",
   "execution_count": null,
   "metadata": {},
   "outputs": [],
   "source": []
  }
 ],
 "metadata": {
  "kernelspec": {
   "display_name": "Python 3",
   "language": "python",
   "name": "python3"
  },
  "language_info": {
   "codemirror_mode": {
    "name": "ipython",
    "version": 3
   },
   "file_extension": ".py",
   "mimetype": "text/x-python",
   "name": "python",
   "nbconvert_exporter": "python",
   "pygments_lexer": "ipython3",
   "version": "3.7.3"
  }
 },
 "nbformat": 4,
 "nbformat_minor": 2
}
