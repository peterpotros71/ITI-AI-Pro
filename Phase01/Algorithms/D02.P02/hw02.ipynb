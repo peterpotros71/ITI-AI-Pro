{
 "cells": [
  {
   "cell_type": "markdown",
   "metadata": {},
   "source": [
    "### Peter Potros Nassim\n",
    "### G03"
   ]
  },
  {
   "cell_type": "code",
   "execution_count": 3,
   "metadata": {},
   "outputs": [],
   "source": [
    "def Knapsack (arr, max_wt):\n",
    "    price = 0\n",
    "    new_items = []\n",
    "    for item in items:\n",
    "        new_items.append([(item[0]/item[1]), item[1]])\n",
    "    new_items = sorted(new_items, reverse=True)    \n",
    "    print(new_items)\n",
    "    for item in new_items:\n",
    "        if item[1] < max_wt:\n",
    "            max_wt -= item[1]\n",
    "            price += item[0] * item[1]\n",
    "        else:\n",
    "            price += max_wt * (item[0])\n",
    "            break\n",
    "    print(price)  "
   ]
  },
  {
   "cell_type": "code",
   "execution_count": 4,
   "metadata": {},
   "outputs": [
    {
     "name": "stdout",
     "output_type": "stream",
     "text": [
      "[[6.0, 10], [5.0, 20], [4.0, 30], [2.0, 20]]\n",
      "240.0\n"
     ]
    }
   ],
   "source": [
    "arr = [[100,20], [120,30],[60,10], [40, 20]]\n",
    "max_wt = 50\n",
    "Knapsack (arr, max_wt)"
   ]
  },
  {
   "cell_type": "code",
   "execution_count": null,
   "metadata": {},
   "outputs": [],
   "source": []
  }
 ],
 "metadata": {
  "kernelspec": {
   "display_name": "Python 3",
   "language": "python",
   "name": "python3"
  },
  "language_info": {
   "codemirror_mode": {
    "name": "ipython",
    "version": 3
   },
   "file_extension": ".py",
   "mimetype": "text/x-python",
   "name": "python",
   "nbconvert_exporter": "python",
   "pygments_lexer": "ipython3",
   "version": "3.7.3"
  }
 },
 "nbformat": 4,
 "nbformat_minor": 2
}
