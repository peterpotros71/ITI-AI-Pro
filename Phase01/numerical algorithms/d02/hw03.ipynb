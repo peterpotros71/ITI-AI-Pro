{
 "cells": [
  {
   "cell_type": "code",
   "execution_count": 4,
   "metadata": {},
   "outputs": [],
   "source": [
    "import numpy as np\n",
    "from numpy.linalg import inv, solve, norm, eig"
   ]
  },
  {
   "cell_type": "code",
   "execution_count": 14,
   "metadata": {},
   "outputs": [],
   "source": [
    "A = np.array([\n",
    "    [4., -1., -1., 0., 0., 0., 0., 0., 0., 0.],\n",
    "    [-1., 5., -1., -1., -1., 0., 0., 0., 0., 0.],\n",
    "    [-1., -1., 5., 0., -1., -1., 0., 0., 0., 0.],\n",
    "    [0., -1., 0., 5., -1., 0., -1., -1., 0., 0.],\n",
    "    [0., -1., -1., -1., 6., -1., 0., -1., -1., 0.],\n",
    "    [0., 0., -1., 0., -1., 5., 0., 0., -1., -1.],\n",
    "    [0., 0., 0., -1., 0., 0., 4., -1., 0., 0.],\n",
    "    [0., 0., 0., -1., -1., 0., -1., 5., -1., 0.],\n",
    "    [0., 0., 0., 0., -1., -1., 0., -1., 5., -1.],\n",
    "    [0., 0., 0., 0., 0., -1., 0., 0., -1., 4.],\n",
    "])\n",
    "\n",
    "b = np.array([0., 0., 0., 0., 0., 0., 1., 1., 1., 1.])"
   ]
  },
  {
   "cell_type": "code",
   "execution_count": 24,
   "metadata": {},
   "outputs": [
    {
     "name": "stdout",
     "output_type": "stream",
     "text": [
      "69\n",
      "[0.09019607 0.18039214 0.18039214 0.2980392  0.33333332 0.2980392\n",
      " 0.45490195 0.52156861 0.52156861 0.45490195]\n"
     ]
    }
   ],
   "source": [
    "def jacobi(A, b, tolerance):\n",
    "    xk_1 = np.zeros_like(b)\n",
    "    D = np.diag(A)\n",
    "    #print(D)\n",
    "    #print(np.diag(D))\n",
    "    LplusU = A - np.diag(D)\n",
    "    #print(LplusU)\n",
    "    \n",
    "    x_k = (b - (LplusU @ xk_1)) / D\n",
    "    #print(x_k)\n",
    "    iter = 0\n",
    "    while (norm(x_k - xk_1, 2)/norm(x_k, 2)) > tolerance:\n",
    "        iter += 1\n",
    "        xk_1 = x_k\n",
    "        x_k = (b - (LplusU @ xk_1)) / D\n",
    "        #print(x_k)\n",
    "     \n",
    "    print(iter)\n",
    "    return x_k\n",
    "\n",
    "print(jacobi(A, b, 1e-8))"
   ]
  },
  {
   "cell_type": "code",
   "execution_count": 23,
   "metadata": {},
   "outputs": [
    {
     "name": "stdout",
     "output_type": "stream",
     "text": [
      "37\n"
     ]
    },
    {
     "data": {
      "text/plain": [
       "array([0.09019607, 0.18039215, 0.18039215, 0.29803921, 0.33333333,\n",
       "       0.29803921, 0.45490196, 0.52156862, 0.52156862, 0.45490196])"
      ]
     },
     "execution_count": 23,
     "metadata": {},
     "output_type": "execute_result"
    }
   ],
   "source": [
    "def siedel(A, b, tolerance):\n",
    "    xk_1 = np.zeros_like(b) # initial solution (zeros)\n",
    "    LD = np.tril(A)\n",
    "    U = A - LD\n",
    "    #print(LD)\n",
    "    #print(U)\n",
    "    LDinv = inv(LD)\n",
    "    \n",
    "    x_k = LDinv @ (b - U@xk_1)\n",
    "    #print(x_k)\n",
    "    iter = 0\n",
    "    while (norm(x_k - xk_1, 2)/norm(x_k, 2)) > tolerance:\n",
    "        iter += 1\n",
    "        xk_1 = x_k\n",
    "        x_k = LDinv @ (b - U@xk_1)\n",
    "        #print(x_k)\n",
    "        \n",
    "    #for i in range(N):\n",
    "     #   x = LDinv @ (b - U@x)\n",
    "    print(iter)    \n",
    "    return x_k\n",
    "\n",
    "siedel(A, b, 1e-8)"
   ]
  },
  {
   "cell_type": "markdown",
   "metadata": {},
   "source": [
    "#### Gauss-Seidel method converges faster than Jacobi's method "
   ]
  },
  {
   "cell_type": "code",
   "execution_count": null,
   "metadata": {},
   "outputs": [],
   "source": []
  },
  {
   "cell_type": "markdown",
   "metadata": {},
   "source": [
    "# Q2"
   ]
  },
  {
   "cell_type": "code",
   "execution_count": 21,
   "metadata": {},
   "outputs": [],
   "source": [
    "def power_method(A):\n",
    "    x = np.random.rand(A.shape[0])\n",
    "    for i in range(100):\n",
    "        x = (A @ x) / norm(x,2)\n",
    "\n",
    "    lmbda = ((A@x) / x)[0]\n",
    "    v = x / lmbda\n",
    "    return lmbda, v"
   ]
  },
  {
   "cell_type": "code",
   "execution_count": 22,
   "metadata": {},
   "outputs": [
    {
     "name": "stdout",
     "output_type": "stream",
     "text": [
      "0.8846461771193157\n",
      "[0.86227396 0.48735527 0.13772604]\n",
      "[ 0.88464618+0.j        -0.44232309+0.2948714j -0.44232309-0.2948714j]\n",
      "[[-0.86227396+0.j          0.69332593+0.j          0.69332593-0.j        ]\n",
      " [-0.48735527+0.j         -0.54259608-0.36171765j -0.54259608+0.36171765j]\n",
      " [-0.13772604+0.j          0.11796101+0.28307982j  0.11796101-0.28307982j]]\n"
     ]
    }
   ],
   "source": [
    "A = np.array([\n",
    "    [0., 1., 2.],\n",
    "    [.5, 0., 0.],\n",
    "    [0., .25, 0.]])\n",
    "lamda , v = power_method(A)\n",
    "print(lamda)\n",
    "print(v)\n",
    "l, v = eig(A)\n",
    "print(l)\n",
    "print(v)"
   ]
  },
  {
   "cell_type": "code",
   "execution_count": 23,
   "metadata": {},
   "outputs": [
    {
     "name": "stdout",
     "output_type": "stream",
     "text": [
      "2.0\n",
      "[0.96836405 0.24209101 0.06052275]\n",
      "[ 2.         -0.99999998 -1.00000002]\n",
      "[[-0.96836405  0.87287156 -0.87287156]\n",
      " [-0.24209101 -0.43643579  0.43643578]\n",
      " [-0.06052275  0.2182179  -0.21821788]]\n"
     ]
    }
   ],
   "source": [
    "A = np.array([\n",
    "    [0., 6., 8.],\n",
    "    [.5, 0., 0.],\n",
    "    [0., .5, 0.]])\n",
    "lamda , v = power_method(A)\n",
    "print(lamda)\n",
    "print(v)\n",
    "l, v = eig(A)\n",
    "print(l)\n",
    "print(v)"
   ]
  },
  {
   "cell_type": "code",
   "execution_count": null,
   "metadata": {},
   "outputs": [],
   "source": []
  }
 ],
 "metadata": {
  "kernelspec": {
   "display_name": "Python 3",
   "language": "python",
   "name": "python3"
  },
  "language_info": {
   "codemirror_mode": {
    "name": "ipython",
    "version": 3
   },
   "file_extension": ".py",
   "mimetype": "text/x-python",
   "name": "python",
   "nbconvert_exporter": "python",
   "pygments_lexer": "ipython3",
   "version": "3.7.3"
  }
 },
 "nbformat": 4,
 "nbformat_minor": 2
}
