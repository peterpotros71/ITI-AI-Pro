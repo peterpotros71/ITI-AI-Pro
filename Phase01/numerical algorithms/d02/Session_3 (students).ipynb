{
 "cells": [
  {
   "cell_type": "markdown",
   "metadata": {},
   "source": [
    "# Session 3 - Solving System of Linear Equations"
   ]
  },
  {
   "cell_type": "code",
   "execution_count": 1,
   "metadata": {},
   "outputs": [],
   "source": [
    "import numpy as np\n",
    "\n",
    "A = np.array([\n",
    "    [10., -1., 2., 0.],\n",
    "    [-1., 11., -1., 3.],\n",
    "    [2., -1., 10., -1.],\n",
    "    [0., 3., -1., 8.]\n",
    "])\n",
    "\n",
    "b = np.array([6., 25., -11., 15.])"
   ]
  },
  {
   "cell_type": "markdown",
   "metadata": {},
   "source": [
    "## Jacobi's Method\n",
    "\n",
    "$$ x^{(k)} = D^{-1}b - D^{-1} (L+U)x^{(k-1)}$$\n",
    "$$ x^{(k)} = D^{-1}(b - (L+U)x^{(k-1)}) $$\n",
    "\n",
    "Stop criteria = $||x^{(k)} - x^{(k-1)} || / ||x^{(k)}|| < tolerance$"
   ]
  },
  {
   "cell_type": "code",
   "execution_count": 12,
   "metadata": {},
   "outputs": [
    {
     "name": "stdout",
     "output_type": "stream",
     "text": [
      "8\n",
      "[1. 1. 1. 1. 1. 1. 1. 1. 1. 1.]\n"
     ]
    }
   ],
   "source": [
    "from numpy.linalg import inv, solve, norm\n",
    "\n",
    "def jacobi(A, b, tolerance):\n",
    "    xk_1 = np.zeros_like(b)\n",
    "    D = np.diag(A)\n",
    "    #print(D)\n",
    "    #print(np.diag(D))\n",
    "    LplusU = A - np.diag(D)\n",
    "    #print(LplusU)\n",
    "#     print((b - LplusU @ xk_1) / D)\n",
    "#     print(np.diag(D) @ (b - (LplusU @ xk_1))\n",
    "    \n",
    "    x_k = (b - (LplusU @ xk_1)) / D\n",
    "    iter = 0\n",
    "    while (norm(x_k - xk_1, 2)/norm(x_k, 2)) > tolerance:\n",
    "        iter += 1\n",
    "        xk_1 = x_k\n",
    "        x_k = (b - (LplusU @ xk_1)) / D\n",
    "    \n",
    "#     for i in range(N):\n",
    "#         x = (b - LplusU.dot(x)) / D\n",
    "\n",
    "    print(iter)\n",
    "    return x_k\n",
    "\n",
    "print(jacobi(A, b, 1e-8))\n"
   ]
  },
  {
   "cell_type": "markdown",
   "metadata": {},
   "source": [
    "## Gauss-Siedel Method"
   ]
  },
  {
   "cell_type": "code",
   "execution_count": 14,
   "metadata": {},
   "outputs": [
    {
     "name": "stdout",
     "output_type": "stream",
     "text": [
      "9\n"
     ]
    },
    {
     "data": {
      "text/plain": [
       "array([1., 1., 1., 1., 1., 1., 1., 1., 1., 1.])"
      ]
     },
     "execution_count": 14,
     "metadata": {},
     "output_type": "execute_result"
    }
   ],
   "source": [
    "from numpy.linalg import inv\n",
    "\n",
    "def siedel(A, b, N):\n",
    "    x = np.zeros_like(b) # initial solution (zeros)\n",
    "    LD = np.tril(A)\n",
    "    U = A - LD\n",
    "    #print(LD)\n",
    "    #print(U)\n",
    "    LDinv = inv(LD)\n",
    "    iter = 0\n",
    "    for i in range(N):\n",
    "        iter += 1\n",
    "        x = LDinv @ (b - U@x)\n",
    "        \n",
    "    print(iter)    \n",
    "    return x\n",
    "    \n",
    "    \n",
    "\n",
    "siedel(A, b, 9)"
   ]
  },
  {
   "cell_type": "markdown",
   "metadata": {},
   "source": [
    "## Diagonally Dominant Matrices"
   ]
  },
  {
   "cell_type": "code",
   "execution_count": 15,
   "metadata": {},
   "outputs": [
    {
     "name": "stderr",
     "output_type": "stream",
     "text": [
      "C:\\Users\\hp\\Anaconda3\\lib\\site-packages\\ipykernel_launcher.py:15: RuntimeWarning: invalid value encountered in double_scalars\n",
      "  from ipykernel import kernelapp as app\n"
     ]
    },
    {
     "name": "stdout",
     "output_type": "stream",
     "text": [
      "336\n",
      "[3.0725e+153 4.0972e+153 5.2795e+153 4.0369e+153 4.3008e+153 3.7356e+153\n",
      " 5.8759e+153 4.9776e+153 3.2071e+153 4.1445e+153]\n",
      "596\n",
      "[7.0384e+153 6.9705e+153 6.7606e+153 4.7181e+153 5.6690e+153 5.3927e+153\n",
      " 4.4530e+153 8.1530e+153 6.9415e+153 6.2884e+153]\n",
      "1116\n",
      "[3.4637e+153 4.4983e+153 3.1085e+153 3.9651e+153 5.6686e+153 4.2674e+153\n",
      " 5.0431e+153 6.2265e+153 4.7353e+153 5.3647e+153]\n",
      "3369\n",
      "[-5.6221e+153 -5.3682e+153 -4.6261e+153 -3.9811e+153 -4.0521e+153\n",
      " -4.5322e+153 -5.1765e+153 -3.4286e+153 -5.0616e+153 -3.8542e+153]\n",
      "40\n",
      "[1. 1. 1. 1. 1. 1. 1. 1. 1. 1.]\n",
      "47\n",
      "[1. 1. 1. 1. 1. 1. 1. 1. 1. 1.]\n",
      "33\n",
      "[1. 1. 1. 1. 1. 1. 1. 1. 1. 1.]\n",
      "25\n",
      "[1. 1. 1. 1. 1. 1. 1. 1. 1. 1.]\n",
      "19\n",
      "[1. 1. 1. 1. 1. 1. 1. 1. 1. 1.]\n",
      "17\n",
      "[1. 1. 1. 1. 1. 1. 1. 1. 1. 1.]\n",
      "15\n",
      "[1. 1. 1. 1. 1. 1. 1. 1. 1. 1.]\n",
      "14\n",
      "[1. 1. 1. 1. 1. 1. 1. 1. 1. 1.]\n",
      "13\n",
      "[1. 1. 1. 1. 1. 1. 1. 1. 1. 1.]\n",
      "13\n",
      "[1. 1. 1. 1. 1. 1. 1. 1. 1. 1.]\n",
      "11\n",
      "[1. 1. 1. 1. 1. 1. 1. 1. 1. 1.]\n",
      "11\n",
      "[1. 1. 1. 1. 1. 1. 1. 1. 1. 1.]\n",
      "11\n",
      "[1. 1. 1. 1. 1. 1. 1. 1. 1. 1.]\n",
      "11\n",
      "[1. 1. 1. 1. 1. 1. 1. 1. 1. 1.]\n",
      "11\n",
      "[1. 1. 1. 1. 1. 1. 1. 1. 1. 1.]\n",
      "10\n",
      "[1. 1. 1. 1. 1. 1. 1. 1. 1. 1.]\n",
      "10\n",
      "[1. 1. 1. 1. 1. 1. 1. 1. 1. 1.]\n",
      "9\n",
      "[1. 1. 1. 1. 1. 1. 1. 1. 1. 1.]\n",
      "10\n",
      "[1. 1. 1. 1. 1. 1. 1. 1. 1. 1.]\n",
      "9\n",
      "[1. 1. 1. 1. 1. 1. 1. 1. 1. 1.]\n",
      "9\n",
      "[1. 1. 1. 1. 1. 1. 1. 1. 1. 1.]\n",
      "9\n",
      "[1. 1. 1. 1. 1. 1. 1. 1. 1. 1.]\n",
      "8\n",
      "[1. 1. 1. 1. 1. 1. 1. 1. 1. 1.]\n",
      "8\n",
      "[1. 1. 1. 1. 1. 1. 1. 1. 1. 1.]\n",
      "8\n",
      "[1. 1. 1. 1. 1. 1. 1. 1. 1. 1.]\n",
      "8\n",
      "[1. 1. 1. 1. 1. 1. 1. 1. 1. 1.]\n",
      "8\n",
      "[1. 1. 1. 1. 1. 1. 1. 1. 1. 1.]\n",
      "8\n",
      "[1. 1. 1. 1. 1. 1. 1. 1. 1. 1.]\n",
      "8\n",
      "[1. 1. 1. 1. 1. 1. 1. 1. 1. 1.]\n",
      "7\n",
      "[1. 1. 1. 1. 1. 1. 1. 1. 1. 1.]\n",
      "7\n",
      "[1. 1. 1. 1. 1. 1. 1. 1. 1. 1.]\n",
      "7\n",
      "[1. 1. 1. 1. 1. 1. 1. 1. 1. 1.]\n",
      "7\n",
      "[1. 1. 1. 1. 1. 1. 1. 1. 1. 1.]\n",
      "7\n",
      "[1. 1. 1. 1. 1. 1. 1. 1. 1. 1.]\n",
      "7\n",
      "[1. 1. 1. 1. 1. 1. 1. 1. 1. 1.]\n",
      "7\n",
      "[1. 1. 1. 1. 1. 1. 1. 1. 1. 1.]\n",
      "7\n",
      "[1. 1. 1. 1. 1. 1. 1. 1. 1. 1.]\n",
      "7\n",
      "[1. 1. 1. 1. 1. 1. 1. 1. 1. 1.]\n",
      "7\n",
      "[1. 1. 1. 1. 1. 1. 1. 1. 1. 1.]\n",
      "7\n",
      "[1. 1. 1. 1. 1. 1. 1. 1. 1. 1.]\n",
      "7\n",
      "[1. 1. 1. 1. 1. 1. 1. 1. 1. 1.]\n",
      "6\n",
      "[1. 1. 1. 1. 1. 1. 1. 1. 1. 1.]\n",
      "6\n",
      "[1. 1. 1. 1. 1. 1. 1. 1. 1. 1.]\n",
      "6\n",
      "[1. 1. 1. 1. 1. 1. 1. 1. 1. 1.]\n",
      "6\n",
      "[1. 1. 1. 1. 1. 1. 1. 1. 1. 1.]\n"
     ]
    }
   ],
   "source": [
    "np.set_printoptions(precision=4)\n",
    "N = 10\n",
    "for f in range(1, 50):\n",
    "#     f = 0.01\n",
    "    A = np.eye(N) * f\n",
    "    A += np.random.rand(N, N)\n",
    "    b = A @ np.ones(N)\n",
    "\n",
    "    x = jacobi(A, b, 1e-6)\n",
    "    #x = siedel(A, b, 9)\n",
    "    print(x)\n",
    "\n"
   ]
  },
  {
   "cell_type": "markdown",
   "metadata": {},
   "source": [
    "## The Power Method"
   ]
  },
  {
   "cell_type": "code",
   "execution_count": 21,
   "metadata": {},
   "outputs": [
    {
     "name": "stdout",
     "output_type": "stream",
     "text": [
      "[14.0735 10.8191  8.1434  5.964 ]\n",
      "[[ 0.3935 -0.6234 -0.6404 -0.2155]\n",
      " [-0.6802 -0.4913  0.2267 -0.4945]\n",
      " [ 0.4613 -0.5009  0.7079  0.1877]\n",
      " [-0.4119 -0.3451 -0.1934  0.8208]]\n",
      "\n",
      "[ 5.5376 -9.5729  6.4921 -5.7975]\n",
      "[ 5.5376 -9.5729  6.4921 -5.7975]\n",
      "14.07345801634111\n",
      "[ 0.3935 -0.6802  0.4613 -0.4119]\n"
     ]
    }
   ],
   "source": [
    "from numpy.linalg import eig\n",
    "\n",
    "A = np.array([\n",
    "    [10., -1., 2., 0.],\n",
    "    [-1., 11., -1., 3.],\n",
    "    [2., -1., 10., -1.],\n",
    "    [0., 3., -1., 8.]\n",
    "])\n",
    "\n",
    "l, v = eig(A)\n",
    "print(l)\n",
    "print(v)\n",
    "\n",
    "print()\n",
    "\n",
    "print(A @ v[:, 0])\n",
    "print(l[0] * v[:, 0])\n",
    "\n",
    "x = np.random.rand(4)\n",
    "for i in range(50):\n",
    "    x = (A @ x) / norm(x,2)\n",
    "\n",
    "lmbda = ((A@x) / x)[0]\n",
    "v = x / lmbda\n",
    "print(lmbda)\n",
    "print(v)"
   ]
  },
  {
   "cell_type": "markdown",
   "metadata": {},
   "source": [
    "## The PageRank Algorithm"
   ]
  },
  {
   "cell_type": "code",
   "execution_count": null,
   "metadata": {},
   "outputs": [],
   "source": []
  }
 ],
 "metadata": {
  "kernelspec": {
   "display_name": "Python 3",
   "language": "python",
   "name": "python3"
  },
  "language_info": {
   "codemirror_mode": {
    "name": "ipython",
    "version": 3
   },
   "file_extension": ".py",
   "mimetype": "text/x-python",
   "name": "python",
   "nbconvert_exporter": "python",
   "pygments_lexer": "ipython3",
   "version": "3.7.3"
  }
 },
 "nbformat": 4,
 "nbformat_minor": 2
}
