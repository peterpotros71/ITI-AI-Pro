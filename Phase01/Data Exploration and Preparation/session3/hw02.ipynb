{
 "cells": [
  {
   "cell_type": "code",
   "execution_count": 2,
   "metadata": {},
   "outputs": [],
   "source": [
    "import requests\n",
    "import json"
   ]
  },
  {
   "cell_type": "code",
   "execution_count": 5,
   "metadata": {},
   "outputs": [
    {
     "name": "stdout",
     "output_type": "stream",
     "text": [
      "200\n",
      "{'data': [{'id': '1383786904034824197', 'author_id': '20658902', 'conversation_id': '1383786904034824197', 'source': 'Tweet Suite', 'possibly_sensitive': False, 'created_at': '2021-04-18T14:18:02.000Z', 'text': \"Quality Adult #Men &amp; Women's Cloth #Facemasks by @LTComicGifts Protect yourself &amp; make someone #laugh and #savemoney @Zazzle #gift #gifts #giftideas #covid #covid19 #flu #virus #bacteria #protection #humor #funny #accessories https://t.co/slmu3EJnH6 https://t.co/GI6cFYaLvB\", 'lang': 'en', 'public_metrics': {'retweet_count': 0, 'reply_count': 0, 'like_count': 1, 'quote_count': 2}}, {'id': '1383439031459979264', 'author_id': '154909077', 'conversation_id': '1383439031459979264', 'source': 'Twitter Web App', 'possibly_sensitive': False, 'created_at': '2021-04-17T15:15:42.000Z', 'text': 'If anyone in Switzerland was wondering why all the media played along with the #covid19 flu Hoax \\n\\nThey were given at least $480 million francs to play along https://t.co/mNQN1XXVfE', 'lang': 'en', 'public_metrics': {'retweet_count': 10, 'reply_count': 1, 'like_count': 12, 'quote_count': 1}}, {'id': '1383392280019542024', 'author_id': '154909077', 'conversation_id': '1383391427795640329', 'source': 'Twitter Web App', 'possibly_sensitive': False, 'referenced_tweets': [{'type': 'replied_to', 'id': '1383391849675595777'}], 'created_at': '2021-04-17T12:09:56.000Z', 'text': '@RichardRight11 @AontuIE Complete nonsense for a covid19 flu', 'lang': 'en', 'public_metrics': {'retweet_count': 1, 'reply_count': 1, 'like_count': 2, 'quote_count': 0}, 'in_reply_to_user_id': '1272253098841563138'}, {'id': '1383308285923586056', 'author_id': '154909077', 'conversation_id': '1383308285923586056', 'source': 'Twitter Web App', 'possibly_sensitive': False, 'created_at': '2021-04-17T06:36:10.000Z', 'text': \"so we started this with #Covid19 flu\\non to testing and so on\\nand now it's all about the clots https://t.co/96ptREE9rf\", 'lang': 'en', 'public_metrics': {'retweet_count': 1, 'reply_count': 0, 'like_count': 1, 'quote_count': 0}}, {'id': '1383278390677938177', 'author_id': '2834353921', 'conversation_id': '1383271358528835594', 'source': 'Twitter for Android', 'possibly_sensitive': False, 'referenced_tweets': [{'type': 'replied_to', 'id': '1383271358528835594'}], 'created_at': '2021-04-17T04:37:23.000Z', 'text': '@thakkar_sameet 9 lakh people, 2000+ everyday died from pneumonia everyday in 2018, no one cared\\n\\nOne person dies of #COVID19\\n\\nFlu viruses have been there for long time. This time used to kill economy of countries, then blame leader like @PMOIndia for poverty, unemployment.', 'lang': 'en', 'public_metrics': {'retweet_count': 0, 'reply_count': 0, 'like_count': 0, 'quote_count': 0}, 'in_reply_to_user_id': '2436879248'}, {'id': '1383260690006220811', 'author_id': '975806263601672192', 'conversation_id': '1383044239387418629', 'source': 'Twitter Web App', 'possibly_sensitive': False, 'referenced_tweets': [{'type': 'replied_to', 'id': '1383044239387418629'}], 'created_at': '2021-04-17T03:27:02.000Z', 'text': \"@KateSullivanDC 31 Million infected. \\n\\n10 million of those are now hearing voices telling them to kill. \\n\\nhttps://t.co/OAtSaNiqt3\\n\\n#coronavirus is like the zombie apocalypse. WAKE PEOPLE UP. You're a reporter. 70% of America still thinks #COVID19 = flu.\", 'lang': 'en', 'public_metrics': {'retweet_count': 0, 'reply_count': 1, 'like_count': 0, 'quote_count': 1}, 'in_reply_to_user_id': '241684668'}, {'id': '1383243457704062978', 'author_id': '1052359296577675265', 'conversation_id': '1382873319431606272', 'source': 'Twitter for iPhone', 'possibly_sensitive': False, 'referenced_tweets': [{'type': 'replied_to', 'id': '1382873319431606272'}], 'created_at': '2021-04-17T02:18:34.000Z', 'text': '@DailyCaller The best way to beat the virus is too catch the virus, I got sick over a year ago and I’ve always wondered if it was covid19 (flu) well over the last 20 days I’ve taken 3 of my friends (no masks) to the hospital and all tested + for covid19 (flu) so far I’m feeling great.', 'lang': 'en', 'public_metrics': {'retweet_count': 0, 'reply_count': 0, 'like_count': 0, 'quote_count': 0}, 'in_reply_to_user_id': '39308549'}, {'id': '1383176302295932931', 'author_id': '1063223745224024064', 'conversation_id': '1383130344308809729', 'source': 'Twitter Web App', 'possibly_sensitive': False, 'referenced_tweets': [{'type': 'replied_to', 'id': '1383130344308809729'}], 'created_at': '2021-04-16T21:51:43.000Z', 'text': '@prchibanda HIV very different thing from Covid19 flu virus', 'lang': 'en', 'public_metrics': {'retweet_count': 0, 'reply_count': 2, 'like_count': 6, 'quote_count': 0}, 'in_reply_to_user_id': '4712401515'}, {'id': '1383154415150972932', 'author_id': '820236583', 'conversation_id': '1383154415150972932', 'source': 'Twitter Web App', 'possibly_sensitive': False, 'created_at': '2021-04-16T20:24:44.000Z', 'text': 'New opportunity from @CDCFound will fund up to 100 community-based orgs to increase #COVID19 &amp; flu vaccine confidence &amp; coverage among adults in racial and/or ethnic groups experiencing disparities in the U.S. https://t.co/nLUKR9NZIl https://t.co/nPW0Qf6zPQ', 'lang': 'en', 'public_metrics': {'retweet_count': 4, 'reply_count': 0, 'like_count': 6, 'quote_count': 3}}, {'id': '1383084795660410882', 'author_id': '167034786', 'conversation_id': '1383075914569945094', 'source': 'Twitter Web App', 'possibly_sensitive': False, 'referenced_tweets': [{'type': 'replied_to', 'id': '1383075914569945094'}], 'created_at': '2021-04-16T15:48:06.000Z', 'text': \"@Daytobehappy It's a good thing flu and pneumonia deaths nearly went to zero.\\n\\nFlu away: Scientists baffled at disappearance of influenza... but is it really gone, or just masked by Covid-19? — RT Op-ed https://t.co/4P854yM6Bz\", 'lang': 'en', 'public_metrics': {'retweet_count': 0, 'reply_count': 0, 'like_count': 1, 'quote_count': 0}, 'in_reply_to_user_id': '1029096279685648385'}], 'meta': {'newest_id': '1383786904034824197', 'oldest_id': '1383084795660410882', 'result_count': 10, 'next_token': 'b26v89c19zqg8o3fosts1mdy9wz2quyonyzay2rt0vibh'}}\n"
     ]
    }
   ],
   "source": [
    "bearer_token = 'AAAAAAAAAAAAAAAAAAAAAEHQIAEAAAAAD4nBpHLTo0xNq10DkM66%2BOsLRBI%3DttyaGFeQ9FhHB7vDL1uMnvusPwiXgLGq73T6aNfFMRDBKFzRhF'\n",
    "query = \"COVID19,flu -is:retweet\"\n",
    "tweet_fields = \"tweet.fields=author_id,conversation_id,created_at,geo,id,in_reply_to_user_id,lang,public_metrics,possibly_sensitive,referenced_tweets,source,text\"\n",
    "url = \"https://api.twitter.com/2/tweets/search/recent?query={}&{}\".format(\n",
    "        query, tweet_fields\n",
    "    )\n",
    "headers = {\"Authorization\": \"Bearer {}\".format(bearer_token)}\n",
    "response = requests.request(\"GET\", url, headers=headers)\n",
    "print(response.status_code)\n",
    "if response.status_code != 200:\n",
    "    raise Exception(response.status_code, response.text)\n",
    "json_response = response.json()    \n",
    "print(json_response)   "
   ]
  },
  {
   "cell_type": "code",
   "execution_count": null,
   "metadata": {},
   "outputs": [],
   "source": []
  }
 ],
 "metadata": {
  "kernelspec": {
   "display_name": "Python 3",
   "language": "python",
   "name": "python3"
  },
  "language_info": {
   "codemirror_mode": {
    "name": "ipython",
    "version": 3
   },
   "file_extension": ".py",
   "mimetype": "text/x-python",
   "name": "python",
   "nbconvert_exporter": "python",
   "pygments_lexer": "ipython3",
   "version": "3.7.3"
  }
 },
 "nbformat": 4,
 "nbformat_minor": 2
}
