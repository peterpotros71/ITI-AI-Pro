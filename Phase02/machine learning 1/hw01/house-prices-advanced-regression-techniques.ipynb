{
 "cells": [
  {
   "cell_type": "code",
   "execution_count": 3,
   "metadata": {
    "_cell_guid": "b1076dfc-b9ad-4769-8c92-a6c4dae69d19",
    "_uuid": "8f2839f25d086af736a60e9eeb907d3b93b6e0e5",
    "execution": {
     "iopub.execute_input": "2021-08-05T18:44:25.135668Z",
     "iopub.status.busy": "2021-08-05T18:44:25.135205Z",
     "iopub.status.idle": "2021-08-05T18:44:26.333346Z",
     "shell.execute_reply": "2021-08-05T18:44:26.332131Z",
     "shell.execute_reply.started": "2021-08-05T18:44:25.135575Z"
    }
   },
   "outputs": [],
   "source": [
    "# import libraries\n",
    "import numpy as np\n",
    "import pandas as pd \n",
    "import os\n",
    "import matplotlib.pyplot as plt\n",
    "import seaborn as sns"
   ]
  },
  {
   "cell_type": "code",
   "execution_count": 4,
   "metadata": {
    "execution": {
     "iopub.execute_input": "2021-08-05T19:28:44.591351Z",
     "iopub.status.busy": "2021-08-05T19:28:44.590988Z",
     "iopub.status.idle": "2021-08-05T19:28:44.646035Z",
     "shell.execute_reply": "2021-08-05T19:28:44.645092Z",
     "shell.execute_reply.started": "2021-08-05T19:28:44.591321Z"
    }
   },
   "outputs": [
    {
     "data": {
      "text/html": [
       "<div>\n",
       "<style scoped>\n",
       "    .dataframe tbody tr th:only-of-type {\n",
       "        vertical-align: middle;\n",
       "    }\n",
       "\n",
       "    .dataframe tbody tr th {\n",
       "        vertical-align: top;\n",
       "    }\n",
       "\n",
       "    .dataframe thead th {\n",
       "        text-align: right;\n",
       "    }\n",
       "</style>\n",
       "<table border=\"1\" class=\"dataframe\">\n",
       "  <thead>\n",
       "    <tr style=\"text-align: right;\">\n",
       "      <th></th>\n",
       "      <th>Id</th>\n",
       "      <th>MSSubClass</th>\n",
       "      <th>MSZoning</th>\n",
       "      <th>LotFrontage</th>\n",
       "      <th>LotArea</th>\n",
       "      <th>Street</th>\n",
       "      <th>Alley</th>\n",
       "      <th>LotShape</th>\n",
       "      <th>LandContour</th>\n",
       "      <th>Utilities</th>\n",
       "      <th>...</th>\n",
       "      <th>PoolArea</th>\n",
       "      <th>PoolQC</th>\n",
       "      <th>Fence</th>\n",
       "      <th>MiscFeature</th>\n",
       "      <th>MiscVal</th>\n",
       "      <th>MoSold</th>\n",
       "      <th>YrSold</th>\n",
       "      <th>SaleType</th>\n",
       "      <th>SaleCondition</th>\n",
       "      <th>SalePrice</th>\n",
       "    </tr>\n",
       "  </thead>\n",
       "  <tbody>\n",
       "    <tr>\n",
       "      <th>0</th>\n",
       "      <td>1</td>\n",
       "      <td>60</td>\n",
       "      <td>RL</td>\n",
       "      <td>65.0</td>\n",
       "      <td>8450</td>\n",
       "      <td>Pave</td>\n",
       "      <td>NaN</td>\n",
       "      <td>Reg</td>\n",
       "      <td>Lvl</td>\n",
       "      <td>AllPub</td>\n",
       "      <td>...</td>\n",
       "      <td>0</td>\n",
       "      <td>NaN</td>\n",
       "      <td>NaN</td>\n",
       "      <td>NaN</td>\n",
       "      <td>0</td>\n",
       "      <td>2</td>\n",
       "      <td>2008</td>\n",
       "      <td>WD</td>\n",
       "      <td>Normal</td>\n",
       "      <td>208500</td>\n",
       "    </tr>\n",
       "    <tr>\n",
       "      <th>1</th>\n",
       "      <td>2</td>\n",
       "      <td>20</td>\n",
       "      <td>RL</td>\n",
       "      <td>80.0</td>\n",
       "      <td>9600</td>\n",
       "      <td>Pave</td>\n",
       "      <td>NaN</td>\n",
       "      <td>Reg</td>\n",
       "      <td>Lvl</td>\n",
       "      <td>AllPub</td>\n",
       "      <td>...</td>\n",
       "      <td>0</td>\n",
       "      <td>NaN</td>\n",
       "      <td>NaN</td>\n",
       "      <td>NaN</td>\n",
       "      <td>0</td>\n",
       "      <td>5</td>\n",
       "      <td>2007</td>\n",
       "      <td>WD</td>\n",
       "      <td>Normal</td>\n",
       "      <td>181500</td>\n",
       "    </tr>\n",
       "    <tr>\n",
       "      <th>2</th>\n",
       "      <td>3</td>\n",
       "      <td>60</td>\n",
       "      <td>RL</td>\n",
       "      <td>68.0</td>\n",
       "      <td>11250</td>\n",
       "      <td>Pave</td>\n",
       "      <td>NaN</td>\n",
       "      <td>IR1</td>\n",
       "      <td>Lvl</td>\n",
       "      <td>AllPub</td>\n",
       "      <td>...</td>\n",
       "      <td>0</td>\n",
       "      <td>NaN</td>\n",
       "      <td>NaN</td>\n",
       "      <td>NaN</td>\n",
       "      <td>0</td>\n",
       "      <td>9</td>\n",
       "      <td>2008</td>\n",
       "      <td>WD</td>\n",
       "      <td>Normal</td>\n",
       "      <td>223500</td>\n",
       "    </tr>\n",
       "    <tr>\n",
       "      <th>3</th>\n",
       "      <td>4</td>\n",
       "      <td>70</td>\n",
       "      <td>RL</td>\n",
       "      <td>60.0</td>\n",
       "      <td>9550</td>\n",
       "      <td>Pave</td>\n",
       "      <td>NaN</td>\n",
       "      <td>IR1</td>\n",
       "      <td>Lvl</td>\n",
       "      <td>AllPub</td>\n",
       "      <td>...</td>\n",
       "      <td>0</td>\n",
       "      <td>NaN</td>\n",
       "      <td>NaN</td>\n",
       "      <td>NaN</td>\n",
       "      <td>0</td>\n",
       "      <td>2</td>\n",
       "      <td>2006</td>\n",
       "      <td>WD</td>\n",
       "      <td>Abnorml</td>\n",
       "      <td>140000</td>\n",
       "    </tr>\n",
       "    <tr>\n",
       "      <th>4</th>\n",
       "      <td>5</td>\n",
       "      <td>60</td>\n",
       "      <td>RL</td>\n",
       "      <td>84.0</td>\n",
       "      <td>14260</td>\n",
       "      <td>Pave</td>\n",
       "      <td>NaN</td>\n",
       "      <td>IR1</td>\n",
       "      <td>Lvl</td>\n",
       "      <td>AllPub</td>\n",
       "      <td>...</td>\n",
       "      <td>0</td>\n",
       "      <td>NaN</td>\n",
       "      <td>NaN</td>\n",
       "      <td>NaN</td>\n",
       "      <td>0</td>\n",
       "      <td>12</td>\n",
       "      <td>2008</td>\n",
       "      <td>WD</td>\n",
       "      <td>Normal</td>\n",
       "      <td>250000</td>\n",
       "    </tr>\n",
       "  </tbody>\n",
       "</table>\n",
       "<p>5 rows × 81 columns</p>\n",
       "</div>"
      ],
      "text/plain": [
       "   Id  MSSubClass MSZoning  LotFrontage  LotArea Street Alley LotShape  \\\n",
       "0   1          60       RL         65.0     8450   Pave   NaN      Reg   \n",
       "1   2          20       RL         80.0     9600   Pave   NaN      Reg   \n",
       "2   3          60       RL         68.0    11250   Pave   NaN      IR1   \n",
       "3   4          70       RL         60.0     9550   Pave   NaN      IR1   \n",
       "4   5          60       RL         84.0    14260   Pave   NaN      IR1   \n",
       "\n",
       "  LandContour Utilities  ... PoolArea PoolQC Fence MiscFeature MiscVal MoSold  \\\n",
       "0         Lvl    AllPub  ...        0    NaN   NaN         NaN       0      2   \n",
       "1         Lvl    AllPub  ...        0    NaN   NaN         NaN       0      5   \n",
       "2         Lvl    AllPub  ...        0    NaN   NaN         NaN       0      9   \n",
       "3         Lvl    AllPub  ...        0    NaN   NaN         NaN       0      2   \n",
       "4         Lvl    AllPub  ...        0    NaN   NaN         NaN       0     12   \n",
       "\n",
       "  YrSold  SaleType  SaleCondition  SalePrice  \n",
       "0   2008        WD         Normal     208500  \n",
       "1   2007        WD         Normal     181500  \n",
       "2   2008        WD         Normal     223500  \n",
       "3   2006        WD        Abnorml     140000  \n",
       "4   2008        WD         Normal     250000  \n",
       "\n",
       "[5 rows x 81 columns]"
      ]
     },
     "execution_count": 4,
     "metadata": {},
     "output_type": "execute_result"
    }
   ],
   "source": [
    "# load dataset\n",
    "dirname = 'train.csv'\n",
    "train_file = os.path.join(dirname)\n",
    "df_train = pd.read_csv(train_file)\n",
    "df_train.head()"
   ]
  },
  {
   "cell_type": "code",
   "execution_count": 5,
   "metadata": {
    "execution": {
     "iopub.execute_input": "2021-08-05T20:24:49.826270Z",
     "iopub.status.busy": "2021-08-05T20:24:49.825870Z",
     "iopub.status.idle": "2021-08-05T20:24:49.913778Z",
     "shell.execute_reply": "2021-08-05T20:24:49.912829Z",
     "shell.execute_reply.started": "2021-08-05T20:24:49.826235Z"
    }
   },
   "outputs": [
    {
     "data": {
      "text/html": [
       "<div>\n",
       "<style scoped>\n",
       "    .dataframe tbody tr th:only-of-type {\n",
       "        vertical-align: middle;\n",
       "    }\n",
       "\n",
       "    .dataframe tbody tr th {\n",
       "        vertical-align: top;\n",
       "    }\n",
       "\n",
       "    .dataframe thead th {\n",
       "        text-align: right;\n",
       "    }\n",
       "</style>\n",
       "<table border=\"1\" class=\"dataframe\">\n",
       "  <thead>\n",
       "    <tr style=\"text-align: right;\">\n",
       "      <th></th>\n",
       "      <th>Id</th>\n",
       "      <th>MSSubClass</th>\n",
       "      <th>MSZoning</th>\n",
       "      <th>LotFrontage</th>\n",
       "      <th>LotArea</th>\n",
       "      <th>Street</th>\n",
       "      <th>Alley</th>\n",
       "      <th>LotShape</th>\n",
       "      <th>LandContour</th>\n",
       "      <th>Utilities</th>\n",
       "      <th>...</th>\n",
       "      <th>ScreenPorch</th>\n",
       "      <th>PoolArea</th>\n",
       "      <th>PoolQC</th>\n",
       "      <th>Fence</th>\n",
       "      <th>MiscFeature</th>\n",
       "      <th>MiscVal</th>\n",
       "      <th>MoSold</th>\n",
       "      <th>YrSold</th>\n",
       "      <th>SaleType</th>\n",
       "      <th>SaleCondition</th>\n",
       "    </tr>\n",
       "  </thead>\n",
       "  <tbody>\n",
       "    <tr>\n",
       "      <th>0</th>\n",
       "      <td>1461</td>\n",
       "      <td>20</td>\n",
       "      <td>RH</td>\n",
       "      <td>80.0</td>\n",
       "      <td>11622</td>\n",
       "      <td>Pave</td>\n",
       "      <td>NaN</td>\n",
       "      <td>Reg</td>\n",
       "      <td>Lvl</td>\n",
       "      <td>AllPub</td>\n",
       "      <td>...</td>\n",
       "      <td>120</td>\n",
       "      <td>0</td>\n",
       "      <td>NaN</td>\n",
       "      <td>MnPrv</td>\n",
       "      <td>NaN</td>\n",
       "      <td>0</td>\n",
       "      <td>6</td>\n",
       "      <td>2010</td>\n",
       "      <td>WD</td>\n",
       "      <td>Normal</td>\n",
       "    </tr>\n",
       "    <tr>\n",
       "      <th>1</th>\n",
       "      <td>1462</td>\n",
       "      <td>20</td>\n",
       "      <td>RL</td>\n",
       "      <td>81.0</td>\n",
       "      <td>14267</td>\n",
       "      <td>Pave</td>\n",
       "      <td>NaN</td>\n",
       "      <td>IR1</td>\n",
       "      <td>Lvl</td>\n",
       "      <td>AllPub</td>\n",
       "      <td>...</td>\n",
       "      <td>0</td>\n",
       "      <td>0</td>\n",
       "      <td>NaN</td>\n",
       "      <td>NaN</td>\n",
       "      <td>Gar2</td>\n",
       "      <td>12500</td>\n",
       "      <td>6</td>\n",
       "      <td>2010</td>\n",
       "      <td>WD</td>\n",
       "      <td>Normal</td>\n",
       "    </tr>\n",
       "    <tr>\n",
       "      <th>2</th>\n",
       "      <td>1463</td>\n",
       "      <td>60</td>\n",
       "      <td>RL</td>\n",
       "      <td>74.0</td>\n",
       "      <td>13830</td>\n",
       "      <td>Pave</td>\n",
       "      <td>NaN</td>\n",
       "      <td>IR1</td>\n",
       "      <td>Lvl</td>\n",
       "      <td>AllPub</td>\n",
       "      <td>...</td>\n",
       "      <td>0</td>\n",
       "      <td>0</td>\n",
       "      <td>NaN</td>\n",
       "      <td>MnPrv</td>\n",
       "      <td>NaN</td>\n",
       "      <td>0</td>\n",
       "      <td>3</td>\n",
       "      <td>2010</td>\n",
       "      <td>WD</td>\n",
       "      <td>Normal</td>\n",
       "    </tr>\n",
       "    <tr>\n",
       "      <th>3</th>\n",
       "      <td>1464</td>\n",
       "      <td>60</td>\n",
       "      <td>RL</td>\n",
       "      <td>78.0</td>\n",
       "      <td>9978</td>\n",
       "      <td>Pave</td>\n",
       "      <td>NaN</td>\n",
       "      <td>IR1</td>\n",
       "      <td>Lvl</td>\n",
       "      <td>AllPub</td>\n",
       "      <td>...</td>\n",
       "      <td>0</td>\n",
       "      <td>0</td>\n",
       "      <td>NaN</td>\n",
       "      <td>NaN</td>\n",
       "      <td>NaN</td>\n",
       "      <td>0</td>\n",
       "      <td>6</td>\n",
       "      <td>2010</td>\n",
       "      <td>WD</td>\n",
       "      <td>Normal</td>\n",
       "    </tr>\n",
       "    <tr>\n",
       "      <th>4</th>\n",
       "      <td>1465</td>\n",
       "      <td>120</td>\n",
       "      <td>RL</td>\n",
       "      <td>43.0</td>\n",
       "      <td>5005</td>\n",
       "      <td>Pave</td>\n",
       "      <td>NaN</td>\n",
       "      <td>IR1</td>\n",
       "      <td>HLS</td>\n",
       "      <td>AllPub</td>\n",
       "      <td>...</td>\n",
       "      <td>144</td>\n",
       "      <td>0</td>\n",
       "      <td>NaN</td>\n",
       "      <td>NaN</td>\n",
       "      <td>NaN</td>\n",
       "      <td>0</td>\n",
       "      <td>1</td>\n",
       "      <td>2010</td>\n",
       "      <td>WD</td>\n",
       "      <td>Normal</td>\n",
       "    </tr>\n",
       "  </tbody>\n",
       "</table>\n",
       "<p>5 rows × 80 columns</p>\n",
       "</div>"
      ],
      "text/plain": [
       "     Id  MSSubClass MSZoning  LotFrontage  LotArea Street Alley LotShape  \\\n",
       "0  1461          20       RH         80.0    11622   Pave   NaN      Reg   \n",
       "1  1462          20       RL         81.0    14267   Pave   NaN      IR1   \n",
       "2  1463          60       RL         74.0    13830   Pave   NaN      IR1   \n",
       "3  1464          60       RL         78.0     9978   Pave   NaN      IR1   \n",
       "4  1465         120       RL         43.0     5005   Pave   NaN      IR1   \n",
       "\n",
       "  LandContour Utilities  ... ScreenPorch PoolArea PoolQC  Fence MiscFeature  \\\n",
       "0         Lvl    AllPub  ...         120        0    NaN  MnPrv         NaN   \n",
       "1         Lvl    AllPub  ...           0        0    NaN    NaN        Gar2   \n",
       "2         Lvl    AllPub  ...           0        0    NaN  MnPrv         NaN   \n",
       "3         Lvl    AllPub  ...           0        0    NaN    NaN         NaN   \n",
       "4         HLS    AllPub  ...         144        0    NaN    NaN         NaN   \n",
       "\n",
       "  MiscVal MoSold  YrSold  SaleType  SaleCondition  \n",
       "0       0      6    2010        WD         Normal  \n",
       "1   12500      6    2010        WD         Normal  \n",
       "2       0      3    2010        WD         Normal  \n",
       "3       0      6    2010        WD         Normal  \n",
       "4       0      1    2010        WD         Normal  \n",
       "\n",
       "[5 rows x 80 columns]"
      ]
     },
     "execution_count": 5,
     "metadata": {},
     "output_type": "execute_result"
    }
   ],
   "source": [
    "# load test data\n",
    "dirname = 'test.csv'\n",
    "test_file = os.path.join(dirname)\n",
    "df_test = pd.read_csv(test_file)\n",
    "df_test.head()"
   ]
  },
  {
   "cell_type": "code",
   "execution_count": 6,
   "metadata": {
    "execution": {
     "iopub.execute_input": "2021-08-05T19:28:45.366028Z",
     "iopub.status.busy": "2021-08-05T19:28:45.365677Z",
     "iopub.status.idle": "2021-08-05T19:28:45.395486Z",
     "shell.execute_reply": "2021-08-05T19:28:45.394497Z",
     "shell.execute_reply.started": "2021-08-05T19:28:45.365998Z"
    }
   },
   "outputs": [
    {
     "name": "stdout",
     "output_type": "stream",
     "text": [
      "<class 'pandas.core.frame.DataFrame'>\n",
      "RangeIndex: 1460 entries, 0 to 1459\n",
      "Data columns (total 81 columns):\n",
      "Id               1460 non-null int64\n",
      "MSSubClass       1460 non-null int64\n",
      "MSZoning         1460 non-null object\n",
      "LotFrontage      1201 non-null float64\n",
      "LotArea          1460 non-null int64\n",
      "Street           1460 non-null object\n",
      "Alley            91 non-null object\n",
      "LotShape         1460 non-null object\n",
      "LandContour      1460 non-null object\n",
      "Utilities        1460 non-null object\n",
      "LotConfig        1460 non-null object\n",
      "LandSlope        1460 non-null object\n",
      "Neighborhood     1460 non-null object\n",
      "Condition1       1460 non-null object\n",
      "Condition2       1460 non-null object\n",
      "BldgType         1460 non-null object\n",
      "HouseStyle       1460 non-null object\n",
      "OverallQual      1460 non-null int64\n",
      "OverallCond      1460 non-null int64\n",
      "YearBuilt        1460 non-null int64\n",
      "YearRemodAdd     1460 non-null int64\n",
      "RoofStyle        1460 non-null object\n",
      "RoofMatl         1460 non-null object\n",
      "Exterior1st      1460 non-null object\n",
      "Exterior2nd      1460 non-null object\n",
      "MasVnrType       1452 non-null object\n",
      "MasVnrArea       1452 non-null float64\n",
      "ExterQual        1460 non-null object\n",
      "ExterCond        1460 non-null object\n",
      "Foundation       1460 non-null object\n",
      "BsmtQual         1423 non-null object\n",
      "BsmtCond         1423 non-null object\n",
      "BsmtExposure     1422 non-null object\n",
      "BsmtFinType1     1423 non-null object\n",
      "BsmtFinSF1       1460 non-null int64\n",
      "BsmtFinType2     1422 non-null object\n",
      "BsmtFinSF2       1460 non-null int64\n",
      "BsmtUnfSF        1460 non-null int64\n",
      "TotalBsmtSF      1460 non-null int64\n",
      "Heating          1460 non-null object\n",
      "HeatingQC        1460 non-null object\n",
      "CentralAir       1460 non-null object\n",
      "Electrical       1459 non-null object\n",
      "1stFlrSF         1460 non-null int64\n",
      "2ndFlrSF         1460 non-null int64\n",
      "LowQualFinSF     1460 non-null int64\n",
      "GrLivArea        1460 non-null int64\n",
      "BsmtFullBath     1460 non-null int64\n",
      "BsmtHalfBath     1460 non-null int64\n",
      "FullBath         1460 non-null int64\n",
      "HalfBath         1460 non-null int64\n",
      "BedroomAbvGr     1460 non-null int64\n",
      "KitchenAbvGr     1460 non-null int64\n",
      "KitchenQual      1460 non-null object\n",
      "TotRmsAbvGrd     1460 non-null int64\n",
      "Functional       1460 non-null object\n",
      "Fireplaces       1460 non-null int64\n",
      "FireplaceQu      770 non-null object\n",
      "GarageType       1379 non-null object\n",
      "GarageYrBlt      1379 non-null float64\n",
      "GarageFinish     1379 non-null object\n",
      "GarageCars       1460 non-null int64\n",
      "GarageArea       1460 non-null int64\n",
      "GarageQual       1379 non-null object\n",
      "GarageCond       1379 non-null object\n",
      "PavedDrive       1460 non-null object\n",
      "WoodDeckSF       1460 non-null int64\n",
      "OpenPorchSF      1460 non-null int64\n",
      "EnclosedPorch    1460 non-null int64\n",
      "3SsnPorch        1460 non-null int64\n",
      "ScreenPorch      1460 non-null int64\n",
      "PoolArea         1460 non-null int64\n",
      "PoolQC           7 non-null object\n",
      "Fence            281 non-null object\n",
      "MiscFeature      54 non-null object\n",
      "MiscVal          1460 non-null int64\n",
      "MoSold           1460 non-null int64\n",
      "YrSold           1460 non-null int64\n",
      "SaleType         1460 non-null object\n",
      "SaleCondition    1460 non-null object\n",
      "SalePrice        1460 non-null int64\n",
      "dtypes: float64(3), int64(35), object(43)\n",
      "memory usage: 924.0+ KB\n"
     ]
    }
   ],
   "source": [
    "df_train.info()"
   ]
  },
  {
   "cell_type": "code",
   "execution_count": 7,
   "metadata": {
    "execution": {
     "iopub.execute_input": "2021-08-05T19:28:45.433843Z",
     "iopub.status.busy": "2021-08-05T19:28:45.433508Z",
     "iopub.status.idle": "2021-08-05T19:28:45.452428Z",
     "shell.execute_reply": "2021-08-05T19:28:45.451264Z",
     "shell.execute_reply.started": "2021-08-05T19:28:45.433815Z"
    }
   },
   "outputs": [
    {
     "data": {
      "text/plain": [
       "PoolQC           1453\n",
       "MiscFeature      1406\n",
       "Alley            1369\n",
       "Fence            1179\n",
       "FireplaceQu       690\n",
       "LotFrontage       259\n",
       "GarageCond         81\n",
       "GarageType         81\n",
       "GarageYrBlt        81\n",
       "GarageFinish       81\n",
       "GarageQual         81\n",
       "BsmtExposure       38\n",
       "BsmtFinType2       38\n",
       "BsmtFinType1       37\n",
       "BsmtCond           37\n",
       "BsmtQual           37\n",
       "MasVnrArea          8\n",
       "MasVnrType          8\n",
       "Electrical          1\n",
       "Utilities           0\n",
       "YearRemodAdd        0\n",
       "MSSubClass          0\n",
       "Foundation          0\n",
       "ExterCond           0\n",
       "ExterQual           0\n",
       "Exterior2nd         0\n",
       "Exterior1st         0\n",
       "RoofMatl            0\n",
       "RoofStyle           0\n",
       "YearBuilt           0\n",
       "                 ... \n",
       "GarageArea          0\n",
       "PavedDrive          0\n",
       "WoodDeckSF          0\n",
       "OpenPorchSF         0\n",
       "3SsnPorch           0\n",
       "BsmtUnfSF           0\n",
       "ScreenPorch         0\n",
       "PoolArea            0\n",
       "MiscVal             0\n",
       "MoSold              0\n",
       "YrSold              0\n",
       "SaleType            0\n",
       "Functional          0\n",
       "TotRmsAbvGrd        0\n",
       "KitchenQual         0\n",
       "KitchenAbvGr        0\n",
       "BedroomAbvGr        0\n",
       "HalfBath            0\n",
       "FullBath            0\n",
       "BsmtHalfBath        0\n",
       "BsmtFullBath        0\n",
       "GrLivArea           0\n",
       "LowQualFinSF        0\n",
       "2ndFlrSF            0\n",
       "1stFlrSF            0\n",
       "CentralAir          0\n",
       "SaleCondition       0\n",
       "Heating             0\n",
       "TotalBsmtSF         0\n",
       "Id                  0\n",
       "Length: 81, dtype: int64"
      ]
     },
     "execution_count": 7,
     "metadata": {},
     "output_type": "execute_result"
    }
   ],
   "source": [
    "df_train.isnull().sum().sort_values(ascending=False)"
   ]
  },
  {
   "cell_type": "code",
   "execution_count": 8,
   "metadata": {
    "execution": {
     "iopub.execute_input": "2021-08-05T19:28:45.635975Z",
     "iopub.status.busy": "2021-08-05T19:28:45.635579Z",
     "iopub.status.idle": "2021-08-05T19:28:45.642938Z",
     "shell.execute_reply": "2021-08-05T19:28:45.641442Z",
     "shell.execute_reply.started": "2021-08-05T19:28:45.635944Z"
    }
   },
   "outputs": [],
   "source": [
    "# drop 'PoolQC', 'MiscFeature', 'Alley', 'Fence', 'FireplaceQu'\n",
    "df_train.drop(['PoolQC', 'MiscFeature', 'Alley', 'Fence', 'FireplaceQu'], inplace=True, axis=1)"
   ]
  },
  {
   "cell_type": "code",
   "execution_count": 9,
   "metadata": {
    "execution": {
     "iopub.execute_input": "2021-08-05T19:28:45.934351Z",
     "iopub.status.busy": "2021-08-05T19:28:45.933834Z",
     "iopub.status.idle": "2021-08-05T19:28:45.984321Z",
     "shell.execute_reply": "2021-08-05T19:28:45.983549Z",
     "shell.execute_reply.started": "2021-08-05T19:28:45.934317Z"
    }
   },
   "outputs": [],
   "source": [
    "qualitative_cols = [c for c in df_train.columns if df_train[c].dtype == object]\n",
    "quantative_cols = [c for c in df_train.columns if df_train[c].dtype != object]\n",
    "for c in qualitative_cols:\n",
    "    df_train[c] = df_train[c].astype('category')"
   ]
  },
  {
   "cell_type": "code",
   "execution_count": 10,
   "metadata": {
    "execution": {
     "iopub.execute_input": "2021-08-05T19:28:45.985851Z",
     "iopub.status.busy": "2021-08-05T19:28:45.985441Z",
     "iopub.status.idle": "2021-08-05T19:28:46.002207Z",
     "shell.execute_reply": "2021-08-05T19:28:46.001032Z",
     "shell.execute_reply.started": "2021-08-05T19:28:45.985819Z"
    }
   },
   "outputs": [
    {
     "data": {
      "text/plain": [
       "LotFrontage     259\n",
       "MasVnrType        8\n",
       "MasVnrArea        8\n",
       "BsmtQual         37\n",
       "BsmtCond         37\n",
       "BsmtExposure     38\n",
       "BsmtFinType1     37\n",
       "BsmtFinType2     38\n",
       "Electrical        1\n",
       "GarageType       81\n",
       "GarageYrBlt      81\n",
       "GarageFinish     81\n",
       "GarageQual       81\n",
       "GarageCond       81\n",
       "dtype: int64"
      ]
     },
     "execution_count": 10,
     "metadata": {},
     "output_type": "execute_result"
    }
   ],
   "source": [
    "x = df_train.isna().sum()\n",
    "x[x > 0]"
   ]
  },
  {
   "cell_type": "code",
   "execution_count": 11,
   "metadata": {
    "execution": {
     "iopub.execute_input": "2021-08-05T19:28:46.381899Z",
     "iopub.status.busy": "2021-08-05T19:28:46.381531Z",
     "iopub.status.idle": "2021-08-05T19:28:46.511572Z",
     "shell.execute_reply": "2021-08-05T19:28:46.510505Z",
     "shell.execute_reply.started": "2021-08-05T19:28:46.381869Z"
    }
   },
   "outputs": [
    {
     "data": {
      "text/html": [
       "<div>\n",
       "<style scoped>\n",
       "    .dataframe tbody tr th:only-of-type {\n",
       "        vertical-align: middle;\n",
       "    }\n",
       "\n",
       "    .dataframe tbody tr th {\n",
       "        vertical-align: top;\n",
       "    }\n",
       "\n",
       "    .dataframe thead th {\n",
       "        text-align: right;\n",
       "    }\n",
       "</style>\n",
       "<table border=\"1\" class=\"dataframe\">\n",
       "  <thead>\n",
       "    <tr style=\"text-align: right;\">\n",
       "      <th></th>\n",
       "      <th>Id</th>\n",
       "      <th>MSSubClass</th>\n",
       "      <th>LotFrontage</th>\n",
       "      <th>LotArea</th>\n",
       "      <th>OverallQual</th>\n",
       "      <th>OverallCond</th>\n",
       "      <th>YearBuilt</th>\n",
       "      <th>YearRemodAdd</th>\n",
       "      <th>MasVnrArea</th>\n",
       "      <th>BsmtFinSF1</th>\n",
       "      <th>...</th>\n",
       "      <th>WoodDeckSF</th>\n",
       "      <th>OpenPorchSF</th>\n",
       "      <th>EnclosedPorch</th>\n",
       "      <th>3SsnPorch</th>\n",
       "      <th>ScreenPorch</th>\n",
       "      <th>PoolArea</th>\n",
       "      <th>MiscVal</th>\n",
       "      <th>MoSold</th>\n",
       "      <th>YrSold</th>\n",
       "      <th>SalePrice</th>\n",
       "    </tr>\n",
       "  </thead>\n",
       "  <tbody>\n",
       "    <tr>\n",
       "      <th>count</th>\n",
       "      <td>1460.000000</td>\n",
       "      <td>1460.000000</td>\n",
       "      <td>1201.000000</td>\n",
       "      <td>1460.000000</td>\n",
       "      <td>1460.000000</td>\n",
       "      <td>1460.000000</td>\n",
       "      <td>1460.000000</td>\n",
       "      <td>1460.000000</td>\n",
       "      <td>1452.000000</td>\n",
       "      <td>1460.000000</td>\n",
       "      <td>...</td>\n",
       "      <td>1460.000000</td>\n",
       "      <td>1460.000000</td>\n",
       "      <td>1460.000000</td>\n",
       "      <td>1460.000000</td>\n",
       "      <td>1460.000000</td>\n",
       "      <td>1460.000000</td>\n",
       "      <td>1460.000000</td>\n",
       "      <td>1460.000000</td>\n",
       "      <td>1460.000000</td>\n",
       "      <td>1460.000000</td>\n",
       "    </tr>\n",
       "    <tr>\n",
       "      <th>mean</th>\n",
       "      <td>730.500000</td>\n",
       "      <td>56.897260</td>\n",
       "      <td>70.049958</td>\n",
       "      <td>10516.828082</td>\n",
       "      <td>6.099315</td>\n",
       "      <td>5.575342</td>\n",
       "      <td>1971.267808</td>\n",
       "      <td>1984.865753</td>\n",
       "      <td>103.685262</td>\n",
       "      <td>443.639726</td>\n",
       "      <td>...</td>\n",
       "      <td>94.244521</td>\n",
       "      <td>46.660274</td>\n",
       "      <td>21.954110</td>\n",
       "      <td>3.409589</td>\n",
       "      <td>15.060959</td>\n",
       "      <td>2.758904</td>\n",
       "      <td>43.489041</td>\n",
       "      <td>6.321918</td>\n",
       "      <td>2007.815753</td>\n",
       "      <td>180921.195890</td>\n",
       "    </tr>\n",
       "    <tr>\n",
       "      <th>std</th>\n",
       "      <td>421.610009</td>\n",
       "      <td>42.300571</td>\n",
       "      <td>24.284752</td>\n",
       "      <td>9981.264932</td>\n",
       "      <td>1.382997</td>\n",
       "      <td>1.112799</td>\n",
       "      <td>30.202904</td>\n",
       "      <td>20.645407</td>\n",
       "      <td>181.066207</td>\n",
       "      <td>456.098091</td>\n",
       "      <td>...</td>\n",
       "      <td>125.338794</td>\n",
       "      <td>66.256028</td>\n",
       "      <td>61.119149</td>\n",
       "      <td>29.317331</td>\n",
       "      <td>55.757415</td>\n",
       "      <td>40.177307</td>\n",
       "      <td>496.123024</td>\n",
       "      <td>2.703626</td>\n",
       "      <td>1.328095</td>\n",
       "      <td>79442.502883</td>\n",
       "    </tr>\n",
       "    <tr>\n",
       "      <th>min</th>\n",
       "      <td>1.000000</td>\n",
       "      <td>20.000000</td>\n",
       "      <td>21.000000</td>\n",
       "      <td>1300.000000</td>\n",
       "      <td>1.000000</td>\n",
       "      <td>1.000000</td>\n",
       "      <td>1872.000000</td>\n",
       "      <td>1950.000000</td>\n",
       "      <td>0.000000</td>\n",
       "      <td>0.000000</td>\n",
       "      <td>...</td>\n",
       "      <td>0.000000</td>\n",
       "      <td>0.000000</td>\n",
       "      <td>0.000000</td>\n",
       "      <td>0.000000</td>\n",
       "      <td>0.000000</td>\n",
       "      <td>0.000000</td>\n",
       "      <td>0.000000</td>\n",
       "      <td>1.000000</td>\n",
       "      <td>2006.000000</td>\n",
       "      <td>34900.000000</td>\n",
       "    </tr>\n",
       "    <tr>\n",
       "      <th>25%</th>\n",
       "      <td>365.750000</td>\n",
       "      <td>20.000000</td>\n",
       "      <td>59.000000</td>\n",
       "      <td>7553.500000</td>\n",
       "      <td>5.000000</td>\n",
       "      <td>5.000000</td>\n",
       "      <td>1954.000000</td>\n",
       "      <td>1967.000000</td>\n",
       "      <td>0.000000</td>\n",
       "      <td>0.000000</td>\n",
       "      <td>...</td>\n",
       "      <td>0.000000</td>\n",
       "      <td>0.000000</td>\n",
       "      <td>0.000000</td>\n",
       "      <td>0.000000</td>\n",
       "      <td>0.000000</td>\n",
       "      <td>0.000000</td>\n",
       "      <td>0.000000</td>\n",
       "      <td>5.000000</td>\n",
       "      <td>2007.000000</td>\n",
       "      <td>129975.000000</td>\n",
       "    </tr>\n",
       "    <tr>\n",
       "      <th>50%</th>\n",
       "      <td>730.500000</td>\n",
       "      <td>50.000000</td>\n",
       "      <td>69.000000</td>\n",
       "      <td>9478.500000</td>\n",
       "      <td>6.000000</td>\n",
       "      <td>5.000000</td>\n",
       "      <td>1973.000000</td>\n",
       "      <td>1994.000000</td>\n",
       "      <td>0.000000</td>\n",
       "      <td>383.500000</td>\n",
       "      <td>...</td>\n",
       "      <td>0.000000</td>\n",
       "      <td>25.000000</td>\n",
       "      <td>0.000000</td>\n",
       "      <td>0.000000</td>\n",
       "      <td>0.000000</td>\n",
       "      <td>0.000000</td>\n",
       "      <td>0.000000</td>\n",
       "      <td>6.000000</td>\n",
       "      <td>2008.000000</td>\n",
       "      <td>163000.000000</td>\n",
       "    </tr>\n",
       "    <tr>\n",
       "      <th>75%</th>\n",
       "      <td>1095.250000</td>\n",
       "      <td>70.000000</td>\n",
       "      <td>80.000000</td>\n",
       "      <td>11601.500000</td>\n",
       "      <td>7.000000</td>\n",
       "      <td>6.000000</td>\n",
       "      <td>2000.000000</td>\n",
       "      <td>2004.000000</td>\n",
       "      <td>166.000000</td>\n",
       "      <td>712.250000</td>\n",
       "      <td>...</td>\n",
       "      <td>168.000000</td>\n",
       "      <td>68.000000</td>\n",
       "      <td>0.000000</td>\n",
       "      <td>0.000000</td>\n",
       "      <td>0.000000</td>\n",
       "      <td>0.000000</td>\n",
       "      <td>0.000000</td>\n",
       "      <td>8.000000</td>\n",
       "      <td>2009.000000</td>\n",
       "      <td>214000.000000</td>\n",
       "    </tr>\n",
       "    <tr>\n",
       "      <th>max</th>\n",
       "      <td>1460.000000</td>\n",
       "      <td>190.000000</td>\n",
       "      <td>313.000000</td>\n",
       "      <td>215245.000000</td>\n",
       "      <td>10.000000</td>\n",
       "      <td>9.000000</td>\n",
       "      <td>2010.000000</td>\n",
       "      <td>2010.000000</td>\n",
       "      <td>1600.000000</td>\n",
       "      <td>5644.000000</td>\n",
       "      <td>...</td>\n",
       "      <td>857.000000</td>\n",
       "      <td>547.000000</td>\n",
       "      <td>552.000000</td>\n",
       "      <td>508.000000</td>\n",
       "      <td>480.000000</td>\n",
       "      <td>738.000000</td>\n",
       "      <td>15500.000000</td>\n",
       "      <td>12.000000</td>\n",
       "      <td>2010.000000</td>\n",
       "      <td>755000.000000</td>\n",
       "    </tr>\n",
       "  </tbody>\n",
       "</table>\n",
       "<p>8 rows × 38 columns</p>\n",
       "</div>"
      ],
      "text/plain": [
       "                Id   MSSubClass  LotFrontage        LotArea  OverallQual  \\\n",
       "count  1460.000000  1460.000000  1201.000000    1460.000000  1460.000000   \n",
       "mean    730.500000    56.897260    70.049958   10516.828082     6.099315   \n",
       "std     421.610009    42.300571    24.284752    9981.264932     1.382997   \n",
       "min       1.000000    20.000000    21.000000    1300.000000     1.000000   \n",
       "25%     365.750000    20.000000    59.000000    7553.500000     5.000000   \n",
       "50%     730.500000    50.000000    69.000000    9478.500000     6.000000   \n",
       "75%    1095.250000    70.000000    80.000000   11601.500000     7.000000   \n",
       "max    1460.000000   190.000000   313.000000  215245.000000    10.000000   \n",
       "\n",
       "       OverallCond    YearBuilt  YearRemodAdd   MasVnrArea   BsmtFinSF1  ...  \\\n",
       "count  1460.000000  1460.000000   1460.000000  1452.000000  1460.000000  ...   \n",
       "mean      5.575342  1971.267808   1984.865753   103.685262   443.639726  ...   \n",
       "std       1.112799    30.202904     20.645407   181.066207   456.098091  ...   \n",
       "min       1.000000  1872.000000   1950.000000     0.000000     0.000000  ...   \n",
       "25%       5.000000  1954.000000   1967.000000     0.000000     0.000000  ...   \n",
       "50%       5.000000  1973.000000   1994.000000     0.000000   383.500000  ...   \n",
       "75%       6.000000  2000.000000   2004.000000   166.000000   712.250000  ...   \n",
       "max       9.000000  2010.000000   2010.000000  1600.000000  5644.000000  ...   \n",
       "\n",
       "        WoodDeckSF  OpenPorchSF  EnclosedPorch    3SsnPorch  ScreenPorch  \\\n",
       "count  1460.000000  1460.000000    1460.000000  1460.000000  1460.000000   \n",
       "mean     94.244521    46.660274      21.954110     3.409589    15.060959   \n",
       "std     125.338794    66.256028      61.119149    29.317331    55.757415   \n",
       "min       0.000000     0.000000       0.000000     0.000000     0.000000   \n",
       "25%       0.000000     0.000000       0.000000     0.000000     0.000000   \n",
       "50%       0.000000    25.000000       0.000000     0.000000     0.000000   \n",
       "75%     168.000000    68.000000       0.000000     0.000000     0.000000   \n",
       "max     857.000000   547.000000     552.000000   508.000000   480.000000   \n",
       "\n",
       "          PoolArea       MiscVal       MoSold       YrSold      SalePrice  \n",
       "count  1460.000000   1460.000000  1460.000000  1460.000000    1460.000000  \n",
       "mean      2.758904     43.489041     6.321918  2007.815753  180921.195890  \n",
       "std      40.177307    496.123024     2.703626     1.328095   79442.502883  \n",
       "min       0.000000      0.000000     1.000000  2006.000000   34900.000000  \n",
       "25%       0.000000      0.000000     5.000000  2007.000000  129975.000000  \n",
       "50%       0.000000      0.000000     6.000000  2008.000000  163000.000000  \n",
       "75%       0.000000      0.000000     8.000000  2009.000000  214000.000000  \n",
       "max     738.000000  15500.000000    12.000000  2010.000000  755000.000000  \n",
       "\n",
       "[8 rows x 38 columns]"
      ]
     },
     "execution_count": 11,
     "metadata": {},
     "output_type": "execute_result"
    }
   ],
   "source": [
    "df_train.describe()"
   ]
  },
  {
   "cell_type": "code",
   "execution_count": 12,
   "metadata": {
    "execution": {
     "iopub.execute_input": "2021-08-05T19:28:49.042291Z",
     "iopub.status.busy": "2021-08-05T19:28:49.041930Z",
     "iopub.status.idle": "2021-08-05T19:28:49.155534Z",
     "shell.execute_reply": "2021-08-05T19:28:49.154544Z",
     "shell.execute_reply.started": "2021-08-05T19:28:49.042258Z"
    }
   },
   "outputs": [
    {
     "data": {
      "text/html": [
       "<div>\n",
       "<style scoped>\n",
       "    .dataframe tbody tr th:only-of-type {\n",
       "        vertical-align: middle;\n",
       "    }\n",
       "\n",
       "    .dataframe tbody tr th {\n",
       "        vertical-align: top;\n",
       "    }\n",
       "\n",
       "    .dataframe thead th {\n",
       "        text-align: right;\n",
       "    }\n",
       "</style>\n",
       "<table border=\"1\" class=\"dataframe\">\n",
       "  <thead>\n",
       "    <tr style=\"text-align: right;\">\n",
       "      <th></th>\n",
       "      <th>count</th>\n",
       "      <th>unique</th>\n",
       "      <th>top</th>\n",
       "      <th>freq</th>\n",
       "    </tr>\n",
       "  </thead>\n",
       "  <tbody>\n",
       "    <tr>\n",
       "      <th>MSZoning</th>\n",
       "      <td>1460</td>\n",
       "      <td>5</td>\n",
       "      <td>RL</td>\n",
       "      <td>1151</td>\n",
       "    </tr>\n",
       "    <tr>\n",
       "      <th>Street</th>\n",
       "      <td>1460</td>\n",
       "      <td>2</td>\n",
       "      <td>Pave</td>\n",
       "      <td>1454</td>\n",
       "    </tr>\n",
       "    <tr>\n",
       "      <th>LotShape</th>\n",
       "      <td>1460</td>\n",
       "      <td>4</td>\n",
       "      <td>Reg</td>\n",
       "      <td>925</td>\n",
       "    </tr>\n",
       "    <tr>\n",
       "      <th>LandContour</th>\n",
       "      <td>1460</td>\n",
       "      <td>4</td>\n",
       "      <td>Lvl</td>\n",
       "      <td>1311</td>\n",
       "    </tr>\n",
       "    <tr>\n",
       "      <th>Utilities</th>\n",
       "      <td>1460</td>\n",
       "      <td>2</td>\n",
       "      <td>AllPub</td>\n",
       "      <td>1459</td>\n",
       "    </tr>\n",
       "    <tr>\n",
       "      <th>LotConfig</th>\n",
       "      <td>1460</td>\n",
       "      <td>5</td>\n",
       "      <td>Inside</td>\n",
       "      <td>1052</td>\n",
       "    </tr>\n",
       "    <tr>\n",
       "      <th>LandSlope</th>\n",
       "      <td>1460</td>\n",
       "      <td>3</td>\n",
       "      <td>Gtl</td>\n",
       "      <td>1382</td>\n",
       "    </tr>\n",
       "    <tr>\n",
       "      <th>Neighborhood</th>\n",
       "      <td>1460</td>\n",
       "      <td>25</td>\n",
       "      <td>NAmes</td>\n",
       "      <td>225</td>\n",
       "    </tr>\n",
       "    <tr>\n",
       "      <th>Condition1</th>\n",
       "      <td>1460</td>\n",
       "      <td>9</td>\n",
       "      <td>Norm</td>\n",
       "      <td>1260</td>\n",
       "    </tr>\n",
       "    <tr>\n",
       "      <th>Condition2</th>\n",
       "      <td>1460</td>\n",
       "      <td>8</td>\n",
       "      <td>Norm</td>\n",
       "      <td>1445</td>\n",
       "    </tr>\n",
       "    <tr>\n",
       "      <th>BldgType</th>\n",
       "      <td>1460</td>\n",
       "      <td>5</td>\n",
       "      <td>1Fam</td>\n",
       "      <td>1220</td>\n",
       "    </tr>\n",
       "    <tr>\n",
       "      <th>HouseStyle</th>\n",
       "      <td>1460</td>\n",
       "      <td>8</td>\n",
       "      <td>1Story</td>\n",
       "      <td>726</td>\n",
       "    </tr>\n",
       "    <tr>\n",
       "      <th>RoofStyle</th>\n",
       "      <td>1460</td>\n",
       "      <td>6</td>\n",
       "      <td>Gable</td>\n",
       "      <td>1141</td>\n",
       "    </tr>\n",
       "    <tr>\n",
       "      <th>RoofMatl</th>\n",
       "      <td>1460</td>\n",
       "      <td>8</td>\n",
       "      <td>CompShg</td>\n",
       "      <td>1434</td>\n",
       "    </tr>\n",
       "    <tr>\n",
       "      <th>Exterior1st</th>\n",
       "      <td>1460</td>\n",
       "      <td>15</td>\n",
       "      <td>VinylSd</td>\n",
       "      <td>515</td>\n",
       "    </tr>\n",
       "    <tr>\n",
       "      <th>Exterior2nd</th>\n",
       "      <td>1460</td>\n",
       "      <td>16</td>\n",
       "      <td>VinylSd</td>\n",
       "      <td>504</td>\n",
       "    </tr>\n",
       "    <tr>\n",
       "      <th>MasVnrType</th>\n",
       "      <td>1452</td>\n",
       "      <td>4</td>\n",
       "      <td>None</td>\n",
       "      <td>864</td>\n",
       "    </tr>\n",
       "    <tr>\n",
       "      <th>ExterQual</th>\n",
       "      <td>1460</td>\n",
       "      <td>4</td>\n",
       "      <td>TA</td>\n",
       "      <td>906</td>\n",
       "    </tr>\n",
       "    <tr>\n",
       "      <th>ExterCond</th>\n",
       "      <td>1460</td>\n",
       "      <td>5</td>\n",
       "      <td>TA</td>\n",
       "      <td>1282</td>\n",
       "    </tr>\n",
       "    <tr>\n",
       "      <th>Foundation</th>\n",
       "      <td>1460</td>\n",
       "      <td>6</td>\n",
       "      <td>PConc</td>\n",
       "      <td>647</td>\n",
       "    </tr>\n",
       "    <tr>\n",
       "      <th>BsmtQual</th>\n",
       "      <td>1423</td>\n",
       "      <td>4</td>\n",
       "      <td>TA</td>\n",
       "      <td>649</td>\n",
       "    </tr>\n",
       "    <tr>\n",
       "      <th>BsmtCond</th>\n",
       "      <td>1423</td>\n",
       "      <td>4</td>\n",
       "      <td>TA</td>\n",
       "      <td>1311</td>\n",
       "    </tr>\n",
       "    <tr>\n",
       "      <th>BsmtExposure</th>\n",
       "      <td>1422</td>\n",
       "      <td>4</td>\n",
       "      <td>No</td>\n",
       "      <td>953</td>\n",
       "    </tr>\n",
       "    <tr>\n",
       "      <th>BsmtFinType1</th>\n",
       "      <td>1423</td>\n",
       "      <td>6</td>\n",
       "      <td>Unf</td>\n",
       "      <td>430</td>\n",
       "    </tr>\n",
       "    <tr>\n",
       "      <th>BsmtFinType2</th>\n",
       "      <td>1422</td>\n",
       "      <td>6</td>\n",
       "      <td>Unf</td>\n",
       "      <td>1256</td>\n",
       "    </tr>\n",
       "    <tr>\n",
       "      <th>Heating</th>\n",
       "      <td>1460</td>\n",
       "      <td>6</td>\n",
       "      <td>GasA</td>\n",
       "      <td>1428</td>\n",
       "    </tr>\n",
       "    <tr>\n",
       "      <th>HeatingQC</th>\n",
       "      <td>1460</td>\n",
       "      <td>5</td>\n",
       "      <td>Ex</td>\n",
       "      <td>741</td>\n",
       "    </tr>\n",
       "    <tr>\n",
       "      <th>CentralAir</th>\n",
       "      <td>1460</td>\n",
       "      <td>2</td>\n",
       "      <td>Y</td>\n",
       "      <td>1365</td>\n",
       "    </tr>\n",
       "    <tr>\n",
       "      <th>Electrical</th>\n",
       "      <td>1459</td>\n",
       "      <td>5</td>\n",
       "      <td>SBrkr</td>\n",
       "      <td>1334</td>\n",
       "    </tr>\n",
       "    <tr>\n",
       "      <th>KitchenQual</th>\n",
       "      <td>1460</td>\n",
       "      <td>4</td>\n",
       "      <td>TA</td>\n",
       "      <td>735</td>\n",
       "    </tr>\n",
       "    <tr>\n",
       "      <th>Functional</th>\n",
       "      <td>1460</td>\n",
       "      <td>7</td>\n",
       "      <td>Typ</td>\n",
       "      <td>1360</td>\n",
       "    </tr>\n",
       "    <tr>\n",
       "      <th>GarageType</th>\n",
       "      <td>1379</td>\n",
       "      <td>6</td>\n",
       "      <td>Attchd</td>\n",
       "      <td>870</td>\n",
       "    </tr>\n",
       "    <tr>\n",
       "      <th>GarageFinish</th>\n",
       "      <td>1379</td>\n",
       "      <td>3</td>\n",
       "      <td>Unf</td>\n",
       "      <td>605</td>\n",
       "    </tr>\n",
       "    <tr>\n",
       "      <th>GarageQual</th>\n",
       "      <td>1379</td>\n",
       "      <td>5</td>\n",
       "      <td>TA</td>\n",
       "      <td>1311</td>\n",
       "    </tr>\n",
       "    <tr>\n",
       "      <th>GarageCond</th>\n",
       "      <td>1379</td>\n",
       "      <td>5</td>\n",
       "      <td>TA</td>\n",
       "      <td>1326</td>\n",
       "    </tr>\n",
       "    <tr>\n",
       "      <th>PavedDrive</th>\n",
       "      <td>1460</td>\n",
       "      <td>3</td>\n",
       "      <td>Y</td>\n",
       "      <td>1340</td>\n",
       "    </tr>\n",
       "    <tr>\n",
       "      <th>SaleType</th>\n",
       "      <td>1460</td>\n",
       "      <td>9</td>\n",
       "      <td>WD</td>\n",
       "      <td>1267</td>\n",
       "    </tr>\n",
       "    <tr>\n",
       "      <th>SaleCondition</th>\n",
       "      <td>1460</td>\n",
       "      <td>6</td>\n",
       "      <td>Normal</td>\n",
       "      <td>1198</td>\n",
       "    </tr>\n",
       "  </tbody>\n",
       "</table>\n",
       "</div>"
      ],
      "text/plain": [
       "              count unique      top  freq\n",
       "MSZoning       1460      5       RL  1151\n",
       "Street         1460      2     Pave  1454\n",
       "LotShape       1460      4      Reg   925\n",
       "LandContour    1460      4      Lvl  1311\n",
       "Utilities      1460      2   AllPub  1459\n",
       "LotConfig      1460      5   Inside  1052\n",
       "LandSlope      1460      3      Gtl  1382\n",
       "Neighborhood   1460     25    NAmes   225\n",
       "Condition1     1460      9     Norm  1260\n",
       "Condition2     1460      8     Norm  1445\n",
       "BldgType       1460      5     1Fam  1220\n",
       "HouseStyle     1460      8   1Story   726\n",
       "RoofStyle      1460      6    Gable  1141\n",
       "RoofMatl       1460      8  CompShg  1434\n",
       "Exterior1st    1460     15  VinylSd   515\n",
       "Exterior2nd    1460     16  VinylSd   504\n",
       "MasVnrType     1452      4     None   864\n",
       "ExterQual      1460      4       TA   906\n",
       "ExterCond      1460      5       TA  1282\n",
       "Foundation     1460      6    PConc   647\n",
       "BsmtQual       1423      4       TA   649\n",
       "BsmtCond       1423      4       TA  1311\n",
       "BsmtExposure   1422      4       No   953\n",
       "BsmtFinType1   1423      6      Unf   430\n",
       "BsmtFinType2   1422      6      Unf  1256\n",
       "Heating        1460      6     GasA  1428\n",
       "HeatingQC      1460      5       Ex   741\n",
       "CentralAir     1460      2        Y  1365\n",
       "Electrical     1459      5    SBrkr  1334\n",
       "KitchenQual    1460      4       TA   735\n",
       "Functional     1460      7      Typ  1360\n",
       "GarageType     1379      6   Attchd   870\n",
       "GarageFinish   1379      3      Unf   605\n",
       "GarageQual     1379      5       TA  1311\n",
       "GarageCond     1379      5       TA  1326\n",
       "PavedDrive     1460      3        Y  1340\n",
       "SaleType       1460      9       WD  1267\n",
       "SaleCondition  1460      6   Normal  1198"
      ]
     },
     "execution_count": 12,
     "metadata": {},
     "output_type": "execute_result"
    }
   ],
   "source": [
    "df_train.describe(include='category').T"
   ]
  },
  {
   "cell_type": "code",
   "execution_count": 13,
   "metadata": {
    "execution": {
     "iopub.execute_input": "2021-08-05T19:28:51.165675Z",
     "iopub.status.busy": "2021-08-05T19:28:51.165310Z",
     "iopub.status.idle": "2021-08-05T19:28:51.195720Z",
     "shell.execute_reply": "2021-08-05T19:28:51.194988Z",
     "shell.execute_reply.started": "2021-08-05T19:28:51.165641Z"
    }
   },
   "outputs": [
    {
     "data": {
      "text/html": [
       "<div>\n",
       "<style scoped>\n",
       "    .dataframe tbody tr th:only-of-type {\n",
       "        vertical-align: middle;\n",
       "    }\n",
       "\n",
       "    .dataframe tbody tr th {\n",
       "        vertical-align: top;\n",
       "    }\n",
       "\n",
       "    .dataframe thead th {\n",
       "        text-align: right;\n",
       "    }\n",
       "</style>\n",
       "<table border=\"1\" class=\"dataframe\">\n",
       "  <thead>\n",
       "    <tr style=\"text-align: right;\">\n",
       "      <th></th>\n",
       "      <th>Id</th>\n",
       "      <th>MSSubClass</th>\n",
       "      <th>LotFrontage</th>\n",
       "      <th>LotArea</th>\n",
       "      <th>LotShape</th>\n",
       "      <th>Neighborhood</th>\n",
       "      <th>HouseStyle</th>\n",
       "      <th>OverallQual</th>\n",
       "      <th>OverallCond</th>\n",
       "      <th>YearBuilt</th>\n",
       "      <th>...</th>\n",
       "      <th>WoodDeckSF</th>\n",
       "      <th>OpenPorchSF</th>\n",
       "      <th>EnclosedPorch</th>\n",
       "      <th>3SsnPorch</th>\n",
       "      <th>ScreenPorch</th>\n",
       "      <th>PoolArea</th>\n",
       "      <th>MiscVal</th>\n",
       "      <th>MoSold</th>\n",
       "      <th>YrSold</th>\n",
       "      <th>SalePrice</th>\n",
       "    </tr>\n",
       "  </thead>\n",
       "  <tbody>\n",
       "    <tr>\n",
       "      <th>0</th>\n",
       "      <td>1</td>\n",
       "      <td>60</td>\n",
       "      <td>65.0</td>\n",
       "      <td>8450</td>\n",
       "      <td>Reg</td>\n",
       "      <td>CollgCr</td>\n",
       "      <td>2Story</td>\n",
       "      <td>7</td>\n",
       "      <td>5</td>\n",
       "      <td>2003</td>\n",
       "      <td>...</td>\n",
       "      <td>0</td>\n",
       "      <td>61</td>\n",
       "      <td>0</td>\n",
       "      <td>0</td>\n",
       "      <td>0</td>\n",
       "      <td>0</td>\n",
       "      <td>0</td>\n",
       "      <td>2</td>\n",
       "      <td>2008</td>\n",
       "      <td>208500</td>\n",
       "    </tr>\n",
       "    <tr>\n",
       "      <th>1</th>\n",
       "      <td>2</td>\n",
       "      <td>20</td>\n",
       "      <td>80.0</td>\n",
       "      <td>9600</td>\n",
       "      <td>Reg</td>\n",
       "      <td>Veenker</td>\n",
       "      <td>1Story</td>\n",
       "      <td>6</td>\n",
       "      <td>8</td>\n",
       "      <td>1976</td>\n",
       "      <td>...</td>\n",
       "      <td>298</td>\n",
       "      <td>0</td>\n",
       "      <td>0</td>\n",
       "      <td>0</td>\n",
       "      <td>0</td>\n",
       "      <td>0</td>\n",
       "      <td>0</td>\n",
       "      <td>5</td>\n",
       "      <td>2007</td>\n",
       "      <td>181500</td>\n",
       "    </tr>\n",
       "    <tr>\n",
       "      <th>2</th>\n",
       "      <td>3</td>\n",
       "      <td>60</td>\n",
       "      <td>68.0</td>\n",
       "      <td>11250</td>\n",
       "      <td>IR1</td>\n",
       "      <td>CollgCr</td>\n",
       "      <td>2Story</td>\n",
       "      <td>7</td>\n",
       "      <td>5</td>\n",
       "      <td>2001</td>\n",
       "      <td>...</td>\n",
       "      <td>0</td>\n",
       "      <td>42</td>\n",
       "      <td>0</td>\n",
       "      <td>0</td>\n",
       "      <td>0</td>\n",
       "      <td>0</td>\n",
       "      <td>0</td>\n",
       "      <td>9</td>\n",
       "      <td>2008</td>\n",
       "      <td>223500</td>\n",
       "    </tr>\n",
       "    <tr>\n",
       "      <th>3</th>\n",
       "      <td>4</td>\n",
       "      <td>70</td>\n",
       "      <td>60.0</td>\n",
       "      <td>9550</td>\n",
       "      <td>IR1</td>\n",
       "      <td>Crawfor</td>\n",
       "      <td>2Story</td>\n",
       "      <td>7</td>\n",
       "      <td>5</td>\n",
       "      <td>1915</td>\n",
       "      <td>...</td>\n",
       "      <td>0</td>\n",
       "      <td>35</td>\n",
       "      <td>272</td>\n",
       "      <td>0</td>\n",
       "      <td>0</td>\n",
       "      <td>0</td>\n",
       "      <td>0</td>\n",
       "      <td>2</td>\n",
       "      <td>2006</td>\n",
       "      <td>140000</td>\n",
       "    </tr>\n",
       "    <tr>\n",
       "      <th>4</th>\n",
       "      <td>5</td>\n",
       "      <td>60</td>\n",
       "      <td>84.0</td>\n",
       "      <td>14260</td>\n",
       "      <td>IR1</td>\n",
       "      <td>NoRidge</td>\n",
       "      <td>2Story</td>\n",
       "      <td>8</td>\n",
       "      <td>5</td>\n",
       "      <td>2000</td>\n",
       "      <td>...</td>\n",
       "      <td>192</td>\n",
       "      <td>84</td>\n",
       "      <td>0</td>\n",
       "      <td>0</td>\n",
       "      <td>0</td>\n",
       "      <td>0</td>\n",
       "      <td>0</td>\n",
       "      <td>12</td>\n",
       "      <td>2008</td>\n",
       "      <td>250000</td>\n",
       "    </tr>\n",
       "  </tbody>\n",
       "</table>\n",
       "<p>5 rows × 54 columns</p>\n",
       "</div>"
      ],
      "text/plain": [
       "   Id  MSSubClass  LotFrontage  LotArea LotShape Neighborhood HouseStyle  \\\n",
       "0   1          60         65.0     8450      Reg      CollgCr     2Story   \n",
       "1   2          20         80.0     9600      Reg      Veenker     1Story   \n",
       "2   3          60         68.0    11250      IR1      CollgCr     2Story   \n",
       "3   4          70         60.0     9550      IR1      Crawfor     2Story   \n",
       "4   5          60         84.0    14260      IR1      NoRidge     2Story   \n",
       "\n",
       "   OverallQual  OverallCond  YearBuilt  ...  WoodDeckSF OpenPorchSF  \\\n",
       "0            7            5       2003  ...           0          61   \n",
       "1            6            8       1976  ...         298           0   \n",
       "2            7            5       2001  ...           0          42   \n",
       "3            7            5       1915  ...           0          35   \n",
       "4            8            5       2000  ...         192          84   \n",
       "\n",
       "  EnclosedPorch 3SsnPorch  ScreenPorch PoolArea MiscVal MoSold YrSold  \\\n",
       "0             0         0            0        0       0      2   2008   \n",
       "1             0         0            0        0       0      5   2007   \n",
       "2             0         0            0        0       0      9   2008   \n",
       "3           272         0            0        0       0      2   2006   \n",
       "4             0         0            0        0       0     12   2008   \n",
       "\n",
       "  SalePrice  \n",
       "0    208500  \n",
       "1    181500  \n",
       "2    223500  \n",
       "3    140000  \n",
       "4    250000  \n",
       "\n",
       "[5 rows x 54 columns]"
      ]
     },
     "execution_count": 13,
     "metadata": {},
     "output_type": "execute_result"
    }
   ],
   "source": [
    "# drop unbalanced categorical columns\n",
    "unbalanced_columns = ['MSZoning', 'Street', 'LandContour', 'Utilities', 'LotConfig', 'LandSlope', 'Condition1', 'Condition2', 'BldgType', 'RoofStyle', 'RoofMatl', 'ExterCond', 'BsmtCond', 'Heating', 'CentralAir', 'Electrical', 'Functional', 'GarageQual', 'GarageCond', 'PavedDrive', 'SaleType', 'SaleCondition']\n",
    "df_train.drop(unbalanced_columns, axis=1, inplace=True)\n",
    "df_train.head()"
   ]
  },
  {
   "cell_type": "code",
   "execution_count": 14,
   "metadata": {
    "execution": {
     "iopub.execute_input": "2021-08-05T19:28:52.765553Z",
     "iopub.status.busy": "2021-08-05T19:28:52.765210Z",
     "iopub.status.idle": "2021-08-05T19:28:52.783834Z",
     "shell.execute_reply": "2021-08-05T19:28:52.782823Z",
     "shell.execute_reply.started": "2021-08-05T19:28:52.765520Z"
    }
   },
   "outputs": [
    {
     "data": {
      "text/plain": [
       "SalePrice        1.000000\n",
       "OverallQual      0.790982\n",
       "GrLivArea        0.708624\n",
       "GarageCars       0.640409\n",
       "GarageArea       0.623431\n",
       "TotalBsmtSF      0.613581\n",
       "1stFlrSF         0.605852\n",
       "FullBath         0.560664\n",
       "TotRmsAbvGrd     0.533723\n",
       "YearBuilt        0.522897\n",
       "YearRemodAdd     0.507101\n",
       "GarageYrBlt      0.486362\n",
       "MasVnrArea       0.477493\n",
       "Fireplaces       0.466929\n",
       "BsmtFinSF1       0.386420\n",
       "LotFrontage      0.351799\n",
       "WoodDeckSF       0.324413\n",
       "2ndFlrSF         0.319334\n",
       "OpenPorchSF      0.315856\n",
       "HalfBath         0.284108\n",
       "LotArea          0.263843\n",
       "BsmtFullBath     0.227122\n",
       "BsmtUnfSF        0.214479\n",
       "BedroomAbvGr     0.168213\n",
       "ScreenPorch      0.111447\n",
       "PoolArea         0.092404\n",
       "MoSold           0.046432\n",
       "3SsnPorch        0.044584\n",
       "BsmtFinSF2      -0.011378\n",
       "BsmtHalfBath    -0.016844\n",
       "MiscVal         -0.021190\n",
       "Id              -0.021917\n",
       "LowQualFinSF    -0.025606\n",
       "YrSold          -0.028923\n",
       "OverallCond     -0.077856\n",
       "MSSubClass      -0.084284\n",
       "EnclosedPorch   -0.128578\n",
       "KitchenAbvGr    -0.135907\n",
       "Name: SalePrice, dtype: float64"
      ]
     },
     "execution_count": 14,
     "metadata": {},
     "output_type": "execute_result"
    }
   ],
   "source": [
    "df_train.corr()['SalePrice'].sort_values(ascending=False)"
   ]
  },
  {
   "cell_type": "code",
   "execution_count": 15,
   "metadata": {
    "execution": {
     "iopub.execute_input": "2021-08-05T19:28:54.128402Z",
     "iopub.status.busy": "2021-08-05T19:28:54.127953Z",
     "iopub.status.idle": "2021-08-05T19:28:54.428318Z",
     "shell.execute_reply": "2021-08-05T19:28:54.427367Z",
     "shell.execute_reply.started": "2021-08-05T19:28:54.128364Z"
    }
   },
   "outputs": [
    {
     "data": {
      "image/png": "[encoded data removed]",
      "text/plain": [
       "<Figure size 432x288 with 1 Axes>"
      ]
     },
     "metadata": {
      "needs_background": "light"
     },
     "output_type": "display_data"
    }
   ],
   "source": [
    "from scipy.stats import norm\n",
    "sns.distplot(df_train.SalePrice,fit=norm);"
   ]
  },
  {
   "cell_type": "code",
   "execution_count": 16,
   "metadata": {
    "execution": {
     "iopub.execute_input": "2021-08-05T19:28:56.212343Z",
     "iopub.status.busy": "2021-08-05T19:28:56.211981Z",
     "iopub.status.idle": "2021-08-05T19:28:56.217744Z",
     "shell.execute_reply": "2021-08-05T19:28:56.216710Z",
     "shell.execute_reply.started": "2021-08-05T19:28:56.212311Z"
    }
   },
   "outputs": [],
   "source": [
    "df_train['SalePrice'] = np.log1p(df_train['SalePrice'].values.ravel())"
   ]
  },
  {
   "cell_type": "code",
   "execution_count": 17,
   "metadata": {
    "execution": {
     "iopub.execute_input": "2021-08-05T19:28:57.930442Z",
     "iopub.status.busy": "2021-08-05T19:28:57.929910Z",
     "iopub.status.idle": "2021-08-05T19:28:58.199550Z",
     "shell.execute_reply": "2021-08-05T19:28:58.198791Z",
     "shell.execute_reply.started": "2021-08-05T19:28:57.930408Z"
    }
   },
   "outputs": [
    {
     "data": {
      "image/png": "[encoded data removed]",
      "text/plain": [
       "<Figure size 432x288 with 1 Axes>"
      ]
     },
     "metadata": {
      "needs_background": "light"
     },
     "output_type": "display_data"
    }
   ],
   "source": [
    "sns.distplot(df_train.SalePrice,fit=norm);"
   ]
  },
  {
   "cell_type": "code",
   "execution_count": 18,
   "metadata": {
    "execution": {
     "iopub.execute_input": "2021-08-05T19:28:59.280333Z",
     "iopub.status.busy": "2021-08-05T19:28:59.279772Z",
     "iopub.status.idle": "2021-08-05T19:28:59.288091Z",
     "shell.execute_reply": "2021-08-05T19:28:59.287067Z",
     "shell.execute_reply.started": "2021-08-05T19:28:59.280297Z"
    }
   },
   "outputs": [],
   "source": [
    "# updating columns \n",
    "qualitative_cols = [c for c in df_train.columns if df_train[c].dtype.name == 'category']\n",
    "quantative_cols = [c for c in df_train.columns if df_train[c].dtype.name != 'category']"
   ]
  },
  {
   "cell_type": "code",
   "execution_count": 19,
   "metadata": {
    "execution": {
     "iopub.execute_input": "2021-08-05T19:29:00.932224Z",
     "iopub.status.busy": "2021-08-05T19:29:00.931672Z",
     "iopub.status.idle": "2021-08-05T19:29:00.952583Z",
     "shell.execute_reply": "2021-08-05T19:29:00.951756Z",
     "shell.execute_reply.started": "2021-08-05T19:29:00.932174Z"
    }
   },
   "outputs": [],
   "source": [
    "# fill null values for categorical features with mode\n",
    "for col in qualitative_cols:\n",
    "    df_train[col] = df_train[col].fillna(df_train[col].mode()[0])"
   ]
  },
  {
   "cell_type": "code",
   "execution_count": 20,
   "metadata": {
    "execution": {
     "iopub.execute_input": "2021-08-05T19:29:01.384373Z",
     "iopub.status.busy": "2021-08-05T19:29:01.383730Z",
     "iopub.status.idle": "2021-08-05T19:29:01.397803Z",
     "shell.execute_reply": "2021-08-05T19:29:01.396597Z",
     "shell.execute_reply.started": "2021-08-05T19:29:01.384319Z"
    }
   },
   "outputs": [
    {
     "data": {
      "text/plain": [
       "LotShape        0\n",
       "Neighborhood    0\n",
       "HouseStyle      0\n",
       "Exterior1st     0\n",
       "Exterior2nd     0\n",
       "MasVnrType      0\n",
       "ExterQual       0\n",
       "Foundation      0\n",
       "BsmtQual        0\n",
       "BsmtExposure    0\n",
       "BsmtFinType1    0\n",
       "BsmtFinType2    0\n",
       "HeatingQC       0\n",
       "KitchenQual     0\n",
       "GarageType      0\n",
       "GarageFinish    0\n",
       "dtype: int64"
      ]
     },
     "execution_count": 20,
     "metadata": {},
     "output_type": "execute_result"
    }
   ],
   "source": [
    "df_train[qualitative_cols].isnull().sum()"
   ]
  },
  {
   "cell_type": "code",
   "execution_count": 21,
   "metadata": {
    "execution": {
     "iopub.execute_input": "2021-08-05T19:30:25.440643Z",
     "iopub.status.busy": "2021-08-05T19:30:25.440281Z",
     "iopub.status.idle": "2021-08-05T19:30:25.482583Z",
     "shell.execute_reply": "2021-08-05T19:30:25.481798Z",
     "shell.execute_reply.started": "2021-08-05T19:30:25.440611Z"
    }
   },
   "outputs": [
    {
     "name": "stdout",
     "output_type": "stream",
     "text": [
      "(1460, 104)\n"
     ]
    },
    {
     "data": {
      "text/plain": [
       "LotShape_IR2            0\n",
       "BsmtQual_Gd             0\n",
       "BsmtQual_Fa             0\n",
       "Foundation_Wood         0\n",
       "Foundation_Stone        0\n",
       "Foundation_Slab         0\n",
       "Foundation_PConc        0\n",
       "Foundation_CBlock       0\n",
       "ExterQual_TA            0\n",
       "ExterQual_Gd            0\n",
       "ExterQual_Fa            0\n",
       "BsmtQual_TA             0\n",
       "MasVnrType_Stone        0\n",
       "MasVnrType_BrkFace      0\n",
       "Exterior2nd_Wd Shng     0\n",
       "Exterior2nd_Wd Sdng     0\n",
       "Exterior2nd_VinylSd     0\n",
       "Exterior2nd_Stucco      0\n",
       "Exterior2nd_Stone       0\n",
       "Exterior2nd_Plywood     0\n",
       "Exterior2nd_Other       0\n",
       "Exterior2nd_MetalSd     0\n",
       "Exterior2nd_ImStucc     0\n",
       "MasVnrType_None         0\n",
       "BsmtExposure_Gd         0\n",
       "BsmtExposure_Mn         0\n",
       "BsmtExposure_No         0\n",
       "GarageFinish_RFn        0\n",
       "GarageType_Detchd       0\n",
       "GarageType_CarPort      0\n",
       "                       ..\n",
       "LotShape_IR3            0\n",
       "Neighborhood_IDOTRR     0\n",
       "Neighborhood_StoneBr    0\n",
       "Neighborhood_Timber     0\n",
       "Neighborhood_Veenker    0\n",
       "Exterior2nd_Brk Cmn     0\n",
       "Exterior2nd_AsphShn     0\n",
       "Exterior1st_WdShing     0\n",
       "Exterior1st_Wd Sdng     0\n",
       "Exterior1st_VinylSd     0\n",
       "Exterior1st_Stucco      0\n",
       "Exterior1st_Stone       0\n",
       "Exterior1st_Plywood     0\n",
       "Exterior1st_MetalSd     0\n",
       "Exterior1st_ImStucc     0\n",
       "Exterior1st_HdBoard     0\n",
       "Exterior1st_CemntBd     0\n",
       "Exterior1st_CBlock      0\n",
       "Exterior1st_BrkFace     0\n",
       "Exterior1st_BrkComm     0\n",
       "Exterior1st_AsphShn     0\n",
       "HouseStyle_SLvl         0\n",
       "HouseStyle_SFoyer       0\n",
       "HouseStyle_2Story       0\n",
       "HouseStyle_2.5Unf       0\n",
       "HouseStyle_2.5Fin       0\n",
       "HouseStyle_1Story       0\n",
       "HouseStyle_1.5Unf       0\n",
       "Exterior2nd_CBlock      0\n",
       "Id                      0\n",
       "Length: 105, dtype: int64"
      ]
     },
     "execution_count": 21,
     "metadata": {},
     "output_type": "execute_result"
    }
   ],
   "source": [
    "x_dummy = pd.get_dummies(data=df_train[qualitative_cols],drop_first=True)\n",
    "print(x_dummy.shape)\n",
    "x_dummy['Id'] = df_train['Id']\n",
    "x_dummy.isnull().sum().sort_values()"
   ]
  },
  {
   "cell_type": "code",
   "execution_count": 22,
   "metadata": {
    "execution": {
     "iopub.execute_input": "2021-08-05T19:30:41.247474Z",
     "iopub.status.busy": "2021-08-05T19:30:41.247097Z",
     "iopub.status.idle": "2021-08-05T19:30:41.253324Z",
     "shell.execute_reply": "2021-08-05T19:30:41.252145Z",
     "shell.execute_reply.started": "2021-08-05T19:30:41.247443Z"
    }
   },
   "outputs": [
    {
     "name": "stdout",
     "output_type": "stream",
     "text": [
      "(1460, 54)\n",
      "(1460, 105)\n"
     ]
    }
   ],
   "source": [
    "print(df_train.shape)\n",
    "print(x_dummy.shape)"
   ]
  },
  {
   "cell_type": "code",
   "execution_count": 23,
   "metadata": {
    "execution": {
     "iopub.execute_input": "2021-08-05T19:30:53.174855Z",
     "iopub.status.busy": "2021-08-05T19:30:53.174509Z",
     "iopub.status.idle": "2021-08-05T19:30:53.196873Z",
     "shell.execute_reply": "2021-08-05T19:30:53.195631Z",
     "shell.execute_reply.started": "2021-08-05T19:30:53.174824Z"
    }
   },
   "outputs": [
    {
     "name": "stdout",
     "output_type": "stream",
     "text": [
      "(1460, 158)\n"
     ]
    }
   ],
   "source": [
    "df_train = df_train.merge(x_dummy)\n",
    "print(df_train.shape)"
   ]
  },
  {
   "cell_type": "code",
   "execution_count": 24,
   "metadata": {
    "execution": {
     "iopub.execute_input": "2021-08-05T19:33:16.617121Z",
     "iopub.status.busy": "2021-08-05T19:33:16.616726Z",
     "iopub.status.idle": "2021-08-05T19:33:16.635742Z",
     "shell.execute_reply": "2021-08-05T19:33:16.634427Z",
     "shell.execute_reply.started": "2021-08-05T19:33:16.617087Z"
    }
   },
   "outputs": [
    {
     "data": {
      "text/plain": [
       "[]"
      ]
     },
     "execution_count": 24,
     "metadata": {},
     "output_type": "execute_result"
    }
   ],
   "source": [
    "df_train.drop(qualitative_cols, inplace=True, axis=1)\n",
    "qualitative_cols = [c for c in df_train.columns if df_train[c].dtype.name == 'category']\n",
    "qualitative_cols"
   ]
  },
  {
   "cell_type": "code",
   "execution_count": 25,
   "metadata": {
    "execution": {
     "iopub.execute_input": "2021-08-05T19:33:28.005669Z",
     "iopub.status.busy": "2021-08-05T19:33:28.004965Z",
     "iopub.status.idle": "2021-08-05T19:33:28.013413Z",
     "shell.execute_reply": "2021-08-05T19:33:28.012295Z",
     "shell.execute_reply.started": "2021-08-05T19:33:28.005610Z"
    }
   },
   "outputs": [
    {
     "data": {
      "text/plain": [
       "Index(['Id', 'MSSubClass', 'LotFrontage', 'LotArea', 'OverallQual',\n",
       "       'OverallCond', 'YearBuilt', 'YearRemodAdd', 'MasVnrArea', 'BsmtFinSF1',\n",
       "       ...\n",
       "       'KitchenQual_Fa', 'KitchenQual_Gd', 'KitchenQual_TA',\n",
       "       'GarageType_Attchd', 'GarageType_Basment', 'GarageType_BuiltIn',\n",
       "       'GarageType_CarPort', 'GarageType_Detchd', 'GarageFinish_RFn',\n",
       "       'GarageFinish_Unf'],\n",
       "      dtype='object', length=142)"
      ]
     },
     "execution_count": 25,
     "metadata": {},
     "output_type": "execute_result"
    }
   ],
   "source": [
    "df_train.columns"
   ]
  },
  {
   "cell_type": "code",
   "execution_count": 26,
   "metadata": {
    "execution": {
     "iopub.execute_input": "2021-08-05T19:33:38.104724Z",
     "iopub.status.busy": "2021-08-05T19:33:38.104370Z",
     "iopub.status.idle": "2021-08-05T19:33:38.111878Z",
     "shell.execute_reply": "2021-08-05T19:33:38.110514Z",
     "shell.execute_reply.started": "2021-08-05T19:33:38.104695Z"
    }
   },
   "outputs": [],
   "source": [
    "df_train.drop(['Id'], inplace=True, axis=1)"
   ]
  },
  {
   "cell_type": "code",
   "execution_count": 27,
   "metadata": {},
   "outputs": [],
   "source": [
    "#selected_features = ['OverallQual','GrLivArea','GarageCars','GarageArea','TotalBsmtSF','1stFlrSF','FullBath','TotRmsAbvGrd','YearBuilt','YearRemodAdd','GarageYrBlt','MasVnrArea','Fireplaces','BsmtFinSF1','LotFrontage','WoodDeckSF','2ndFlrSF','OpenPorchSF','KitchenAbvGr','EnclosedPorch']\n",
    "#df_train[selected_features].corr().style.background_gradient(cmap='coolwarm').set_precision(4)"
   ]
  },
  {
   "cell_type": "code",
   "execution_count": 28,
   "metadata": {},
   "outputs": [],
   "source": [
    "#df_train[selected_features].isnull().sum()"
   ]
  },
  {
   "cell_type": "code",
   "execution_count": 29,
   "metadata": {
    "execution": {
     "iopub.execute_input": "2021-08-05T19:33:50.763971Z",
     "iopub.status.busy": "2021-08-05T19:33:50.763620Z",
     "iopub.status.idle": "2021-08-05T19:33:50.778444Z",
     "shell.execute_reply": "2021-08-05T19:33:50.777228Z",
     "shell.execute_reply.started": "2021-08-05T19:33:50.763941Z"
    }
   },
   "outputs": [
    {
     "data": {
      "text/plain": [
       "141"
      ]
     },
     "execution_count": 29,
     "metadata": {},
     "output_type": "execute_result"
    }
   ],
   "source": [
    "quantative_cols = [c for c in df_train.columns if df_train[c].dtype.name != 'category']\n",
    "len(quantative_cols)"
   ]
  },
  {
   "cell_type": "code",
   "execution_count": 30,
   "metadata": {
    "execution": {
     "iopub.execute_input": "2021-08-05T19:34:09.590738Z",
     "iopub.status.busy": "2021-08-05T19:34:09.590343Z",
     "iopub.status.idle": "2021-08-05T19:34:09.604015Z",
     "shell.execute_reply": "2021-08-05T19:34:09.603137Z",
     "shell.execute_reply.started": "2021-08-05T19:34:09.590705Z"
    }
   },
   "outputs": [
    {
     "data": {
      "text/plain": [
       "LotFrontage             259\n",
       "GarageYrBlt              81\n",
       "MasVnrArea                8\n",
       "GarageFinish_Unf          0\n",
       "Neighborhood_Crawfor      0\n",
       "Neighborhood_Mitchel      0\n",
       "Neighborhood_MeadowV      0\n",
       "Neighborhood_IDOTRR       0\n",
       "Neighborhood_Gilbert      0\n",
       "Neighborhood_Edwards      0\n",
       "Neighborhood_ClearCr      0\n",
       "Neighborhood_CollgCr      0\n",
       "Neighborhood_NPkVill      0\n",
       "Neighborhood_BrkSide      0\n",
       "Neighborhood_BrDale       0\n",
       "Neighborhood_Blueste      0\n",
       "LotShape_Reg              0\n",
       "LotShape_IR3              0\n",
       "Neighborhood_NAmes        0\n",
       "Neighborhood_NWAmes       0\n",
       "SalePrice                 0\n",
       "Neighborhood_NoRidge      0\n",
       "Neighborhood_NridgHt      0\n",
       "Neighborhood_OldTown      0\n",
       "Neighborhood_SWISU        0\n",
       "Neighborhood_Sawyer       0\n",
       "Neighborhood_SawyerW      0\n",
       "Neighborhood_Somerst      0\n",
       "Neighborhood_StoneBr      0\n",
       "Neighborhood_Timber       0\n",
       "                       ... \n",
       "Exterior1st_Wd Sdng       0\n",
       "Exterior1st_VinylSd       0\n",
       "Exterior1st_Stucco        0\n",
       "Exterior1st_Stone         0\n",
       "Exterior1st_MetalSd       0\n",
       "ExterQual_Fa              0\n",
       "Exterior1st_ImStucc       0\n",
       "Exterior1st_HdBoard       0\n",
       "Exterior1st_CemntBd       0\n",
       "Exterior1st_CBlock        0\n",
       "Exterior1st_BrkFace       0\n",
       "Exterior1st_BrkComm       0\n",
       "Exterior2nd_Brk Cmn       0\n",
       "Exterior2nd_BrkFace       0\n",
       "Exterior2nd_CBlock        0\n",
       "Exterior2nd_CmentBd       0\n",
       "Exterior2nd_HdBoard       0\n",
       "Exterior2nd_ImStucc       0\n",
       "Exterior2nd_MetalSd       0\n",
       "Exterior2nd_Other         0\n",
       "Exterior2nd_Plywood       0\n",
       "Exterior2nd_Stone         0\n",
       "Exterior2nd_Stucco        0\n",
       "Exterior2nd_VinylSd       0\n",
       "Exterior2nd_Wd Sdng       0\n",
       "Exterior2nd_Wd Shng       0\n",
       "MasVnrType_BrkFace        0\n",
       "MasVnrType_None           0\n",
       "MasVnrType_Stone          0\n",
       "MSSubClass                0\n",
       "Length: 141, dtype: int64"
      ]
     },
     "execution_count": 30,
     "metadata": {},
     "output_type": "execute_result"
    }
   ],
   "source": [
    "df_train[quantative_cols].isnull().sum().sort_values(ascending=False)"
   ]
  },
  {
   "cell_type": "code",
   "execution_count": 31,
   "metadata": {
    "execution": {
     "iopub.execute_input": "2021-08-05T19:34:44.986013Z",
     "iopub.status.busy": "2021-08-05T19:34:44.985638Z",
     "iopub.status.idle": "2021-08-05T19:34:44.994235Z",
     "shell.execute_reply": "2021-08-05T19:34:44.993122Z",
     "shell.execute_reply.started": "2021-08-05T19:34:44.985983Z"
    }
   },
   "outputs": [],
   "source": [
    "df_train['GarageYrBlt'] = df_train['GarageYrBlt'].fillna(np.mean(df_train['GarageYrBlt']))\n",
    "df_train['LotFrontage'] = df_train['LotFrontage'].fillna(np.mean(df_train['LotFrontage']))\n",
    "df_train['MasVnrArea'] = df_train['MasVnrArea'].fillna(np.mean(df_train['MasVnrArea']))"
   ]
  },
  {
   "cell_type": "code",
   "execution_count": 32,
   "metadata": {
    "execution": {
     "iopub.execute_input": "2021-08-05T20:18:05.401222Z",
     "iopub.status.busy": "2021-08-05T20:18:05.400697Z",
     "iopub.status.idle": "2021-08-05T20:18:05.410602Z",
     "shell.execute_reply": "2021-08-05T20:18:05.409767Z",
     "shell.execute_reply.started": "2021-08-05T20:18:05.401188Z"
    }
   },
   "outputs": [],
   "source": [
    "from sklearn.model_selection import train_test_split\n",
    "X_train, X_val, Y_train, Y_val = train_test_split(df_train.drop('SalePrice', axis=1), df_train['SalePrice'], test_size=0.3, random_state=0)"
   ]
  },
  {
   "cell_type": "code",
   "execution_count": 33,
   "metadata": {
    "execution": {
     "iopub.execute_input": "2021-08-05T20:18:05.972282Z",
     "iopub.status.busy": "2021-08-05T20:18:05.971751Z",
     "iopub.status.idle": "2021-08-05T20:18:05.976107Z",
     "shell.execute_reply": "2021-08-05T20:18:05.975292Z",
     "shell.execute_reply.started": "2021-08-05T20:18:05.972232Z"
    }
   },
   "outputs": [],
   "source": [
    "#X_train = df_train[selected_features]\n",
    "#Y_train = df_train['SalePrice']"
   ]
  },
  {
   "cell_type": "code",
   "execution_count": 34,
   "metadata": {
    "execution": {
     "iopub.execute_input": "2021-08-05T20:18:07.580406Z",
     "iopub.status.busy": "2021-08-05T20:18:07.579790Z",
     "iopub.status.idle": "2021-08-05T20:18:07.749903Z",
     "shell.execute_reply": "2021-08-05T20:18:07.748289Z",
     "shell.execute_reply.started": "2021-08-05T20:18:07.580369Z"
    }
   },
   "outputs": [
    {
     "name": "stderr",
     "output_type": "stream",
     "text": [
      "C:\\Users\\hp\\Anaconda3\\lib\\site-packages\\numpy\\core\\fromnumeric.py:2580: FutureWarning: Method .ptp is deprecated and will be removed in a future version. Use numpy.ptp instead.\n",
      "  return ptp(axis=axis, out=out, **kwargs)\n"
     ]
    },
    {
     "name": "stdout",
     "output_type": "stream",
     "text": [
      "                            OLS Regression Results                            \n",
      "==============================================================================\n",
      "Dep. Variable:              SalePrice   R-squared:                       0.918\n",
      "Model:                            OLS   Adj. R-squared:                  0.905\n",
      "Method:                 Least Squares   F-statistic:                     72.56\n",
      "Date:                Thu, 05 Aug 2021   Prob (F-statistic):               0.00\n",
      "Time:                        22:59:19   Log-Likelihood:                 757.52\n",
      "No. Observations:                1022   AIC:                            -1241.\n",
      "Df Residuals:                     885   BIC:                            -565.7\n",
      "Df Model:                         136                                         \n",
      "Covariance Type:            nonrobust                                         \n",
      "========================================================================================\n",
      "                           coef    std err          t      P>|t|      [0.025      0.975]\n",
      "----------------------------------------------------------------------------------------\n",
      "const                   13.7641      6.514      2.113      0.035       0.980      26.548\n",
      "MSSubClass              -0.0003      0.000     -1.918      0.055      -0.001    7.62e-06\n",
      "LotFrontage              0.0005      0.000      2.111      0.035    3.87e-05       0.001\n",
      "LotArea               1.473e-06   5.14e-07      2.869      0.004    4.66e-07    2.48e-06\n",
      "OverallQual              0.0557      0.006      8.961      0.000       0.044       0.068\n",
      "OverallCond              0.0434      0.005      8.490      0.000       0.033       0.053\n",
      "YearBuilt                0.0014      0.000      2.955      0.003       0.000       0.002\n",
      "YearRemodAdd             0.0006      0.000      1.686      0.092   -9.58e-05       0.001\n",
      "MasVnrArea           -1.538e-05   3.58e-05     -0.430      0.668   -8.56e-05    5.49e-05\n",
      "BsmtFinSF1            2.604e-05   1.83e-05      1.424      0.155   -9.84e-06    6.19e-05\n",
      "BsmtFinSF2            5.753e-05   3.67e-05      1.567      0.118   -1.45e-05       0.000\n",
      "BsmtUnfSF             1.295e-06   1.69e-05      0.076      0.939    -3.2e-05    3.46e-05\n",
      "TotalBsmtSF           8.486e-05   2.21e-05      3.841      0.000    4.15e-05       0.000\n",
      "1stFlrSF              7.587e-05   3.73e-05      2.035      0.042    2.69e-06       0.000\n",
      "2ndFlrSF               5.23e-05   3.34e-05      1.567      0.118   -1.32e-05       0.000\n",
      "LowQualFinSF          -1.66e-05   8.13e-05     -0.204      0.838      -0.000       0.000\n",
      "GrLivArea                0.0001   3.32e-05      3.361      0.001    4.64e-05       0.000\n",
      "BsmtFullBath             0.0294      0.013      2.327      0.020       0.005       0.054\n",
      "BsmtHalfBath             0.0093      0.019      0.476      0.634      -0.029       0.047\n",
      "FullBath                 0.0340      0.014      2.417      0.016       0.006       0.062\n",
      "HalfBath                 0.0446      0.014      3.299      0.001       0.018       0.071\n",
      "BedroomAbvGr             0.0167      0.009      1.949      0.052      -0.000       0.033\n",
      "KitchenAbvGr            -0.0470      0.027     -1.747      0.081      -0.100       0.006\n",
      "TotRmsAbvGrd             0.0104      0.006      1.763      0.078      -0.001       0.022\n",
      "Fireplaces               0.0295      0.008      3.494      0.000       0.013       0.046\n",
      "GarageYrBlt          -6.614e-06      0.000     -0.020      0.984      -0.001       0.001\n",
      "GarageCars               0.0183      0.015      1.239      0.216      -0.011       0.047\n",
      "GarageArea               0.0001    5.2e-05      2.674      0.008     3.7e-05       0.000\n",
      "WoodDeckSF               0.0001   3.62e-05      3.179      0.002     4.4e-05       0.000\n",
      "OpenPorchSF          -1.942e-05   6.77e-05     -0.287      0.774      -0.000       0.000\n",
      "EnclosedPorch         7.724e-05   7.74e-05      0.998      0.319   -7.47e-05       0.000\n",
      "3SsnPorch                0.0001      0.000      0.801      0.423      -0.000       0.000\n",
      "ScreenPorch              0.0002   7.75e-05      3.170      0.002    9.36e-05       0.000\n",
      "PoolArea                 0.0003      0.000      2.018      0.044    7.21e-06       0.001\n",
      "MiscVal              -1.173e-06   7.02e-06     -0.167      0.867    -1.5e-05    1.26e-05\n",
      "MoSold                  -0.0003      0.002     -0.168      0.867      -0.003       0.003\n",
      "YrSold                  -0.0034      0.003     -1.079      0.281      -0.010       0.003\n",
      "LotShape_IR2             0.0466      0.027      1.753      0.080      -0.006       0.099\n",
      "LotShape_IR3             0.0178      0.057      0.314      0.753      -0.093       0.129\n",
      "LotShape_Reg             0.0049      0.010      0.505      0.613      -0.014       0.024\n",
      "Neighborhood_Blueste    -0.1565      0.104     -1.506      0.133      -0.361       0.048\n",
      "Neighborhood_BrDale     -0.1639      0.063     -2.582      0.010      -0.289      -0.039\n",
      "Neighborhood_BrkSide    -0.0358      0.054     -0.668      0.505      -0.141       0.069\n",
      "Neighborhood_ClearCr     0.0094      0.053      0.177      0.860      -0.095       0.114\n",
      "Neighborhood_CollgCr    -0.0141      0.044     -0.318      0.751      -0.101       0.073\n",
      "Neighborhood_Crawfor     0.0981      0.053      1.867      0.062      -0.005       0.201\n",
      "Neighborhood_Edwards    -0.1244      0.049     -2.556      0.011      -0.220      -0.029\n",
      "Neighborhood_Gilbert    -0.0199      0.047     -0.424      0.671      -0.112       0.072\n",
      "Neighborhood_IDOTRR     -0.2756      0.057     -4.854      0.000      -0.387      -0.164\n",
      "Neighborhood_MeadowV    -0.1828      0.066     -2.753      0.006      -0.313      -0.052\n",
      "Neighborhood_Mitchel    -0.0893      0.050     -1.776      0.076      -0.188       0.009\n",
      "Neighborhood_NAmes      -0.0776      0.048     -1.614      0.107      -0.172       0.017\n",
      "Neighborhood_NPkVill    -0.0948      0.081     -1.175      0.240      -0.253       0.064\n",
      "Neighborhood_NWAmes     -0.0709      0.049     -1.443      0.149      -0.167       0.025\n",
      "Neighborhood_NoRidge     0.0634      0.052      1.223      0.222      -0.038       0.165\n",
      "Neighborhood_NridgHt     0.0682      0.048      1.434      0.152      -0.025       0.162\n",
      "Neighborhood_OldTown    -0.1096      0.052     -2.102      0.036      -0.212      -0.007\n",
      "Neighborhood_SWISU      -0.0655      0.060     -1.100      0.272      -0.182       0.051\n",
      "Neighborhood_Sawyer     -0.0901      0.049     -1.824      0.069      -0.187       0.007\n",
      "Neighborhood_SawyerW    -0.0434      0.048     -0.900      0.369      -0.138       0.051\n",
      "Neighborhood_Somerst     0.0494      0.047      1.046      0.296      -0.043       0.142\n",
      "Neighborhood_StoneBr     0.1434      0.054      2.659      0.008       0.038       0.249\n",
      "Neighborhood_Timber     -0.0215      0.050     -0.432      0.666      -0.119       0.076\n",
      "Neighborhood_Veenker     0.0138      0.070      0.196      0.844      -0.124       0.152\n",
      "HouseStyle_1.5Unf       -0.0013      0.045     -0.028      0.977      -0.089       0.086\n",
      "HouseStyle_1Story       -0.0201      0.025     -0.809      0.419      -0.069       0.029\n",
      "HouseStyle_2.5Fin        0.0341      0.078      0.440      0.660      -0.118       0.187\n",
      "HouseStyle_2.5Unf        0.0466      0.053      0.883      0.377      -0.057       0.150\n",
      "HouseStyle_2Story       -0.0308      0.020     -1.516      0.130      -0.071       0.009\n",
      "HouseStyle_SFoyer        0.0163      0.039      0.414      0.679      -0.061       0.094\n",
      "HouseStyle_SLvl         -0.0008      0.032     -0.024      0.981      -0.064       0.063\n",
      "Exterior1st_AsphShn      0.0004      0.069      0.005      0.996      -0.135       0.136\n",
      "Exterior1st_BrkComm     -0.5281      0.182     -2.902      0.004      -0.885      -0.171\n",
      "Exterior1st_BrkFace      0.1116      0.083      1.351      0.177      -0.051       0.274\n",
      "Exterior1st_CBlock       0.0045      0.073      0.061      0.951      -0.139       0.148\n",
      "Exterior1st_CemntBd     -0.0595      0.123     -0.483      0.629      -0.301       0.182\n",
      "Exterior1st_HdBoard      0.0366      0.084      0.434      0.664      -0.129       0.202\n",
      "Exterior1st_ImStucc      0.0200      0.158      0.127      0.899      -0.289       0.329\n",
      "Exterior1st_MetalSd      0.0396      0.104      0.380      0.704      -0.165       0.244\n",
      "Exterior1st_Plywood      0.0463      0.084      0.552      0.581      -0.118       0.211\n",
      "Exterior1st_Stone        0.0002      0.134      0.002      0.999      -0.262       0.263\n",
      "Exterior1st_Stucco       0.0459      0.089      0.515      0.607      -0.129       0.221\n",
      "Exterior1st_VinylSd      0.0302      0.081      0.372      0.710      -0.129       0.190\n",
      "Exterior1st_Wd Sdng     -0.0141      0.080     -0.176      0.860      -0.171       0.143\n",
      "Exterior1st_WdShing      0.0237      0.086      0.274      0.784      -0.146       0.193\n",
      "Exterior2nd_AsphShn      0.0004      0.069      0.005      0.996      -0.135       0.136\n",
      "Exterior2nd_Brk Cmn      0.0272      0.127      0.214      0.830      -0.222       0.276\n",
      "Exterior2nd_BrkFace     -0.0876      0.083     -1.049      0.295      -0.251       0.076\n",
      "Exterior2nd_CBlock       0.0045      0.073      0.061      0.951      -0.139       0.148\n",
      "Exterior2nd_CmentBd      0.0358      0.121      0.295      0.768      -0.202       0.274\n",
      "Exterior2nd_HdBoard     -0.0317      0.078     -0.405      0.685      -0.185       0.122\n",
      "Exterior2nd_ImStucc     -0.0010      0.088     -0.012      0.991      -0.174       0.172\n",
      "Exterior2nd_MetalSd      0.0064      0.100      0.064      0.949      -0.190       0.203\n",
      "Exterior2nd_Other       -0.0720      0.153     -0.470      0.639      -0.373       0.229\n",
      "Exterior2nd_Plywood     -0.0126      0.077     -0.162      0.871      -0.164       0.139\n",
      "Exterior2nd_Stone        0.0028      0.102      0.027      0.978      -0.198       0.203\n",
      "Exterior2nd_Stucco       0.0604      0.084      0.720      0.472      -0.104       0.225\n",
      "Exterior2nd_VinylSd     -0.0046      0.077     -0.060      0.953      -0.155       0.146\n",
      "Exterior2nd_Wd Sdng      0.0366      0.075      0.490      0.624      -0.110       0.183\n",
      "Exterior2nd_Wd Shng     -0.0225      0.078     -0.288      0.773      -0.176       0.131\n",
      "MasVnrType_BrkFace       0.0064      0.043      0.147      0.883      -0.078       0.091\n",
      "MasVnrType_None          0.0013      0.044      0.029      0.977      -0.084       0.087\n",
      "MasVnrType_Stone         0.0170      0.046      0.373      0.709      -0.072       0.106\n",
      "ExterQual_Fa            -0.0303      0.059     -0.512      0.609      -0.146       0.086\n",
      "ExterQual_Gd             0.0310      0.031      0.991      0.322      -0.030       0.093\n",
      "ExterQual_TA             0.0408      0.034      1.190      0.234      -0.026       0.108\n",
      "Foundation_CBlock        0.0579      0.020      2.905      0.004       0.019       0.097\n",
      "Foundation_PConc         0.0673      0.022      3.110      0.002       0.025       0.110\n",
      "Foundation_Slab          0.0271      0.046      0.584      0.559      -0.064       0.118\n",
      "Foundation_Stone         0.1434      0.061      2.332      0.020       0.023       0.264\n",
      "Foundation_Wood          0.0345      0.137      0.251      0.802      -0.235       0.304\n",
      "BsmtQual_Fa             -0.0614      0.040     -1.544      0.123      -0.139       0.017\n",
      "BsmtQual_Gd             -0.0610      0.021     -2.888      0.004      -0.102      -0.020\n",
      "BsmtQual_TA             -0.0634      0.026     -2.393      0.017      -0.115      -0.011\n",
      "BsmtExposure_Gd          0.0433      0.019      2.264      0.024       0.006       0.081\n",
      "BsmtExposure_Mn          0.0027      0.019      0.139      0.889      -0.035       0.040\n",
      "BsmtExposure_No          0.0020      0.014      0.143      0.887      -0.025       0.029\n",
      "BsmtFinType1_BLQ        -0.0068      0.018     -0.386      0.700      -0.041       0.028\n",
      "BsmtFinType1_GLQ        -0.0144      0.016     -0.883      0.378      -0.046       0.018\n",
      "BsmtFinType1_LwQ        -0.0282      0.024     -1.156      0.248      -0.076       0.020\n",
      "BsmtFinType1_Rec        -0.0436      0.019     -2.275      0.023      -0.081      -0.006\n",
      "BsmtFinType1_Unf        -0.0475      0.019     -2.504      0.012      -0.085      -0.010\n",
      "BsmtFinType2_BLQ        -0.0657      0.048     -1.361      0.174      -0.160       0.029\n",
      "BsmtFinType2_GLQ        -0.0351      0.061     -0.576      0.565      -0.155       0.085\n",
      "BsmtFinType2_LwQ        -0.0302      0.047     -0.642      0.521      -0.123       0.062\n",
      "BsmtFinType2_Rec        -0.0262      0.047     -0.561      0.575      -0.118       0.066\n",
      "BsmtFinType2_Unf        -0.0016      0.049     -0.033      0.974      -0.097       0.094\n",
      "HeatingQC_Fa            -0.0690      0.026     -2.630      0.009      -0.120      -0.017\n",
      "HeatingQC_Gd            -0.0187      0.013     -1.432      0.153      -0.044       0.007\n",
      "HeatingQC_Po            -0.0770      0.136     -0.564      0.573      -0.345       0.191\n",
      "HeatingQC_TA            -0.0363      0.013     -2.806      0.005      -0.062      -0.011\n",
      "KitchenQual_Fa          -0.0889      0.038     -2.341      0.019      -0.163      -0.014\n",
      "KitchenQual_Gd          -0.0706      0.022     -3.245      0.001      -0.113      -0.028\n",
      "KitchenQual_TA          -0.0767      0.024     -3.151      0.002      -0.124      -0.029\n",
      "GarageType_Attchd        0.1284      0.060      2.134      0.033       0.010       0.246\n",
      "GarageType_Basment       0.0802      0.070      1.140      0.255      -0.058       0.218\n",
      "GarageType_BuiltIn       0.1052      0.063      1.670      0.095      -0.018       0.229\n",
      "GarageType_CarPort       0.1119      0.088      1.274      0.203      -0.061       0.284\n",
      "GarageType_Detchd        0.1168      0.060      1.956      0.051      -0.000       0.234\n",
      "GarageFinish_RFn        -0.0038      0.013     -0.303      0.762      -0.028       0.021\n",
      "GarageFinish_Unf        -0.0278      0.015     -1.855      0.064      -0.057       0.002\n",
      "==============================================================================\n",
      "Omnibus:                      587.791   Durbin-Watson:                   2.016\n",
      "Prob(Omnibus):                  0.000   Jarque-Bera (JB):            15189.320\n",
      "Skew:                          -2.129   Prob(JB):                         0.00\n",
      "Kurtosis:                      21.400   Cond. No.                     2.15e+16\n",
      "==============================================================================\n",
      "\n",
      "Warnings:\n",
      "[1] Standard Errors assume that the covariance matrix of the errors is correctly specified.\n",
      "[2] The smallest eigenvalue is 5.07e-22. This might indicate that there are\n",
      "strong multicollinearity problems or that the design matrix is singular.\n"
     ]
    }
   ],
   "source": [
    "import statsmodels.api as sm \n",
    "\n",
    "z = sm.add_constant(X_train)\n",
    "results = sm.OLS(Y_train,z).fit()\n",
    "print(results.summary())"
   ]
  },
  {
   "cell_type": "code",
   "execution_count": 35,
   "metadata": {
    "execution": {
     "iopub.execute_input": "2021-08-05T20:18:07.961250Z",
     "iopub.status.busy": "2021-08-05T20:18:07.960873Z",
     "iopub.status.idle": "2021-08-05T20:18:07.967377Z",
     "shell.execute_reply": "2021-08-05T20:18:07.966339Z",
     "shell.execute_reply.started": "2021-08-05T20:18:07.961211Z"
    }
   },
   "outputs": [
    {
     "name": "stdout",
     "output_type": "stream",
     "text": [
      "38\n"
     ]
    }
   ],
   "source": [
    "print((results.pvalues < .05).sum())"
   ]
  },
  {
   "cell_type": "code",
   "execution_count": 36,
   "metadata": {
    "execution": {
     "iopub.execute_input": "2021-08-05T20:18:08.229954Z",
     "iopub.status.busy": "2021-08-05T20:18:08.229592Z",
     "iopub.status.idle": "2021-08-05T20:18:08.234960Z",
     "shell.execute_reply": "2021-08-05T20:18:08.233675Z",
     "shell.execute_reply.started": "2021-08-05T20:18:08.229924Z"
    }
   },
   "outputs": [],
   "source": [
    "selected_features = ['LotFrontage', 'LotArea', 'OverallQual', 'OverallCond', 'YearBuilt', 'TotalBsmtSF', '1stFlrSF', 'GrLivArea', 'BsmtFullBath', 'FullBath', 'HalfBath', 'Fireplaces', 'GarageArea', 'WoodDeckSF', 'ScreenPorch', 'PoolArea', 'Foundation_CBlock', 'Foundation_PConc', 'Foundation_Stone', 'BsmtQual_Fa', 'BsmtQual_Gd', 'BsmtQual_TA', 'KitchenQual_Fa', 'KitchenQual_Gd', 'KitchenQual_TA']"
   ]
  },
  {
   "cell_type": "code",
   "execution_count": 37,
   "metadata": {
    "execution": {
     "iopub.execute_input": "2021-08-05T20:18:08.341201Z",
     "iopub.status.busy": "2021-08-05T20:18:08.340682Z",
     "iopub.status.idle": "2021-08-05T20:18:08.345058Z",
     "shell.execute_reply": "2021-08-05T20:18:08.344021Z",
     "shell.execute_reply.started": "2021-08-05T20:18:08.341134Z"
    }
   },
   "outputs": [],
   "source": [
    "#selected_features = ['OverallQual','GarageCars','TotalBsmtSF','TotRmsAbvGrd','YearRemodAdd','MasVnrArea','Fireplaces','BsmtFinSF1','WoodDeckSF','KitchenAbvGr']"
   ]
  },
  {
   "cell_type": "code",
   "execution_count": 38,
   "metadata": {
    "execution": {
     "iopub.execute_input": "2021-08-05T20:18:10.288246Z",
     "iopub.status.busy": "2021-08-05T20:18:10.287812Z",
     "iopub.status.idle": "2021-08-05T20:18:10.295303Z",
     "shell.execute_reply": "2021-08-05T20:18:10.294260Z",
     "shell.execute_reply.started": "2021-08-05T20:18:10.288202Z"
    }
   },
   "outputs": [],
   "source": [
    "X_train = X_train[selected_features]\n",
    "X_val = X_val[selected_features]"
   ]
  },
  {
   "cell_type": "code",
   "execution_count": 39,
   "metadata": {
    "execution": {
     "iopub.execute_input": "2021-08-05T20:18:11.023971Z",
     "iopub.status.busy": "2021-08-05T20:18:11.023583Z",
     "iopub.status.idle": "2021-08-05T20:18:11.028863Z",
     "shell.execute_reply": "2021-08-05T20:18:11.027416Z",
     "shell.execute_reply.started": "2021-08-05T20:18:11.023935Z"
    }
   },
   "outputs": [],
   "source": [
    "#X_val"
   ]
  },
  {
   "cell_type": "code",
   "execution_count": 40,
   "metadata": {
    "execution": {
     "iopub.execute_input": "2021-08-05T20:18:11.440792Z",
     "iopub.status.busy": "2021-08-05T20:18:11.440441Z",
     "iopub.status.idle": "2021-08-05T20:18:11.444026Z",
     "shell.execute_reply": "2021-08-05T20:18:11.443216Z",
     "shell.execute_reply.started": "2021-08-05T20:18:11.440763Z"
    }
   },
   "outputs": [],
   "source": [
    "#from sklearn.preprocessing import StandardScaler\n",
    "#sc = StandardScaler()\n",
    "#X_train = sc.fit_transform(X_train)\n",
    "#X_val = sc.fit_transform(X_val)"
   ]
  },
  {
   "cell_type": "code",
   "execution_count": 41,
   "metadata": {
    "execution": {
     "iopub.execute_input": "2021-08-05T20:18:12.293112Z",
     "iopub.status.busy": "2021-08-05T20:18:12.292417Z",
     "iopub.status.idle": "2021-08-05T20:18:12.301720Z",
     "shell.execute_reply": "2021-08-05T20:18:12.300440Z",
     "shell.execute_reply.started": "2021-08-05T20:18:12.293076Z"
    }
   },
   "outputs": [
    {
     "data": {
      "text/plain": [
       "(1022, 25)"
      ]
     },
     "execution_count": 41,
     "metadata": {},
     "output_type": "execute_result"
    }
   ],
   "source": [
    "X_train.shape"
   ]
  },
  {
   "cell_type": "code",
   "execution_count": 42,
   "metadata": {
    "execution": {
     "iopub.execute_input": "2021-08-05T20:18:13.758957Z",
     "iopub.status.busy": "2021-08-05T20:18:13.758532Z",
     "iopub.status.idle": "2021-08-05T20:18:13.809615Z",
     "shell.execute_reply": "2021-08-05T20:18:13.808520Z",
     "shell.execute_reply.started": "2021-08-05T20:18:13.758921Z"
    }
   },
   "outputs": [
    {
     "name": "stdout",
     "output_type": "stream",
     "text": [
      "                            OLS Regression Results                            \n",
      "==============================================================================\n",
      "Dep. Variable:              SalePrice   R-squared:                       0.883\n",
      "Model:                            OLS   Adj. R-squared:                  0.880\n",
      "Method:                 Least Squares   F-statistic:                     301.9\n",
      "Date:                Thu, 05 Aug 2021   Prob (F-statistic):               0.00\n",
      "Time:                        22:59:24   Log-Likelihood:                 579.57\n",
      "No. Observations:                1022   AIC:                            -1107.\n",
      "Df Residuals:                     996   BIC:                            -979.0\n",
      "Df Model:                          25                                         \n",
      "Covariance Type:            nonrobust                                         \n",
      "=====================================================================================\n",
      "                        coef    std err          t      P>|t|      [0.025      0.975]\n",
      "-------------------------------------------------------------------------------------\n",
      "const                 5.6256      0.659      8.540      0.000       4.333       6.918\n",
      "LotFrontage           0.0012      0.000      5.069      0.000       0.001       0.002\n",
      "LotArea            1.964e-06   4.72e-07      4.161      0.000    1.04e-06    2.89e-06\n",
      "OverallQual           0.0691      0.006     11.798      0.000       0.058       0.081\n",
      "OverallCond           0.0628      0.005     13.887      0.000       0.054       0.072\n",
      "YearBuilt             0.0025      0.000      7.478      0.000       0.002       0.003\n",
      "TotalBsmtSF           0.0001      2e-05      5.717      0.000    7.51e-05       0.000\n",
      "1stFlrSF           4.577e-05   2.47e-05      1.857      0.064   -2.61e-06    9.42e-05\n",
      "GrLivArea             0.0002   1.89e-05      9.987      0.000       0.000       0.000\n",
      "BsmtFullBath          0.0526      0.009      5.553      0.000       0.034       0.071\n",
      "FullBath              0.0344      0.013      2.551      0.011       0.008       0.061\n",
      "HalfBath              0.0453      0.013      3.443      0.001       0.020       0.071\n",
      "Fireplaces            0.0536      0.008      6.458      0.000       0.037       0.070\n",
      "GarageArea            0.0002   2.88e-05      6.406      0.000       0.000       0.000\n",
      "WoodDeckSF            0.0001   3.73e-05      3.017      0.003    3.93e-05       0.000\n",
      "ScreenPorch           0.0002   8.09e-05      2.962      0.003    8.08e-05       0.000\n",
      "PoolArea              0.0001      0.000      1.121      0.263      -0.000       0.000\n",
      "Foundation_CBlock     0.0021      0.018      0.121      0.904      -0.033       0.037\n",
      "Foundation_PConc      0.0489      0.021      2.320      0.021       0.008       0.090\n",
      "Foundation_Stone      0.0613      0.064      0.951      0.342      -0.065       0.188\n",
      "BsmtQual_Fa          -0.0573      0.041     -1.413      0.158      -0.137       0.022\n",
      "BsmtQual_Gd          -0.0683      0.020     -3.371      0.001      -0.108      -0.029\n",
      "BsmtQual_TA          -0.0816      0.026     -3.183      0.002      -0.132      -0.031\n",
      "KitchenQual_Fa       -0.1040      0.037     -2.834      0.005      -0.176      -0.032\n",
      "KitchenQual_Gd       -0.0453      0.021     -2.135      0.033      -0.087      -0.004\n",
      "KitchenQual_TA       -0.0757      0.023     -3.243      0.001      -0.121      -0.030\n",
      "==============================================================================\n",
      "Omnibus:                      668.388   Durbin-Watson:                   2.008\n",
      "Prob(Omnibus):                  0.000   Jarque-Bera (JB):            23873.233\n",
      "Skew:                          -2.457   Prob(JB):                         0.00\n",
      "Kurtosis:                      26.162   Cond. No.                     2.26e+06\n",
      "==============================================================================\n",
      "\n",
      "Warnings:\n",
      "[1] Standard Errors assume that the covariance matrix of the errors is correctly specified.\n",
      "[2] The condition number is large, 2.26e+06. This might indicate that there are\n",
      "strong multicollinearity or other numerical problems.\n"
     ]
    }
   ],
   "source": [
    "z = sm.add_constant(X_train)\n",
    "results = sm.OLS(Y_train,z).fit()\n",
    "print(results.summary())"
   ]
  },
  {
   "cell_type": "code",
   "execution_count": 43,
   "metadata": {
    "execution": {
     "iopub.execute_input": "2021-08-05T20:22:11.819929Z",
     "iopub.status.busy": "2021-08-05T20:22:11.819545Z",
     "iopub.status.idle": "2021-08-05T20:22:11.828425Z",
     "shell.execute_reply": "2021-08-05T20:22:11.827038Z",
     "shell.execute_reply.started": "2021-08-05T20:22:11.819896Z"
    }
   },
   "outputs": [],
   "source": [
    "X_train.drop(['1stFlrSF', 'PoolArea', 'Foundation_CBlock', 'Foundation_Stone', 'BsmtQual_Fa'], inplace=True, axis=1)\n",
    "X_val.drop(['1stFlrSF', 'PoolArea', 'Foundation_CBlock', 'Foundation_Stone', 'BsmtQual_Fa'], inplace=True, axis=1)"
   ]
  },
  {
   "cell_type": "code",
   "execution_count": 44,
   "metadata": {
    "execution": {
     "iopub.execute_input": "2021-08-05T20:22:39.515629Z",
     "iopub.status.busy": "2021-08-05T20:22:39.515294Z",
     "iopub.status.idle": "2021-08-05T20:22:39.563051Z",
     "shell.execute_reply": "2021-08-05T20:22:39.561990Z",
     "shell.execute_reply.started": "2021-08-05T20:22:39.515600Z"
    }
   },
   "outputs": [
    {
     "name": "stdout",
     "output_type": "stream",
     "text": [
      "                            OLS Regression Results                            \n",
      "==============================================================================\n",
      "Dep. Variable:              SalePrice   R-squared:                       0.883\n",
      "Model:                            OLS   Adj. R-squared:                  0.880\n",
      "Method:                 Least Squares   F-statistic:                     376.2\n",
      "Date:                Thu, 05 Aug 2021   Prob (F-statistic):               0.00\n",
      "Time:                        22:59:25   Log-Likelihood:                 575.95\n",
      "No. Observations:                1022   AIC:                            -1110.\n",
      "Df Residuals:                    1001   BIC:                            -1006.\n",
      "Df Model:                          20                                         \n",
      "Covariance Type:            nonrobust                                         \n",
      "====================================================================================\n",
      "                       coef    std err          t      P>|t|      [0.025      0.975]\n",
      "------------------------------------------------------------------------------------\n",
      "const                5.1381      0.544      9.453      0.000       4.072       6.205\n",
      "LotFrontage          0.0013      0.000      5.426      0.000       0.001       0.002\n",
      "LotArea            1.99e-06   4.72e-07      4.213      0.000    1.06e-06    2.92e-06\n",
      "OverallQual          0.0697      0.006     12.210      0.000       0.059       0.081\n",
      "OverallCond          0.0629      0.004     14.091      0.000       0.054       0.072\n",
      "YearBuilt            0.0027      0.000      9.920      0.000       0.002       0.003\n",
      "TotalBsmtSF          0.0001   1.51e-05      8.994      0.000       0.000       0.000\n",
      "GrLivArea            0.0002   1.68e-05     12.405      0.000       0.000       0.000\n",
      "BsmtFullBath         0.0530      0.009      5.614      0.000       0.034       0.072\n",
      "FullBath             0.0296      0.013      2.220      0.027       0.003       0.056\n",
      "HalfBath             0.0321      0.012      2.738      0.006       0.009       0.055\n",
      "Fireplaces           0.0557      0.008      6.794      0.000       0.040       0.072\n",
      "GarageArea           0.0002   2.86e-05      6.533      0.000       0.000       0.000\n",
      "WoodDeckSF           0.0001   3.71e-05      3.277      0.001    4.87e-05       0.000\n",
      "ScreenPorch          0.0002   8.09e-05      2.968      0.003    8.14e-05       0.000\n",
      "Foundation_PConc     0.0443      0.014      3.251      0.001       0.018       0.071\n",
      "BsmtQual_Gd         -0.0538      0.017     -3.104      0.002      -0.088      -0.020\n",
      "BsmtQual_TA         -0.0571      0.019     -2.936      0.003      -0.095      -0.019\n",
      "KitchenQual_Fa      -0.1068      0.037     -2.918      0.004      -0.179      -0.035\n",
      "KitchenQual_Gd      -0.0502      0.021     -2.387      0.017      -0.091      -0.009\n",
      "KitchenQual_TA      -0.0805      0.023     -3.476      0.001      -0.126      -0.035\n",
      "==============================================================================\n",
      "Omnibus:                      663.816   Durbin-Watson:                   2.000\n",
      "Prob(Omnibus):                  0.000   Jarque-Bera (JB):            23672.752\n",
      "Skew:                          -2.432   Prob(JB):                         0.00\n",
      "Kurtosis:                      26.071   Cond. No.                     1.86e+06\n",
      "==============================================================================\n",
      "\n",
      "Warnings:\n",
      "[1] Standard Errors assume that the covariance matrix of the errors is correctly specified.\n",
      "[2] The condition number is large, 1.86e+06. This might indicate that there are\n",
      "strong multicollinearity or other numerical problems.\n"
     ]
    }
   ],
   "source": [
    "z = sm.add_constant(X_train)\n",
    "results = sm.OLS(Y_train,z).fit()\n",
    "print(results.summary())"
   ]
  },
  {
   "cell_type": "code",
   "execution_count": 45,
   "metadata": {
    "execution": {
     "iopub.execute_input": "2021-08-05T20:22:55.028460Z",
     "iopub.status.busy": "2021-08-05T20:22:55.028103Z",
     "iopub.status.idle": "2021-08-05T20:22:55.039915Z",
     "shell.execute_reply": "2021-08-05T20:22:55.038875Z",
     "shell.execute_reply.started": "2021-08-05T20:22:55.028432Z"
    }
   },
   "outputs": [
    {
     "data": {
      "text/plain": [
       "LinearRegression()"
      ]
     },
     "execution_count": 45,
     "metadata": {},
     "output_type": "execute_result"
    }
   ],
   "source": [
    "from sklearn.linear_model import LinearRegression\n",
    "lm = LinearRegression()\n",
    "lm.fit(X_train,Y_train)"
   ]
  },
  {
   "cell_type": "code",
   "execution_count": 46,
   "metadata": {
    "execution": {
     "iopub.execute_input": "2021-08-05T20:22:55.789638Z",
     "iopub.status.busy": "2021-08-05T20:22:55.789270Z",
     "iopub.status.idle": "2021-08-05T20:22:55.798117Z",
     "shell.execute_reply": "2021-08-05T20:22:55.797250Z",
     "shell.execute_reply.started": "2021-08-05T20:22:55.789609Z"
    }
   },
   "outputs": [],
   "source": [
    "linear_predictions = lm.predict(X_val)"
   ]
  },
  {
   "cell_type": "code",
   "execution_count": 47,
   "metadata": {
    "execution": {
     "iopub.execute_input": "2021-08-05T20:22:59.271967Z",
     "iopub.status.busy": "2021-08-05T20:22:59.271488Z",
     "iopub.status.idle": "2021-08-05T20:22:59.280767Z",
     "shell.execute_reply": "2021-08-05T20:22:59.279697Z",
     "shell.execute_reply.started": "2021-08-05T20:22:59.271931Z"
    }
   },
   "outputs": [
    {
     "name": "stdout",
     "output_type": "stream",
     "text": [
      "MAE: 0.09764695542601919\n",
      "MSE: 0.034903360832531365\n",
      "RMSE: 0.1868244117681931\n"
     ]
    }
   ],
   "source": [
    "from sklearn import metrics\n",
    "print('MAE:', metrics.mean_absolute_error(Y_val, linear_predictions))\n",
    "print('MSE:', metrics.mean_squared_error(Y_val, linear_predictions))\n",
    "print('RMSE:', np.sqrt(metrics.mean_squared_error(Y_val, linear_predictions)))\n",
    "lm_RMSE=np.sqrt(metrics.mean_squared_error(Y_val, linear_predictions))"
   ]
  },
  {
   "cell_type": "code",
   "execution_count": 48,
   "metadata": {
    "execution": {
     "iopub.execute_input": "2021-08-05T20:23:05.712858Z",
     "iopub.status.busy": "2021-08-05T20:23:05.712313Z",
     "iopub.status.idle": "2021-08-05T20:23:05.720397Z",
     "shell.execute_reply": "2021-08-05T20:23:05.719460Z",
     "shell.execute_reply.started": "2021-08-05T20:23:05.712810Z"
    }
   },
   "outputs": [
    {
     "data": {
      "text/plain": [
       "0.7741018690986852"
      ]
     },
     "execution_count": 48,
     "metadata": {},
     "output_type": "execute_result"
    }
   ],
   "source": [
    "from sklearn.metrics import r2_score\n",
    "r2_score(Y_val, linear_predictions)"
   ]
  },
  {
   "cell_type": "code",
   "execution_count": 49,
   "metadata": {
    "execution": {
     "iopub.execute_input": "2021-08-05T20:23:12.249646Z",
     "iopub.status.busy": "2021-08-05T20:23:12.249074Z",
     "iopub.status.idle": "2021-08-05T20:23:12.444568Z",
     "shell.execute_reply": "2021-08-05T20:23:12.443475Z",
     "shell.execute_reply.started": "2021-08-05T20:23:12.249602Z"
    }
   },
   "outputs": [
    {
     "data": {
      "image/png": "[encoded data removed]",
      "text/plain": [
       "<Figure size 1080x576 with 1 Axes>"
      ]
     },
     "metadata": {
      "needs_background": "light"
     },
     "output_type": "display_data"
    }
   ],
   "source": [
    "plt.figure(figsize=(15,8))\n",
    "plt.scatter(Y_val,linear_predictions)\n",
    "plt.xlabel('Y Test')\n",
    "plt.ylabel('Predicted Y')\n",
    "plt.show()"
   ]
  },
  {
   "cell_type": "code",
   "execution_count": 50,
   "metadata": {
    "execution": {
     "iopub.execute_input": "2021-08-05T20:25:02.934288Z",
     "iopub.status.busy": "2021-08-05T20:25:02.933885Z",
     "iopub.status.idle": "2021-08-05T20:25:02.964918Z",
     "shell.execute_reply": "2021-08-05T20:25:02.963776Z",
     "shell.execute_reply.started": "2021-08-05T20:25:02.934251Z"
    }
   },
   "outputs": [
    {
     "name": "stdout",
     "output_type": "stream",
     "text": [
      "<class 'pandas.core.frame.DataFrame'>\n",
      "RangeIndex: 1459 entries, 0 to 1458\n",
      "Data columns (total 80 columns):\n",
      "Id               1459 non-null int64\n",
      "MSSubClass       1459 non-null int64\n",
      "MSZoning         1455 non-null object\n",
      "LotFrontage      1232 non-null float64\n",
      "LotArea          1459 non-null int64\n",
      "Street           1459 non-null object\n",
      "Alley            107 non-null object\n",
      "LotShape         1459 non-null object\n",
      "LandContour      1459 non-null object\n",
      "Utilities        1457 non-null object\n",
      "LotConfig        1459 non-null object\n",
      "LandSlope        1459 non-null object\n",
      "Neighborhood     1459 non-null object\n",
      "Condition1       1459 non-null object\n",
      "Condition2       1459 non-null object\n",
      "BldgType         1459 non-null object\n",
      "HouseStyle       1459 non-null object\n",
      "OverallQual      1459 non-null int64\n",
      "OverallCond      1459 non-null int64\n",
      "YearBuilt        1459 non-null int64\n",
      "YearRemodAdd     1459 non-null int64\n",
      "RoofStyle        1459 non-null object\n",
      "RoofMatl         1459 non-null object\n",
      "Exterior1st      1458 non-null object\n",
      "Exterior2nd      1458 non-null object\n",
      "MasVnrType       1443 non-null object\n",
      "MasVnrArea       1444 non-null float64\n",
      "ExterQual        1459 non-null object\n",
      "ExterCond        1459 non-null object\n",
      "Foundation       1459 non-null object\n",
      "BsmtQual         1415 non-null object\n",
      "BsmtCond         1414 non-null object\n",
      "BsmtExposure     1415 non-null object\n",
      "BsmtFinType1     1417 non-null object\n",
      "BsmtFinSF1       1458 non-null float64\n",
      "BsmtFinType2     1417 non-null object\n",
      "BsmtFinSF2       1458 non-null float64\n",
      "BsmtUnfSF        1458 non-null float64\n",
      "TotalBsmtSF      1458 non-null float64\n",
      "Heating          1459 non-null object\n",
      "HeatingQC        1459 non-null object\n",
      "CentralAir       1459 non-null object\n",
      "Electrical       1459 non-null object\n",
      "1stFlrSF         1459 non-null int64\n",
      "2ndFlrSF         1459 non-null int64\n",
      "LowQualFinSF     1459 non-null int64\n",
      "GrLivArea        1459 non-null int64\n",
      "BsmtFullBath     1457 non-null float64\n",
      "BsmtHalfBath     1457 non-null float64\n",
      "FullBath         1459 non-null int64\n",
      "HalfBath         1459 non-null int64\n",
      "BedroomAbvGr     1459 non-null int64\n",
      "KitchenAbvGr     1459 non-null int64\n",
      "KitchenQual      1458 non-null object\n",
      "TotRmsAbvGrd     1459 non-null int64\n",
      "Functional       1457 non-null object\n",
      "Fireplaces       1459 non-null int64\n",
      "FireplaceQu      729 non-null object\n",
      "GarageType       1383 non-null object\n",
      "GarageYrBlt      1381 non-null float64\n",
      "GarageFinish     1381 non-null object\n",
      "GarageCars       1458 non-null float64\n",
      "GarageArea       1458 non-null float64\n",
      "GarageQual       1381 non-null object\n",
      "GarageCond       1381 non-null object\n",
      "PavedDrive       1459 non-null object\n",
      "WoodDeckSF       1459 non-null int64\n",
      "OpenPorchSF      1459 non-null int64\n",
      "EnclosedPorch    1459 non-null int64\n",
      "3SsnPorch        1459 non-null int64\n",
      "ScreenPorch      1459 non-null int64\n",
      "PoolArea         1459 non-null int64\n",
      "PoolQC           3 non-null object\n",
      "Fence            290 non-null object\n",
      "MiscFeature      51 non-null object\n",
      "MiscVal          1459 non-null int64\n",
      "MoSold           1459 non-null int64\n",
      "YrSold           1459 non-null int64\n",
      "SaleType         1458 non-null object\n",
      "SaleCondition    1459 non-null object\n",
      "dtypes: float64(11), int64(26), object(43)\n",
      "memory usage: 912.0+ KB\n"
     ]
    }
   ],
   "source": [
    "df_test.info()"
   ]
  },
  {
   "cell_type": "code",
   "execution_count": 51,
   "metadata": {
    "execution": {
     "iopub.execute_input": "2021-08-05T20:26:56.153887Z",
     "iopub.status.busy": "2021-08-05T20:26:56.153484Z",
     "iopub.status.idle": "2021-08-05T20:26:56.160222Z",
     "shell.execute_reply": "2021-08-05T20:26:56.159453Z",
     "shell.execute_reply.started": "2021-08-05T20:26:56.153856Z"
    }
   },
   "outputs": [],
   "source": [
    "# drop 'PoolQC', 'MiscFeature', 'Alley', 'Fence', 'FireplaceQu'\n",
    "df_test.drop(['PoolQC', 'MiscFeature', 'Alley', 'Fence', 'FireplaceQu'], inplace=True, axis=1)"
   ]
  },
  {
   "cell_type": "code",
   "execution_count": 52,
   "metadata": {
    "execution": {
     "iopub.execute_input": "2021-08-05T20:26:04.025826Z",
     "iopub.status.busy": "2021-08-05T20:26:04.025478Z",
     "iopub.status.idle": "2021-08-05T20:26:04.081914Z",
     "shell.execute_reply": "2021-08-05T20:26:04.080949Z",
     "shell.execute_reply.started": "2021-08-05T20:26:04.025795Z"
    }
   },
   "outputs": [],
   "source": [
    "qualitative_cols = [c for c in df_test.columns if df_test[c].dtype == object]\n",
    "quantative_cols = [c for c in df_test.columns if df_test[c].dtype != object]\n",
    "for c in qualitative_cols:\n",
    "    df_test[c] = df_test[c].astype('category')"
   ]
  },
  {
   "cell_type": "code",
   "execution_count": 53,
   "metadata": {
    "execution": {
     "iopub.execute_input": "2021-08-05T20:27:35.733015Z",
     "iopub.status.busy": "2021-08-05T20:27:35.732666Z",
     "iopub.status.idle": "2021-08-05T20:27:35.740790Z",
     "shell.execute_reply": "2021-08-05T20:27:35.739544Z",
     "shell.execute_reply.started": "2021-08-05T20:27:35.732985Z"
    }
   },
   "outputs": [],
   "source": [
    "# drop unbalanced categorical columns\n",
    "unbalanced_columns = ['MSZoning', 'Street', 'LandContour', 'Utilities', 'LotConfig', 'LandSlope', 'Condition1', 'Condition2', 'BldgType', 'RoofStyle', 'RoofMatl', 'ExterCond', 'BsmtCond', 'Heating', 'CentralAir', 'Electrical', 'Functional', 'GarageQual', 'GarageCond', 'PavedDrive', 'SaleType', 'SaleCondition']\n",
    "df_test.drop(unbalanced_columns, axis=1, inplace=True)"
   ]
  },
  {
   "cell_type": "code",
   "execution_count": 54,
   "metadata": {
    "execution": {
     "iopub.execute_input": "2021-08-05T20:30:10.067407Z",
     "iopub.status.busy": "2021-08-05T20:30:10.066998Z",
     "iopub.status.idle": "2021-08-05T20:30:10.077264Z",
     "shell.execute_reply": "2021-08-05T20:30:10.076090Z",
     "shell.execute_reply.started": "2021-08-05T20:30:10.067372Z"
    }
   },
   "outputs": [],
   "source": [
    "# updating columns \n",
    "qualitative_cols = [c for c in df_test.columns if df_test[c].dtype.name == 'category']\n",
    "quantative_cols = [c for c in df_test.columns if df_test[c].dtype.name != 'category']"
   ]
  },
  {
   "cell_type": "code",
   "execution_count": 55,
   "metadata": {
    "execution": {
     "iopub.execute_input": "2021-08-05T20:30:11.326720Z",
     "iopub.status.busy": "2021-08-05T20:30:11.326318Z",
     "iopub.status.idle": "2021-08-05T20:30:11.351579Z",
     "shell.execute_reply": "2021-08-05T20:30:11.350716Z",
     "shell.execute_reply.started": "2021-08-05T20:30:11.326676Z"
    }
   },
   "outputs": [],
   "source": [
    "# fill null values for categorical features with mode\n",
    "for col in qualitative_cols:\n",
    "    df_test[col] = df_test[col].fillna(df_test[col].mode()[0])"
   ]
  },
  {
   "cell_type": "code",
   "execution_count": 56,
   "metadata": {
    "execution": {
     "iopub.execute_input": "2021-08-05T20:30:54.758186Z",
     "iopub.status.busy": "2021-08-05T20:30:54.757817Z",
     "iopub.status.idle": "2021-08-05T20:30:54.800936Z",
     "shell.execute_reply": "2021-08-05T20:30:54.799946Z",
     "shell.execute_reply.started": "2021-08-05T20:30:54.758132Z"
    }
   },
   "outputs": [
    {
     "name": "stdout",
     "output_type": "stream",
     "text": [
      "(1459, 100)\n"
     ]
    },
    {
     "data": {
      "text/plain": [
       "LotShape_IR2            0\n",
       "BsmtQual_TA             0\n",
       "BsmtQual_Gd             0\n",
       "BsmtQual_Fa             0\n",
       "Foundation_Wood         0\n",
       "Foundation_Stone        0\n",
       "Foundation_Slab         0\n",
       "Foundation_PConc        0\n",
       "Foundation_CBlock       0\n",
       "ExterQual_TA            0\n",
       "ExterQual_Gd            0\n",
       "ExterQual_Fa            0\n",
       "MasVnrType_Stone        0\n",
       "MasVnrType_None         0\n",
       "MasVnrType_BrkFace      0\n",
       "Exterior2nd_Wd Shng     0\n",
       "Exterior2nd_Wd Sdng     0\n",
       "Exterior2nd_VinylSd     0\n",
       "Exterior2nd_Stucco      0\n",
       "Exterior2nd_Stone       0\n",
       "Exterior2nd_Plywood     0\n",
       "Exterior2nd_MetalSd     0\n",
       "BsmtExposure_Gd         0\n",
       "BsmtExposure_Mn         0\n",
       "BsmtExposure_No         0\n",
       "BsmtFinType1_BLQ        0\n",
       "GarageFinish_RFn        0\n",
       "GarageType_Detchd       0\n",
       "GarageType_CarPort      0\n",
       "GarageType_BuiltIn      0\n",
       "                       ..\n",
       "LotShape_Reg            0\n",
       "LotShape_IR3            0\n",
       "Neighborhood_SawyerW    0\n",
       "Neighborhood_Somerst    0\n",
       "Neighborhood_StoneBr    0\n",
       "Neighborhood_Timber     0\n",
       "Exterior2nd_BrkFace     0\n",
       "Exterior2nd_Brk Cmn     0\n",
       "Exterior2nd_AsphShn     0\n",
       "Exterior1st_WdShing     0\n",
       "Exterior1st_Wd Sdng     0\n",
       "Exterior1st_VinylSd     0\n",
       "Exterior1st_Stucco      0\n",
       "Exterior1st_Plywood     0\n",
       "Exterior1st_MetalSd     0\n",
       "Exterior1st_HdBoard     0\n",
       "Exterior2nd_CmentBd     0\n",
       "Exterior1st_CemntBd     0\n",
       "Exterior1st_BrkFace     0\n",
       "Exterior1st_BrkComm     0\n",
       "Exterior1st_AsphShn     0\n",
       "HouseStyle_SLvl         0\n",
       "HouseStyle_SFoyer       0\n",
       "HouseStyle_2Story       0\n",
       "HouseStyle_2.5Unf       0\n",
       "HouseStyle_1Story       0\n",
       "HouseStyle_1.5Unf       0\n",
       "Neighborhood_Veenker    0\n",
       "Exterior1st_CBlock      0\n",
       "Id                      0\n",
       "Length: 101, dtype: int64"
      ]
     },
     "execution_count": 56,
     "metadata": {},
     "output_type": "execute_result"
    }
   ],
   "source": [
    "x_dummy = pd.get_dummies(data=df_test[qualitative_cols],drop_first=True)\n",
    "print(x_dummy.shape)\n",
    "x_dummy['Id'] = df_test['Id']\n",
    "x_dummy.isnull().sum().sort_values()"
   ]
  },
  {
   "cell_type": "code",
   "execution_count": 57,
   "metadata": {
    "execution": {
     "iopub.execute_input": "2021-08-05T20:31:46.307401Z",
     "iopub.status.busy": "2021-08-05T20:31:46.307006Z",
     "iopub.status.idle": "2021-08-05T20:31:46.325994Z",
     "shell.execute_reply": "2021-08-05T20:31:46.325261Z",
     "shell.execute_reply.started": "2021-08-05T20:31:46.307363Z"
    }
   },
   "outputs": [
    {
     "name": "stdout",
     "output_type": "stream",
     "text": [
      "(1459, 153)\n"
     ]
    }
   ],
   "source": [
    "df_test = df_test.merge(x_dummy)\n",
    "print(df_test.shape)"
   ]
  },
  {
   "cell_type": "code",
   "execution_count": 58,
   "metadata": {
    "execution": {
     "iopub.execute_input": "2021-08-05T20:32:49.489206Z",
     "iopub.status.busy": "2021-08-05T20:32:49.488802Z",
     "iopub.status.idle": "2021-08-05T20:32:49.505760Z",
     "shell.execute_reply": "2021-08-05T20:32:49.504633Z",
     "shell.execute_reply.started": "2021-08-05T20:32:49.489173Z"
    }
   },
   "outputs": [
    {
     "data": {
      "text/plain": [
       "[]"
      ]
     },
     "execution_count": 58,
     "metadata": {},
     "output_type": "execute_result"
    }
   ],
   "source": [
    "df_test.drop(qualitative_cols, inplace=True, axis=1)\n",
    "qualitative_cols = [c for c in df_test.columns if df_test[c].dtype.name == 'category']\n",
    "qualitative_cols"
   ]
  },
  {
   "cell_type": "code",
   "execution_count": 59,
   "metadata": {
    "execution": {
     "iopub.execute_input": "2021-08-05T20:33:57.285538Z",
     "iopub.status.busy": "2021-08-05T20:33:57.285199Z",
     "iopub.status.idle": "2021-08-05T20:33:57.298510Z",
     "shell.execute_reply": "2021-08-05T20:33:57.297791Z",
     "shell.execute_reply.started": "2021-08-05T20:33:57.285509Z"
    }
   },
   "outputs": [
    {
     "data": {
      "text/plain": [
       "141"
      ]
     },
     "execution_count": 59,
     "metadata": {},
     "output_type": "execute_result"
    }
   ],
   "source": [
    "quantative_cols = [c for c in df_train.columns if df_train[c].dtype.name != 'category']\n",
    "len(quantative_cols)"
   ]
  },
  {
   "cell_type": "code",
   "execution_count": 60,
   "metadata": {
    "execution": {
     "iopub.execute_input": "2021-08-05T20:47:13.864783Z",
     "iopub.status.busy": "2021-08-05T20:47:13.864264Z",
     "iopub.status.idle": "2021-08-05T20:47:13.874607Z",
     "shell.execute_reply": "2021-08-05T20:47:13.873831Z",
     "shell.execute_reply.started": "2021-08-05T20:47:13.864751Z"
    }
   },
   "outputs": [
    {
     "data": {
      "text/plain": [
       "LotFrontage             227\n",
       "GarageYrBlt              78\n",
       "MasVnrArea               15\n",
       "BsmtHalfBath              2\n",
       "BsmtFullBath              2\n",
       "BsmtFinSF1                1\n",
       "GarageCars                1\n",
       "GarageArea                1\n",
       "TotalBsmtSF               1\n",
       "BsmtUnfSF                 1\n",
       "BsmtFinSF2                1\n",
       "Neighborhood_NPkVill      0\n",
       "Neighborhood_Edwards      0\n",
       "Neighborhood_Crawfor      0\n",
       "Neighborhood_Gilbert      0\n",
       "Neighborhood_IDOTRR       0\n",
       "Neighborhood_MeadowV      0\n",
       "Neighborhood_CollgCr      0\n",
       "Neighborhood_ClearCr      0\n",
       "Neighborhood_BrkSide      0\n",
       "Neighborhood_BrDale       0\n",
       "Neighborhood_Mitchel      0\n",
       "Neighborhood_NAmes        0\n",
       "GarageFinish_Unf          0\n",
       "Neighborhood_NWAmes       0\n",
       "Neighborhood_NoRidge      0\n",
       "Neighborhood_NridgHt      0\n",
       "LotShape_Reg              0\n",
       "Neighborhood_OldTown      0\n",
       "Neighborhood_SWISU        0\n",
       "                       ... \n",
       "Exterior1st_BrkComm       0\n",
       "Exterior1st_BrkFace       0\n",
       "Exterior1st_CBlock        0\n",
       "Exterior1st_CemntBd       0\n",
       "Exterior1st_HdBoard       0\n",
       "Exterior1st_MetalSd       0\n",
       "Exterior1st_Plywood       0\n",
       "Exterior1st_Stucco        0\n",
       "Exterior1st_VinylSd       0\n",
       "Exterior1st_Wd Sdng       0\n",
       "Exterior1st_WdShing       0\n",
       "Exterior2nd_AsphShn       0\n",
       "Exterior2nd_Brk Cmn       0\n",
       "Exterior2nd_CBlock        0\n",
       "ExterQual_Gd              0\n",
       "Exterior2nd_CmentBd       0\n",
       "Exterior2nd_HdBoard       0\n",
       "Exterior2nd_ImStucc       0\n",
       "Exterior2nd_MetalSd       0\n",
       "Exterior2nd_Plywood       0\n",
       "Exterior2nd_Stone         0\n",
       "Exterior2nd_Stucco        0\n",
       "Exterior2nd_VinylSd       0\n",
       "Exterior2nd_Wd Sdng       0\n",
       "Exterior2nd_Wd Shng       0\n",
       "MasVnrType_BrkFace        0\n",
       "MasVnrType_None           0\n",
       "MasVnrType_Stone          0\n",
       "ExterQual_Fa              0\n",
       "Id                        0\n",
       "Length: 137, dtype: int64"
      ]
     },
     "execution_count": 60,
     "metadata": {},
     "output_type": "execute_result"
    }
   ],
   "source": [
    "df_test.isnull().sum().sort_values(ascending=False)"
   ]
  },
  {
   "cell_type": "code",
   "execution_count": 61,
   "metadata": {
    "execution": {
     "iopub.execute_input": "2021-08-05T20:48:31.494761Z",
     "iopub.status.busy": "2021-08-05T20:48:31.494407Z",
     "iopub.status.idle": "2021-08-05T20:48:31.532201Z",
     "shell.execute_reply": "2021-08-05T20:48:31.531386Z",
     "shell.execute_reply.started": "2021-08-05T20:48:31.494732Z"
    }
   },
   "outputs": [],
   "source": [
    "df_test.fillna(np.mean(df_test, axis=0), inplace=True)"
   ]
  },
  {
   "cell_type": "code",
   "execution_count": 62,
   "metadata": {
    "execution": {
     "iopub.execute_input": "2021-08-05T20:48:35.263268Z",
     "iopub.status.busy": "2021-08-05T20:48:35.262683Z",
     "iopub.status.idle": "2021-08-05T20:48:35.269528Z",
     "shell.execute_reply": "2021-08-05T20:48:35.268629Z",
     "shell.execute_reply.started": "2021-08-05T20:48:35.263219Z"
    }
   },
   "outputs": [],
   "source": [
    "X_test = df_test[selected_features]"
   ]
  },
  {
   "cell_type": "code",
   "execution_count": 63,
   "metadata": {
    "execution": {
     "iopub.execute_input": "2021-08-05T20:48:37.880397Z",
     "iopub.status.busy": "2021-08-05T20:48:37.879823Z",
     "iopub.status.idle": "2021-08-05T20:48:37.888103Z",
     "shell.execute_reply": "2021-08-05T20:48:37.887060Z",
     "shell.execute_reply.started": "2021-08-05T20:48:37.880346Z"
    }
   },
   "outputs": [
    {
     "name": "stderr",
     "output_type": "stream",
     "text": [
      "C:\\Users\\hp\\Anaconda3\\lib\\site-packages\\pandas\\core\\frame.py:3940: SettingWithCopyWarning: \n",
      "A value is trying to be set on a copy of a slice from a DataFrame\n",
      "\n",
      "See the caveats in the documentation: http://pandas.pydata.org/pandas-docs/stable/indexing.html#indexing-view-versus-copy\n",
      "  errors=errors)\n"
     ]
    }
   ],
   "source": [
    "X_test.drop(['1stFlrSF', 'PoolArea', 'Foundation_CBlock', 'Foundation_Stone', 'BsmtQual_Fa'], inplace=True, axis=1)"
   ]
  },
  {
   "cell_type": "code",
   "execution_count": 64,
   "metadata": {
    "execution": {
     "iopub.execute_input": "2021-08-05T20:48:43.950214Z",
     "iopub.status.busy": "2021-08-05T20:48:43.949647Z",
     "iopub.status.idle": "2021-08-05T20:48:43.961822Z",
     "shell.execute_reply": "2021-08-05T20:48:43.960405Z",
     "shell.execute_reply.started": "2021-08-05T20:48:43.950165Z"
    }
   },
   "outputs": [],
   "source": [
    "linear_predictions_test = lm.predict(X_test)"
   ]
  },
  {
   "cell_type": "code",
   "execution_count": 65,
   "metadata": {
    "execution": {
     "iopub.execute_input": "2021-08-05T20:48:52.744469Z",
     "iopub.status.busy": "2021-08-05T20:48:52.744118Z",
     "iopub.status.idle": "2021-08-05T20:48:52.749947Z",
     "shell.execute_reply": "2021-08-05T20:48:52.748824Z",
     "shell.execute_reply.started": "2021-08-05T20:48:52.744439Z"
    }
   },
   "outputs": [
    {
     "data": {
      "text/plain": [
       "array([11.75879474, 11.96399361, 12.04905316, ..., 12.14427097,\n",
       "       11.65021939, 12.28443104])"
      ]
     },
     "execution_count": 65,
     "metadata": {},
     "output_type": "execute_result"
    }
   ],
   "source": [
    "linear_predictions_test"
   ]
  },
  {
   "cell_type": "code",
   "execution_count": 68,
   "metadata": {
    "execution": {
     "iopub.execute_input": "2021-08-05T20:51:14.886260Z",
     "iopub.status.busy": "2021-08-05T20:51:14.885879Z",
     "iopub.status.idle": "2021-08-05T20:51:14.902249Z",
     "shell.execute_reply": "2021-08-05T20:51:14.901112Z",
     "shell.execute_reply.started": "2021-08-05T20:51:14.886230Z"
    }
   },
   "outputs": [],
   "source": [
    "final_test_data= pd.DataFrame()\n",
    "final_test_data['Id'] = df_test.Id.astype(\"int32\")\n",
    "final_test_data['SalePrice'] = np.e**linear_predictions_test -1\n",
    "final_test_data.to_csv('submission.csv', index=False)"
   ]
  },
  {
   "cell_type": "code",
   "execution_count": null,
   "metadata": {},
   "outputs": [],
   "source": [
    "#X_test = df_test[selected_features]\n",
    "#X_test = X_test.fillna(np.mean(X_test, axis=0))"
   ]
  },
  {
   "cell_type": "code",
   "execution_count": 67,
   "metadata": {},
   "outputs": [],
   "source": [
    "#y_test_predicted = lm.predict(X_test)\n",
    "\n",
    "#df_test['SalePrice'] = y_test_predicted\n",
    "\n",
    "#df_test.head()"
   ]
  },
  {
   "cell_type": "code",
   "execution_count": null,
   "metadata": {},
   "outputs": [],
   "source": [
    "#df_test[['Id', 'SalePrice']].to_csv('/kaggle/working/submission.csv', index=False)"
   ]
  },
  {
   "cell_type": "code",
   "execution_count": null,
   "metadata": {},
   "outputs": [],
   "source": []
  }
 ],
 "metadata": {
  "kernelspec": {
   "display_name": "Python 3",
   "language": "python",
   "name": "python3"
  },
  "language_info": {
   "codemirror_mode": {
    "name": "ipython",
    "version": 3
   },
   "file_extension": ".py",
   "mimetype": "text/x-python",
   "name": "python",
   "nbconvert_exporter": "python",
   "pygments_lexer": "ipython3",
   "version": "3.7.3"
  }
 },
 "nbformat": 4,
 "nbformat_minor": 4
}
